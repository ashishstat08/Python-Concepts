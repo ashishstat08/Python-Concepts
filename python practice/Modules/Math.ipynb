{
 "cells": [
  {
   "cell_type": "markdown",
   "metadata": {},
   "source": [
    "#Modules"
   ]
  },
  {
   "cell_type": "code",
   "execution_count": 43,
   "metadata": {},
   "outputs": [
    {
     "data": {
      "text/plain": [
       "['__doc__',\n",
       " '__loader__',\n",
       " '__name__',\n",
       " '__package__',\n",
       " '__spec__',\n",
       " 'acos',\n",
       " 'acosh',\n",
       " 'asin',\n",
       " 'asinh',\n",
       " 'atan',\n",
       " 'atan2',\n",
       " 'atanh',\n",
       " 'ceil',\n",
       " 'copysign',\n",
       " 'cos',\n",
       " 'cosh',\n",
       " 'degrees',\n",
       " 'e',\n",
       " 'erf',\n",
       " 'erfc',\n",
       " 'exp',\n",
       " 'expm1',\n",
       " 'fabs',\n",
       " 'factorial',\n",
       " 'floor',\n",
       " 'fmod',\n",
       " 'frexp',\n",
       " 'fsum',\n",
       " 'gamma',\n",
       " 'gcd',\n",
       " 'hypot',\n",
       " 'inf',\n",
       " 'isclose',\n",
       " 'isfinite',\n",
       " 'isinf',\n",
       " 'isnan',\n",
       " 'ldexp',\n",
       " 'lgamma',\n",
       " 'log',\n",
       " 'log10',\n",
       " 'log1p',\n",
       " 'log2',\n",
       " 'modf',\n",
       " 'nan',\n",
       " 'pi',\n",
       " 'pow',\n",
       " 'radians',\n",
       " 'remainder',\n",
       " 'sin',\n",
       " 'sinh',\n",
       " 'sqrt',\n",
       " 'tan',\n",
       " 'tanh',\n",
       " 'tau',\n",
       " 'trunc']"
      ]
     },
     "execution_count": 43,
     "metadata": {},
     "output_type": "execute_result"
    }
   ],
   "source": [
    "#----------math----------#\n",
    "from math import *\n"
   ]
  },
  {
   "cell_type": "code",
   "execution_count": 158,
   "metadata": {},
   "outputs": [
    {
     "data": {
      "text/plain": [
       "True"
      ]
     },
     "execution_count": 158,
     "metadata": {},
     "output_type": "execute_result"
    }
   ],
   "source": [
    "#copysign\n",
    "copysign(4,-3)\n",
    "\n",
    "#degree- it gives the degree 1 degree = 57 radian\n",
    "degrees(1)\n",
    "\n",
    "#e-eulers number\n",
    "e\n",
    "\n",
    "#erf and erfc both returns the error function\n",
    "\n",
    "#exp- it gives the x^y\n",
    "exp(3)\n",
    "\n",
    "#expm1- it is used as exp(x)-1\n",
    "expm1(3)\n",
    "\n",
    "#fabs and abs\n",
    "abs(10)\n",
    "fabs(10)\n",
    "\n",
    "#floor \n",
    "floor(3.63)\n",
    "ceil(3.68)\n",
    "\n",
    "#fmod\n",
    "fmod(23,5)\n",
    "23//5\n",
    "\n",
    "#frexp\n",
    "frexp(5)\n",
    "\n",
    "#fsum-it is used to find the sum of some range,array,list,tuple\n",
    "arr=[1,2,3,4,5,6]\n",
    "fsum(arr)\n",
    "\n",
    "#gcd is the hcf and it is a greatest common factor\n",
    "gcd(20,gcd(20,gcd(30,35)))\n",
    "\n",
    "#hypot- it is used to calculate the euclidean distance \n",
    "hypot(3,3)\n",
    "#isclose\n",
    "\n",
    "isclose(2.33333,2.003333,abs_tol=0.43333)\n",
    "\n",
    "# to take square for more than one\n",
    "def sqr(*value):\n",
    "    lis=[]\n",
    "    for i in value:\n",
    "        lis.append(sqrt(i))\n",
    "    return lis\n",
    "\n",
    "sqr(2,3,4,6)\n"
   ]
  },
  {
   "cell_type": "code",
   "execution_count": 20,
   "metadata": {},
   "outputs": [
    {
     "data": {
      "text/plain": [
       "0.47712125471966244"
      ]
     },
     "execution_count": 20,
     "metadata": {},
     "output_type": "execute_result"
    }
   ],
   "source": [
    "#logrithm and power function\n",
    "### exp,log(a,b),log2(a),log10(a),pow(a,b),sqrt()\n",
    "log10(3)\n",
    "log(3,10)"
   ]
  },
  {
   "cell_type": "code",
   "execution_count": null,
   "metadata": {},
   "outputs": [],
   "source": []
  }
 ],
 "metadata": {
  "kernelspec": {
   "display_name": "Python 3",
   "language": "python",
   "name": "python3"
  },
  "language_info": {
   "codemirror_mode": {
    "name": "ipython",
    "version": 3
   },
   "file_extension": ".py",
   "mimetype": "text/x-python",
   "name": "python",
   "nbconvert_exporter": "python",
   "pygments_lexer": "ipython3",
   "version": "3.7.4"
  }
 },
 "nbformat": 4,
 "nbformat_minor": 4
}
