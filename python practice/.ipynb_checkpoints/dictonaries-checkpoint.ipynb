{
 "cells": [
  {
   "cell_type": "markdown",
   "metadata": {},
   "source": [
    "# Dictonaries"
   ]
  },
  {
   "cell_type": "markdown",
   "metadata": {},
   "source": [
    "### you can store any type of data in the dictonary -list,string, tuple "
   ]
  },
  {
   "cell_type": "code",
   "execution_count": 16,
   "metadata": {},
   "outputs": [
    {
     "name": "stdout",
     "output_type": "stream",
     "text": [
      "{'math': (45, 87, 67), 'science': [56, 67, 66], 'chemistry': 'my name is education'}\n"
     ]
    }
   ],
   "source": [
    "dic={'math':(45,87,67),'science':[56,67,66],'chemistry':\"my name is education\"}\n",
    "print(dic)"
   ]
  },
  {
   "cell_type": "code",
   "execution_count": 17,
   "metadata": {},
   "outputs": [
    {
     "name": "stdout",
     "output_type": "stream",
     "text": [
      "{'math': (45, 87, 67), 'science': [56, 67, 66], 'chemistry': 'my name is education'}\n"
     ]
    }
   ],
   "source": [
    "dic['chemistry'][1]\n",
    "print(dic)"
   ]
  },
  {
   "cell_type": "code",
   "execution_count": 18,
   "metadata": {},
   "outputs": [
    {
     "name": "stdout",
     "output_type": "stream",
     "text": [
      "{'math': (22, 33, 44), 'science': [56, 67, 66], 'chemistry': 'my name is education'}\n"
     ]
    }
   ],
   "source": [
    "dic['math']=(22,33,44)\n",
    "print(dic)"
   ]
  },
  {
   "cell_type": "code",
   "execution_count": 35,
   "metadata": {},
   "outputs": [
    {
     "name": "stdout",
     "output_type": "stream",
     "text": [
      "{'class': {'10th': {'intelligent': ['ramesh', 'raju', 'ris'], 'medium': ('john', 'jony', 'jacob')}}, '12th': ('ravi', 'raj')}\n"
     ]
    }
   ],
   "source": [
    "### nesting of the dictonary\n",
    "dic1={'class':{\"10th\":{'intelligent':['ramesh','ram','ris'],'medium':('john','jony','jacob')}},'12th':('ravi','raj')}\n",
    "dic1['class']['10th']['intelligent'][1]='raju'\n",
    "print(dic1)"
   ]
  },
  {
   "cell_type": "code",
   "execution_count": 20,
   "metadata": {},
   "outputs": [
    {
     "data": {
      "text/plain": [
       "{'10th': {'intelligent': ['ramesh', 'raju', 'ris'],\n",
       "  'medium': ('john', 'jony', 'jacob')}}"
      ]
     },
     "execution_count": 20,
     "metadata": {},
     "output_type": "execute_result"
    }
   ],
   "source": [
    "dic1['class']"
   ]
  },
  {
   "cell_type": "markdown",
   "metadata": {},
   "source": [
    "## Membership Test"
   ]
  },
  {
   "cell_type": "markdown",
   "metadata": {},
   "source": [
    "### to test of the value is present in the dictonary or not"
   ]
  },
  {
   "cell_type": "code",
   "execution_count": 21,
   "metadata": {},
   "outputs": [
    {
     "data": {
      "text/plain": [
       "dict_keys(['class', '12th'])"
      ]
     },
     "execution_count": 21,
     "metadata": {},
     "output_type": "execute_result"
    }
   ],
   "source": [
    "dic1.keys()"
   ]
  },
  {
   "cell_type": "code",
   "execution_count": 24,
   "metadata": {},
   "outputs": [
    {
     "name": "stdout",
     "output_type": "stream",
     "text": [
      "{'class': {'10th': {'intelligent': ['ramesh', 'raju', 'ris'], 'medium': ('john', 'jony', 'jacob')}}, '12th': ('ravi', 'raj')}\n"
     ]
    }
   ],
   "source": [
    "dic1.values()\n",
    "dic1.get('class')\n",
    "asss=dic1.copy()\n",
    "print(asss)"
   ]
  },
  {
   "cell_type": "code",
   "execution_count": 28,
   "metadata": {},
   "outputs": [],
   "source": [
    "dic1['class']['10th']['intelligent'][1]='suresh'\n",
    "#print(dic1)['class']['10th']['intelligent'][1]='suresh'\n",
    "asss['class']['10th']['intelligent'][0]='suresh'"
   ]
  },
  {
   "cell_type": "code",
   "execution_count": 29,
   "metadata": {},
   "outputs": [
    {
     "name": "stdout",
     "output_type": "stream",
     "text": [
      "{'class': {'10th': {'intelligent': ['suresh', 'suresh', 'ris'], 'medium': ('john', 'jony', 'jacob')}}, '12th': ('ravi', 'raj')}\n"
     ]
    }
   ],
   "source": [
    "print(dic1)"
   ]
  },
  {
   "cell_type": "code",
   "execution_count": 30,
   "metadata": {},
   "outputs": [
    {
     "name": "stdout",
     "output_type": "stream",
     "text": [
      "{'class': {'10th': {'intelligent': ['suresh', 'suresh', 'ris'], 'medium': ('john', 'jony', 'jacob')}}, '12th': ('ravi', 'raj')}\n"
     ]
    }
   ],
   "source": [
    "print(asss)"
   ]
  },
  {
   "cell_type": "code",
   "execution_count": 34,
   "metadata": {},
   "outputs": [],
   "source": [
    "#to add the particular element in the dictonary\n",
    "dic1['13th']=[1,2,3]"
   ]
  },
  {
   "cell_type": "markdown",
   "metadata": {},
   "source": [
    "# update() "
   ]
  },
  {
   "cell_type": "markdown",
   "metadata": {},
   "source": [
    "### it is used to update the one dictinoary with the elements of the other dictionary\n",
    "### if the element in the second dict. is match with with the first one it will replace and if the element of the dict is not matching it will add to the last of the dictionary"
   ]
  },
  {
   "cell_type": "code",
   "execution_count": 43,
   "metadata": {},
   "outputs": [
    {
     "name": "stdout",
     "output_type": "stream",
     "text": [
      "{'A': (2, 3, 4), 'B': (4, 4, 5)}\n"
     ]
    }
   ],
   "source": [
    "#example 1\n",
    "dict1={'A':(2,3,4),'B':(3,4,5)}\n",
    "dict2={'B':(4,4,5)}\n",
    "dict1.update(dict2)\n",
    "print(dict1)"
   ]
  },
  {
   "cell_type": "code",
   "execution_count": 2,
   "metadata": {},
   "outputs": [
    {
     "name": "stdout",
     "output_type": "stream",
     "text": [
      "{'A': (2, 3, 4), 'B': (3, 4, 5), 'C': (4, 4, 5)}\n"
     ]
    }
   ],
   "source": [
    "#example 2\n",
    "dict1={'A':(2,3,4),'B':(3,4,5)}\n",
    "dict2={'C':(4,4,5)}\n",
    "dict1.update(dict2)\n",
    "print(dict1)"
   ]
  },
  {
   "cell_type": "markdown",
   "metadata": {},
   "source": [
    "# setdefault"
   ]
  },
  {
   "cell_type": "markdown",
   "metadata": {},
   "source": [
    "#### setdefault() method returns the value of a key (if the key is in dictionary). If not, it inserts key with a value to the dictionary."
   ]
  },
  {
   "cell_type": "code",
   "execution_count": 14,
   "metadata": {},
   "outputs": [
    {
     "name": "stdout",
     "output_type": "stream",
     "text": [
      "{'A': (2, 3, 4), 'B': (3, 4, 5), 'C': (4, 4, 5), 'D': None, 'E': (1, 2, 3)}\n"
     ]
    }
   ],
   "source": [
    "dict1.setdefault('E',(1,2,3))\n",
    "print(dict1)\n"
   ]
  },
  {
   "cell_type": "code",
   "execution_count": null,
   "metadata": {},
   "outputs": [],
   "source": []
  },
  {
   "cell_type": "code",
   "execution_count": null,
   "metadata": {},
   "outputs": [],
   "source": []
  }
 ],
 "metadata": {
  "kernelspec": {
   "display_name": "Python 3",
   "language": "python",
   "name": "python3"
  },
  "language_info": {
   "codemirror_mode": {
    "name": "ipython",
    "version": 3
   },
   "file_extension": ".py",
   "mimetype": "text/x-python",
   "name": "python",
   "nbconvert_exporter": "python",
   "pygments_lexer": "ipython3",
   "version": "3.7.4"
  }
 },
 "nbformat": 4,
 "nbformat_minor": 4
}
