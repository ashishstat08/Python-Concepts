{
 "cells": [
  {
   "cell_type": "code",
   "execution_count": 5,
   "metadata": {},
   "outputs": [
    {
     "name": "stdin",
     "output_type": "stream",
     "text": [
      " 1212\n",
      " 12\n"
     ]
    },
    {
     "name": "stdout",
     "output_type": "stream",
     "text": [
      "the sum of two number 1224\n"
     ]
    }
   ],
   "source": [
    "# problem 1\n",
    "a=int(input())\n",
    "b=int(input())\n",
    "print(\"the sum of two number\",a+b)\n"
   ]
  },
  {
   "cell_type": "code",
   "execution_count": 11,
   "metadata": {},
   "outputs": [
    {
     "name": "stdin",
     "output_type": "stream",
     "text": [
      " 12\n",
      " 121\n"
     ]
    },
    {
     "name": "stdout",
     "output_type": "stream",
     "text": [
      "133\n"
     ]
    }
   ],
   "source": [
    "#2\n",
    "from operator import add\n",
    "a=int(input())\n",
    "b=int(input())\n",
    "c=operator.add(a,b)\n",
    "print(c)\n",
    "\n"
   ]
  },
  {
   "cell_type": "code",
   "execution_count": null,
   "metadata": {},
   "outputs": [],
   "source": [
    "# facotrial of number \n",
    "num=int(input())\n",
    "def factorial(num):\n",
    "    return 1 if (num==0 or num==1) else num * factorial(num-1);\n",
    "print(\"factorial of\",num,\"is\",factorial(num))\n",
    "\n",
    "#another type of factorial \n",
    "nu=int(input())\n",
    "if nu <0:\n",
    "    print (\"0\")\n",
    "elif nu==0 or nu==1:\n",
    "    print(\"1\") \n",
    "elif nu>1:\n",
    "    fact= nu*(nu-1)\n",
    "print(\"the factorial of\",nu,\"is\",fact)\n",
    "    "
   ]
  },
  {
   "cell_type": "code",
   "execution_count": null,
   "metadata": {},
   "outputs": [],
   "source": [
    " nu=int(input())\n",
    "if nu <0:\n",
    "    print (\"0\")\n",
    "elif nu==0 or nu==1:\n",
    "    print(\"1\") \n",
    "elif nu>1:\n",
    "    fact= nu*(nu-1)\n",
    "print(\"the factorial of\",nu,\"is\",fact)\n",
    "    "
   ]
  },
  {
   "cell_type": "code",
   "execution_count": null,
   "metadata": {},
   "outputs": [],
   "source": []
  }
 ],
 "metadata": {
  "kernelspec": {
   "display_name": "Python 3",
   "language": "python",
   "name": "python3"
  },
  "language_info": {
   "codemirror_mode": {
    "name": "ipython",
    "version": 3
   },
   "file_extension": ".py",
   "mimetype": "text/x-python",
   "name": "python",
   "nbconvert_exporter": "python",
   "pygments_lexer": "ipython3",
   "version": "3.7.4"
  }
 },
 "nbformat": 4,
 "nbformat_minor": 4
}
