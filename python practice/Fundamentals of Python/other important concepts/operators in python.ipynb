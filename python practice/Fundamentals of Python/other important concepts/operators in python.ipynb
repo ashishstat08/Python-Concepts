{
 "cells": [
  {
   "cell_type": "markdown",
   "metadata": {},
   "source": [
    "# Operator Function in Python"
   ]
  },
  {
   "cell_type": "markdown",
   "metadata": {},
   "source": [
    "## SET 1\n",
    "#### addition = add()\n",
    "#### substraction= sub()\n",
    "#### division = truediv()\n",
    "#### floor divison = floordiv()\n",
    "#### modulu = mod()\n",
    "#### multiplication = mul()\n",
    "\n"
   ]
  },
  {
   "cell_type": "code",
   "execution_count": 11,
   "metadata": {},
   "outputs": [],
   "source": [
    "from  operator import add  "
   ]
  },
  {
   "cell_type": "code",
   "execution_count": 73,
   "metadata": {},
   "outputs": [
    {
     "name": "stdout",
     "output_type": "stream",
     "text": [
      "resulant list is :[3, 7, 9, 9]\n",
      "[3, 7, 8, 7]\n",
      "[5, 7, 7, 6]\n",
      "[3, 7, 7, 5]\n",
      "[4, 5, 6, 7]\n"
     ]
    }
   ],
   "source": [
    "# addition naive method\n",
    "lis=[1,3,4,5]\n",
    "lis2=[2,4,5,4]\n",
    "res=[]\n",
    "for i in range(0,len(lis)):\n",
    "    res.append(lis[i]+lis2[i])\n",
    "print(\"resulant list is :\" + str(res))\n",
    "\n",
    "#2 using map\n",
    "li=[1,3,4,4]\n",
    "li2=[2,4,4,3]\n",
    "ke=list(map(add,li,li2))\n",
    "print(ke)\n",
    "\n",
    "#3 using list comprehension \n",
    "liq=[1,3,4,4]\n",
    "liq2=[2,4,4,3]\n",
    "liw=[liq[1] + liq2[i] for i in range(len(lis))]\n",
    "print(liw)\n",
    "\n",
    "\n",
    "#4 using the zip \n",
    "liq=[1,3,3,2]\n",
    "liq2=[2,4,4,3]\n",
    "qq=[sum(i) for i in zip(liq,liq2)]\n",
    "print(qq)\n",
    "\n",
    "#5 if i want to add the single element\n",
    "liq2=[2,3,4,5]\n",
    "y=2\n",
    "aadd=[x+y for x in liq2]\n",
    "print(aadd)\n",
    "\n",
    "#6 by using operator \n",
    "liq2=[2,3,4,5]\n",
    "K_list = [4] * len(liq2)\n",
    "addd=list(map(operator.add,liq2,K_list))\n",
    "print(addd)\n",
    "\n"
   ]
  },
  {
   "cell_type": "code",
   "execution_count": 102,
   "metadata": {},
   "outputs": [
    {
     "name": "stdout",
     "output_type": "stream",
     "text": [
      "the modified list is: [1, 2, 3, 7, 5]\n",
      "\n",
      "the modified list after deletion: [1, 2, 3, 7]\n"
     ]
    }
   ],
   "source": [
    "# other use of operators \n",
    "#setitem- it change the particular value of the list\n",
    "lis=[1,2,3,4,5]\n",
    "operator.setitem(lis,3,7)\n",
    "print(\"the modified list is:\",lis)\n",
    "print(\"\\r\")\n",
    "\n",
    "# delitem - to delete the particular element \n",
    "operator.delitem(lis,4)\n",
    "print(\"the modified list after deletion:\",lis)\n",
    "\n"
   ]
  },
  {
   "cell_type": "code",
   "execution_count": 118,
   "metadata": {},
   "outputs": [
    {
     "name": "stdout",
     "output_type": "stream",
     "text": [
      "[4, 5, 6, 3, 1, 2, 3, 4, 5, 67, 3]\n"
     ]
    },
    {
     "data": {
      "text/plain": [
       "True"
      ]
     },
     "execution_count": 118,
     "metadata": {},
     "output_type": "execute_result"
    }
   ],
   "source": [
    "#setitem- another use of by combined changes\n",
    "lis=[4,5,6,3,53,24,67,3]\n",
    "operator.setitem(lis,slice(4,6),[1,2,3,4,5])\n",
    "print(lis)\n",
    "\n",
    "#cocate the list\n",
    "lis=[1,2,4,6,7]\n",
    "lis1=[3,4,5,6,6]\n",
    "operator.concat(lis,lis1)\n",
    "\n",
    "#concate the string \n",
    "st=\"geeksforgeeks \"\n",
    "st1=\"for python\"\n",
    "operator.concat(st,st1)\n",
    "\n",
    "#concate the tuple \n",
    "tup=(1,2,3,4)\n",
    "tup1=(5,6,7,8)\n",
    "operator.concat(tup,tup1)\n",
    "\n",
    "#contain in operator \n",
    "lis=\"ashish\"\n",
    "lis1=\"sh\"\n",
    "operator.contains(lis,lis1)"
   ]
  },
  {
   "cell_type": "code",
   "execution_count": null,
   "metadata": {},
   "outputs": [],
   "source": [
    "# from geeksforgeeks \n"
   ]
  }
 ],
 "metadata": {
  "kernelspec": {
   "display_name": "Python 3",
   "language": "python",
   "name": "python3"
  },
  "language_info": {
   "codemirror_mode": {
    "name": "ipython",
    "version": 3
   },
   "file_extension": ".py",
   "mimetype": "text/x-python",
   "name": "python",
   "nbconvert_exporter": "python",
   "pygments_lexer": "ipython3",
   "version": "3.7.4"
  }
 },
 "nbformat": 4,
 "nbformat_minor": 4
}
