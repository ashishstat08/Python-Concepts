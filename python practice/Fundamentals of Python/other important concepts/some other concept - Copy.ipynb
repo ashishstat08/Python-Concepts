{
 "cells": [
  {
   "cell_type": "markdown",
   "metadata": {},
   "source": [
    "# Some other Concepts "
   ]
  },
  {
   "cell_type": "markdown",
   "metadata": {},
   "source": [
    "## Byte vs String in Python"
   ]
  },
  {
   "cell_type": "code",
   "execution_count": 16,
   "metadata": {},
   "outputs": [
    {
     "name": "stdout",
     "output_type": "stream",
     "text": [
      "encoded sucesful\n",
      "encoded sucesful\n"
     ]
    }
   ],
   "source": [
    "#encoding \n",
    "a='ashish'\n",
    "c=b'ashish'\n",
    "d=a.encode('ASCII')\n",
    "if(d==c):\n",
    "    print('encoded sucesful')\n",
    "else: print ('encoded unsuccesful')\n",
    "\n",
    "#decoding\n",
    "a='ashish'\n",
    "c=b'ashish'\n",
    "d=c.decode('ASCII')\n",
    "if(d==a):\n",
    "    print('encoded sucesful')\n",
    "else: print ('encoded unsuccesful')"
   ]
  },
  {
   "cell_type": "code",
   "execution_count": 20,
   "metadata": {},
   "outputs": [
    {
     "name": "stdout",
     "output_type": "stream",
     "text": [
      "1\n",
      "2\n"
     ]
    },
    {
     "data": {
      "text/plain": [
       "(None, None)"
      ]
     },
     "execution_count": 20,
     "metadata": {},
     "output_type": "execute_result"
    }
   ],
   "source": [
    "x=1\n",
    "y=2\n",
    "print"
   ]
  },
  {
   "cell_type": "code",
   "execution_count": 9,
   "metadata": {},
   "outputs": [
    {
     "name": "stdout",
     "output_type": "stream",
     "text": [
      "even 2\n",
      "odd 3\n",
      "even 4\n",
      "odd 5\n",
      "addition: 54\n"
     ]
    }
   ],
   "source": [
    "# Ternary operators in python\n",
    "mylis=[2,3,4,5]\n",
    "for i in mylis:\n",
    "    print('even',i) if i % 2== 0 else print('odd',i)\n",
    "# nested if conditon \n",
    "a,b=20,34\n",
    "print(\"a is equal to b \") if a==b else print(\"addition:\",a+b) if b>a else (\"a is less than b\") "
   ]
  },
  {
   "cell_type": "code",
   "execution_count": 13,
   "metadata": {},
   "outputs": [
    {
     "name": "stdout",
     "output_type": "stream",
     "text": [
      "division: -4\n"
     ]
    }
   ],
   "source": [
    "print('division:',-7//2)"
   ]
  },
  {
   "cell_type": "code",
   "execution_count": 28,
   "metadata": {},
   "outputs": [
    {
     "name": "stdout",
     "output_type": "stream",
     "text": [
      "2\n",
      "3\n",
      "4\n"
     ]
    }
   ],
   "source": [
    "a= range(2,5)\n",
    "for i in a:\n",
    "    print (i)"
   ]
  },
  {
   "cell_type": "code",
   "execution_count": null,
   "metadata": {},
   "outputs": [],
   "source": []
  }
 ],
 "metadata": {
  "kernelspec": {
   "display_name": "Python 3",
   "language": "python",
   "name": "python3"
  },
  "language_info": {
   "codemirror_mode": {
    "name": "ipython",
    "version": 3
   },
   "file_extension": ".py",
   "mimetype": "text/x-python",
   "name": "python",
   "nbconvert_exporter": "python",
   "pygments_lexer": "ipython3",
   "version": "3.7.4"
  }
 },
 "nbformat": 4,
 "nbformat_minor": 4
}
