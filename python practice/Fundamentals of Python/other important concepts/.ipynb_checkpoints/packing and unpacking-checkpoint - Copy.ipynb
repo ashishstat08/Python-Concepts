{
 "cells": [
  {
   "cell_type": "markdown",
   "metadata": {},
   "source": [
    "# Packing and Unpacking Aruguments "
   ]
  },
  {
   "cell_type": "code",
   "execution_count": 47,
   "metadata": {},
   "outputs": [
    {
     "name": "stdout",
     "output_type": "stream",
     "text": [
      "\n"
     ]
    },
    {
     "data": {
      "text/plain": [
       "24"
      ]
     },
     "execution_count": 47,
     "metadata": {},
     "output_type": "execute_result"
    }
   ],
   "source": [
    "# multiplication through \n",
    "#1\n",
    "def multiplcation(*args):\n",
    "    product=1\n",
    "    for i in args:\n",
    "        product *=i  \n",
    "    return product\n",
    "print(\"\\r\")\n",
    "multiplcation(3,3)\n",
    "\n",
    "\n",
    "#2\n",
    "def mult(a,b,c):\n",
    "    mul=(a*b)*c\n",
    "    return mul\n",
    "mult(2,3,4)\n",
    "\n",
    "#3\n",
    "#we also use numpy for multiplcation of number\n"
   ]
  },
  {
   "cell_type": "markdown",
   "metadata": {},
   "source": [
    "# Unpacking"
   ]
  },
  {
   "cell_type": "code",
   "execution_count": 76,
   "metadata": {},
   "outputs": [
    {
     "data": {
      "text/plain": [
       "20"
      ]
     },
     "execution_count": 76,
     "metadata": {},
     "output_type": "execute_result"
    }
   ],
   "source": [
    "\n",
    "#------------ex1-----------------#\n",
    "def add_mul(a,b,c):\n",
    "    combine=(a+b)*c\n",
    "    return combine\n",
    "add_mul(2,3,4)\n",
    "#0r\n",
    "def add_mul(a,b,c):\n",
    "    combine=(a+b)*c\n",
    "    return combine\n",
    "mylist=(2,3,4)\n",
    "add_mul(*mylist)"
   ]
  },
  {
   "cell_type": "markdown",
   "metadata": {},
   "source": [
    "# Packing "
   ]
  },
  {
   "cell_type": "code",
   "execution_count": 77,
   "metadata": {},
   "outputs": [
    {
     "name": "stdout",
     "output_type": "stream",
     "text": [
      "my name ashish\n"
     ]
    }
   ],
   "source": [
    "# for tuples \n",
    "def fun1(a,b,c):\n",
    "    print (a,b,c)\n",
    "\n",
    "def fun2(*args):\n",
    "    args=list(args)\n",
    "    args[0]=\"my\"\n",
    "    args[1]=\"name\"\n",
    "    fun1(*args)\n",
    "    \n",
    "fun2(\"the\",\"ff\",\"ashish\")"
   ]
  },
  {
   "cell_type": "code",
   "execution_count": 78,
   "metadata": {},
   "outputs": [
    {
     "name": "stdout",
     "output_type": "stream",
     "text": [
      "[12, 3] [3, 4] [34, 4]\n"
     ]
    }
   ],
   "source": [
    "# for dictonaries \n",
    "def take(a,b,c):\n",
    "    print(a,b,c)\n",
    "dic={'a':[12,3],'b':[3,4],'c':[34,4]}\n",
    "take(**dic)"
   ]
  },
  {
   "cell_type": "code",
   "execution_count": 79,
   "metadata": {},
   "outputs": [
    {
     "name": "stdout",
     "output_type": "stream",
     "text": [
      "ashish\n",
      "24\n",
      "post graduate\n",
      "2\n",
      "3\n",
      "[5, 6, 7, 87, 5]\n",
      "1000\n",
      "1000\n"
     ]
    }
   ],
   "source": [
    "# unpacking for tuples\n",
    "\n",
    "#-----------ex1---------------#\n",
    "a=('ashish',24,'post graduate')\n",
    "(name,age,education)=a\n",
    "print(name)\n",
    "print(age)\n",
    "print(education)\n",
    "\n",
    "#------------ unpacking using of * ---------------#\n",
    "x,y,*z=(2,3,5,6,7,87,5)\n",
    "print(x)\n",
    "print(y)\n",
    "print(z)\n",
    "\n",
    "#------------example 3------------------#\n",
    "def result(x, y): \n",
    "    return x * y \n",
    "print (result(10, 100))  \n",
    "z = (10, 100)   \n",
    "print (result(*z))"
   ]
  },
  {
   "cell_type": "code",
   "execution_count": null,
   "metadata": {},
   "outputs": [],
   "source": []
  },
  {
   "cell_type": "code",
   "execution_count": null,
   "metadata": {},
   "outputs": [],
   "source": []
  },
  {
   "cell_type": "code",
   "execution_count": null,
   "metadata": {},
   "outputs": [],
   "source": []
  }
 ],
 "metadata": {
  "kernelspec": {
   "display_name": "Python 3",
   "language": "python",
   "name": "python3"
  },
  "language_info": {
   "codemirror_mode": {
    "name": "ipython",
    "version": 3
   },
   "file_extension": ".py",
   "mimetype": "text/x-python",
   "name": "python",
   "nbconvert_exporter": "python",
   "pygments_lexer": "ipython3",
   "version": "3.7.4"
  }
 },
 "nbformat": 4,
 "nbformat_minor": 4
}
