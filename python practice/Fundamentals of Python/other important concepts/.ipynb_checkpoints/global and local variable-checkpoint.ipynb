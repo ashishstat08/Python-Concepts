{
 "cells": [
  {
   "cell_type": "markdown",
   "metadata": {},
   "source": [
    "# Maximum possible value of integer \n"
   ]
  },
  {
   "cell_type": "markdown",
   "metadata": {},
   "source": [
    "####  value of an integer is not restricted by the number of bits and can expand to the limit of the available memory "
   ]
  },
  {
   "cell_type": "markdown",
   "metadata": {},
   "source": [
    "#### python three only support integer"
   ]
  },
  {
   "cell_type": "markdown",
   "metadata": {},
   "source": [
    "# Global and Local Variables\n"
   ]
  },
  {
   "cell_type": "code",
   "execution_count": 30,
   "metadata": {},
   "outputs": [
    {
     "name": "stdout",
     "output_type": "stream",
     "text": [
      "the game is\n"
     ]
    }
   ],
   "source": [
    "#example of globle variables\n",
    "def dd():\n",
    "    print(x)\n",
    "dd()\n",
    "x='the game is'"
   ]
  },
  {
   "cell_type": "code",
   "execution_count": 35,
   "metadata": {},
   "outputs": [
    {
     "name": "stdout",
     "output_type": "stream",
     "text": [
      "dhoni is fav\n"
     ]
    }
   ],
   "source": [
    "#examplr of local variables\n",
    "def dd():\n",
    "    x='dhoni is fav'\n",
    "    print(x)\n",
    "dd()\n",
    "\n",
    "wrong \n",
    "def dd():\n",
    "    y='dhoni is fav'\n",
    "dd()\n",
    "print(y)"
   ]
  },
  {
   "cell_type": "code",
   "execution_count": 39,
   "metadata": {},
   "outputs": [
    {
     "name": "stdout",
     "output_type": "stream",
     "text": [
      "2\n"
     ]
    }
   ],
   "source": [
    "# using global inside the function\n",
    "#this is wrong\n",
    "#1\n",
    "#c=1\n",
    "#def add():\n",
    "##    c=c+1\n",
    "#   print(c)\n",
    "#add()\n",
    "\n",
    "#2\n",
    "c=1\n",
    "def add():\n",
    "    global c\n",
    "    c=c+1\n",
    "    print(c)\n",
    "add()"
   ]
  },
  {
   "cell_type": "code",
   "execution_count": null,
   "metadata": {},
   "outputs": [],
   "source": [
    "S"
   ]
  }
 ],
 "metadata": {
  "kernelspec": {
   "display_name": "Python 3",
   "language": "python",
   "name": "python3"
  },
  "language_info": {
   "codemirror_mode": {
    "name": "ipython",
    "version": 3
   },
   "file_extension": ".py",
   "mimetype": "text/x-python",
   "name": "python",
   "nbconvert_exporter": "python",
   "pygments_lexer": "ipython3",
   "version": "3.7.4"
  }
 },
 "nbformat": 4,
 "nbformat_minor": 4
}
