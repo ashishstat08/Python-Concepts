{
 "cells": [
  {
   "cell_type": "markdown",
   "metadata": {},
   "source": [
    "# Operator Function in Python"
   ]
  },
  {
   "cell_type": "markdown",
   "metadata": {},
   "source": [
    "## SET 1\n",
    "#### addition = add()\n",
    "#### substraction= sub()\n",
    "#### division = truediv()\n",
    "#### floor divison = floordiv()\n",
    "#### modulu = mod()\n",
    "#### multiplication = mul()\n",
    "\n"
   ]
  },
  {
   "cell_type": "code",
   "execution_count": 1,
   "metadata": {},
   "outputs": [],
   "source": [
    "import operator"
   ]
  },
  {
   "cell_type": "code",
   "execution_count": 13,
   "metadata": {},
   "outputs": [
    {
     "name": "stdout",
     "output_type": "stream",
     "text": [
      "resulant list is :[3]\n",
      "resulant list is :[3, 7]\n",
      "resulant list is :[3, 7, 9]\n",
      "resulant list is :[3, 7, 9, 9]\n"
     ]
    }
   ],
   "source": [
    "# addition \n",
    "lis=[1,3,4,5]\n",
    "lis2=[2,4,5,4]\n",
    "res=[]\n",
    "for i in range(0,len(lis)):\n",
    "    res.append(lis[i]+lis2[i])\n",
    "    print(\"resulant list is :\" + str(res))"
   ]
  },
  {
   "cell_type": "code",
   "execution_count": 16,
   "metadata": {},
   "outputs": [
    {
     "name": "stdout",
     "output_type": "stream",
     "text": [
      "resulant list is :[3, 7, 9, 9]\n"
     ]
    }
   ],
   "source": [
    "lis=[1,3,4,5]\n",
    "lis2=[2,4,5,4]\n",
    "res=[]\n",
    "for i in range(0,len(lis)):\n",
    "    res.append(lis[i]+lis2[i])\n",
    "print(\"resulant list is :\" + str(res))"
   ]
  },
  {
   "cell_type": "code",
   "execution_count": null,
   "metadata": {},
   "outputs": [],
   "source": []
  }
 ],
 "metadata": {
  "kernelspec": {
   "display_name": "Python 3",
   "language": "python",
   "name": "python3"
  },
  "language_info": {
   "codemirror_mode": {
    "name": "ipython",
    "version": 3
   },
   "file_extension": ".py",
   "mimetype": "text/x-python",
   "name": "python",
   "nbconvert_exporter": "python",
   "pygments_lexer": "ipython3",
   "version": "3.7.4"
  }
 },
 "nbformat": 4,
 "nbformat_minor": 4
}
