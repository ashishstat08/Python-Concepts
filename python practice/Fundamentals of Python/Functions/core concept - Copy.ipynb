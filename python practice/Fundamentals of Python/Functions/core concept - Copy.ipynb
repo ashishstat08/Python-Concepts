{
 "cells": [
  {
   "cell_type": "markdown",
   "metadata": {},
   "source": [
    "# Functions "
   ]
  },
  {
   "cell_type": "code",
   "execution_count": null,
   "metadata": {},
   "outputs": [],
   "source": []
  },
  {
   "cell_type": "code",
   "execution_count": 1,
   "metadata": {},
   "outputs": [
    {
     "name": "stdout",
     "output_type": "stream",
     "text": [
      "3\n"
     ]
    }
   ],
   "source": [
    "#simple function\n",
    "def addition(x,y):\n",
    "    return x+y\n",
    "add=addition(1,2)\n",
    "print(add)"
   ]
  },
  {
   "cell_type": "code",
   "execution_count": 2,
   "metadata": {},
   "outputs": [
    {
     "name": "stdout",
     "output_type": "stream",
     "text": [
      "16\n",
      "the first args is : 22\n",
      "the second args is: 22\n",
      "the sum of arg is: 44\n",
      "44\n"
     ]
    }
   ],
   "source": [
    "# default argument in the function\n",
    "\n",
    "def add(x,y=4):\n",
    "    return x+y\n",
    "print(add(12))\n",
    "\n",
    "#2 use of return and print\n",
    "def fun_return(arg1,arg2):\n",
    "    print('the first args is :',arg1)\n",
    "    print('the second args is:',arg2)\n",
    "    sumofargs= arg1+arg2\n",
    "    print('the sum of arg is:',arg1+arg2)\n",
    "    return sumofargs\n",
    "out=fun_return(22,22)\n",
    "print(out)"
   ]
  },
  {
   "cell_type": "markdown",
   "metadata": {},
   "source": [
    "# Variable arguments * and **"
   ]
  },
  {
   "cell_type": "code",
   "execution_count": 3,
   "metadata": {},
   "outputs": [
    {
     "name": "stdout",
     "output_type": "stream",
     "text": [
      "24\n"
     ]
    },
    {
     "data": {
      "text/plain": [
       "' RealPythonIsGreat!'"
      ]
     },
     "execution_count": 3,
     "metadata": {},
     "output_type": "execute_result"
    }
   ],
   "source": [
    "\n",
    "# variable argument \n",
    "def add(*args):\n",
    "    summ=1\n",
    "    for i in args:\n",
    "        summ*=i\n",
    "    return summ\n",
    "print(add(1,2,3,4))\n",
    "\n",
    "\n",
    "#2 changing tuple as list\n",
    "def add_sub(*de):\n",
    "    de=list(de)\n",
    "    re=(de[0]+de[1])/de[2]\n",
    "    return int(re)\n",
    "add_sub(3,5,4)\n",
    "\n",
    "# kwargs in python\n",
    "def coc(**add):\n",
    "    srt=\" \"\n",
    "    for i in add.values():\n",
    "        srt+=i\n",
    "    return srt\n",
    "dictt={'a':\"Real\",' b':\"Python\", 'c':\"Is\", 'd':\"Great\", 'e':\"!\"}\n",
    "coc(**dictt)"
   ]
  }
 ],
 "metadata": {
  "kernelspec": {
   "display_name": "Python 3",
   "language": "python",
   "name": "python3"
  },
  "language_info": {
   "codemirror_mode": {
    "name": "ipython",
    "version": 3
   },
   "file_extension": ".py",
   "mimetype": "text/x-python",
   "name": "python",
   "nbconvert_exporter": "python",
   "pygments_lexer": "ipython3",
   "version": "3.7.4"
  }
 },
 "nbformat": 4,
 "nbformat_minor": 4
}
