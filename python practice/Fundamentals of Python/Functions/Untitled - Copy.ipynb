{
 "cells": [
  {
   "cell_type": "code",
   "execution_count": 10,
   "metadata": {},
   "outputs": [
    {
     "name": "stdout",
     "output_type": "stream",
     "text": [
      "140720621789968\n",
      "140720621789968\n",
      "22\n",
      "12\n",
      "13\n"
     ]
    }
   ],
   "source": [
    "# global and local variables\n",
    "a=13\n",
    "b=12\n",
    "c=33\n",
    "print(id(a))\n",
    "def fun():\n",
    "    a=22\n",
    "    x=globals()['a']\n",
    "    print(id(x))\n",
    "    print(a)\n",
    "    print(b)\n",
    "\n",
    "fun()\n",
    "print(a)"
   ]
  },
  {
   "cell_type": "code",
   "execution_count": 20,
   "metadata": {},
   "outputs": [
    {
     "data": {
      "text/plain": [
       "(3, 3)"
      ]
     },
     "execution_count": 20,
     "metadata": {},
     "output_type": "execute_result"
    }
   ],
   "source": [
    "# count function\n",
    "lis=[22,3,4,5,3,2]\n",
    "def count(lis):\n",
    "    even=0\n",
    "    odd=0\n",
    "    for i in lis:\n",
    "        if i%2==0:\n",
    "            even+=1\n",
    "        else:\n",
    "            odd+=1\n",
    "    return even,odd\n",
    "count(lis)\n"
   ]
  },
  {
   "cell_type": "code",
   "execution_count": 37,
   "metadata": {},
   "outputs": [
    {
     "data": {
      "text/plain": [
       "[]"
      ]
     },
     "execution_count": 37,
     "metadata": {},
     "output_type": "execute_result"
    }
   ],
   "source": [
    "strr=['ram', 'si', 'hhaahaha','fsdfffsf']\n",
    "def stt(strr):\n",
    "    stt=[]\n",
    "    for i in strr:\n",
    "        if len(strr)>=5:\n",
    "            stt.append(i)\n",
    "    return stt\n",
    "stt(strr)"
   ]
  },
  {
   "cell_type": "code",
   "execution_count": 54,
   "metadata": {},
   "outputs": [
    {
     "name": "stdout",
     "output_type": "stream",
     "text": [
      "0\n",
      "-1\n",
      "-1\n",
      "-2\n",
      "-3\n",
      "-5\n",
      "-8\n",
      "-13\n"
     ]
    }
   ],
   "source": [
    "# fibonachi series\n",
    "\n",
    "def fib(n):\n",
    "    a=0\n",
    "    b=-1\n",
    "    print(a)\n",
    "    print(b)\n",
    "    for i in range(-2,-n):\n",
    "        c=a+b\n",
    "        a=b\n",
    "        b=c\n",
    "        print(c)\n",
    "\n",
    "fib(-4)    "
   ]
  },
  {
   "cell_type": "code",
   "execution_count": 56,
   "metadata": {},
   "outputs": [
    {
     "data": {
      "text/plain": [
       "5040"
      ]
     },
     "execution_count": 56,
     "metadata": {},
     "output_type": "execute_result"
    }
   ],
   "source": [
    "# factorial \n",
    "def fact(n):\n",
    "    fac=1\n",
    "    for i in range(1,n+1):\n",
    "        fac=fac*i\n",
    "    return fac\n",
    "fact(7)"
   ]
  },
  {
   "cell_type": "code",
   "execution_count": 74,
   "metadata": {},
   "outputs": [
    {
     "name": "stdout",
     "output_type": "stream",
     "text": [
      "1000\n"
     ]
    },
    {
     "data": {
      "text/plain": [
       "24"
      ]
     },
     "execution_count": 74,
     "metadata": {},
     "output_type": "execute_result"
    }
   ],
   "source": [
    "# Recursion method \n",
    "import sys\n",
    "print(sys.getrecursionlimit())\n",
    "sys.setrecursionlimit(1000)\n",
    "i=0\n",
    "def gre(num):\n",
    "    global i\n",
    "    i+=1\n",
    "    print(\"num\",i)\n",
    "    gre(num)\n",
    "\n",
    "# factorial by recursion\n",
    "\n",
    "def fact(m):\n",
    "    if  m==0:\n",
    "        return 1\n",
    "    return m*fact(m-1)\n",
    "fact(4)\n",
    "\n"
   ]
  },
  {
   "cell_type": "code",
   "execution_count": null,
   "metadata": {},
   "outputs": [],
   "source": []
  }
 ],
 "metadata": {
  "kernelspec": {
   "display_name": "Python 3",
   "language": "python",
   "name": "python3"
  },
  "language_info": {
   "codemirror_mode": {
    "name": "ipython",
    "version": 3
   },
   "file_extension": ".py",
   "mimetype": "text/x-python",
   "name": "python",
   "nbconvert_exporter": "python",
   "pygments_lexer": "ipython3",
   "version": "3.7.4"
  }
 },
 "nbformat": 4,
 "nbformat_minor": 4
}
