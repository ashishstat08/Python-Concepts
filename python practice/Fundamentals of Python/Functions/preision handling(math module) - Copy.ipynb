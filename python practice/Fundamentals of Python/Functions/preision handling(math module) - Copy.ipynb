{
 "cells": [
  {
   "cell_type": "code",
   "execution_count": 17,
   "metadata": {},
   "outputs": [
    {
     "name": "stdout",
     "output_type": "stream",
     "text": [
      "12\n",
      "13\n",
      "12\n",
      "12.64\n",
      "12.64\n",
      "12.644\n"
     ]
    }
   ],
   "source": [
    "# Trunch \n",
    "import math\n",
    "a=12.644\n",
    "print(math.trunc(a))\n",
    "\n",
    "# Ceil\n",
    "print(math.ceil(a))\n",
    "\n",
    "#floor\n",
    "print(math.floor(a))\n",
    "\n",
    "#by %\n",
    "print('%.2f'%a)\n",
    "\n",
    "# using format method\n",
    "print(\"{0:.2f}\".format(a))\n",
    "\n",
    "# using round method\n",
    "print(round(a,3))\n"
   ]
  },
  {
   "cell_type": "code",
   "execution_count": null,
   "metadata": {},
   "outputs": [],
   "source": []
  }
 ],
 "metadata": {
  "kernelspec": {
   "display_name": "Python 3",
   "language": "python",
   "name": "python3"
  },
  "language_info": {
   "codemirror_mode": {
    "name": "ipython",
    "version": 3
   },
   "file_extension": ".py",
   "mimetype": "text/x-python",
   "name": "python",
   "nbconvert_exporter": "python",
   "pygments_lexer": "ipython3",
   "version": "3.7.4"
  }
 },
 "nbformat": 4,
 "nbformat_minor": 4
}
