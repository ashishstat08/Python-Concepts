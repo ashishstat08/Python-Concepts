{
 "cells": [
  {
   "cell_type": "markdown",
   "metadata": {},
   "source": [
    "# hackerrank"
   ]
  },
  {
   "cell_type": "code",
   "execution_count": null,
   "metadata": {},
   "outputs": [
    {
     "name": "stdin",
     "output_type": "stream",
     "text": [
      " 12\n"
     ]
    }
   ],
   "source": [
    "# problem of calculating the percentage \n",
    "N = int(input())\n",
    "stud_dict = dict()\n",
    "\n",
    "for i in range(N):\n",
    "    lis = input().split(' ')\n",
    "    name = tmp[0]\n",
    "    stud_dict[name] = (float(tmp[1]), float(tmp[2]), float(tmp[3]))\n",
    "    \n",
    "name = input()\n",
    "avg=sum(stud_dict[name])/3\n",
    "print(\"{0:5.2f}\".format(avg))\n"
   ]
  },
  {
   "cell_type": "code",
   "execution_count": 1,
   "metadata": {},
   "outputs": [
    {
     "name": "stdin",
     "output_type": "stream",
     "text": [
      " ashish \n",
      " dhakad\n"
     ]
    },
    {
     "name": "stdout",
     "output_type": "stream",
     "text": [
      "Hello ashish  dhakad! You just devlep into python\n"
     ]
    }
   ],
   "source": [
    "# whats your name \n",
    "first = str(input())\n",
    "last = str(input())\n",
    "def print_name_fun(first,last):\n",
    "    print(\"Hello {} {}! You just devlep into python\".format(first,last))\n",
    "print_name_fun(first,last)\n"
   ]
  },
  {
   "cell_type": "code",
   "execution_count": 3,
   "metadata": {},
   "outputs": [],
   "source": [
    "#prime number \n",
    "def prime(start,end):    \n",
    "    for i in range(start,end+1):       \n",
    "        if i>1:           \n",
    "            for num in range(2,i):               \n",
    "                if (i%num)==0:                    \n",
    "                    break                                        \n",
    "            else:\n",
    "                print(i)\n",
    "                "
   ]
  },
  {
   "cell_type": "code",
   "execution_count": null,
   "metadata": {},
   "outputs": [],
   "source": []
  }
 ],
 "metadata": {
  "kernelspec": {
   "display_name": "Python 3",
   "language": "python",
   "name": "python3"
  },
  "language_info": {
   "codemirror_mode": {
    "name": "ipython",
    "version": 3
   },
   "file_extension": ".py",
   "mimetype": "text/x-python",
   "name": "python",
   "nbconvert_exporter": "python",
   "pygments_lexer": "ipython3",
   "version": "3.7.4"
  }
 },
 "nbformat": 4,
 "nbformat_minor": 4
}
