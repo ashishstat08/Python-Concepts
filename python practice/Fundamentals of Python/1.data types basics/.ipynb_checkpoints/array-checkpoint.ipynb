{
 "cells": [
  {
   "cell_type": "markdown",
   "metadata": {},
   "source": [
    "# Array Data Structure"
   ]
  },
  {
   "cell_type": "markdown",
   "metadata": {},
   "source": [
    "#### array is the data structure that contain the value of same data type "
   ]
  },
  {
   "cell_type": "code",
   "execution_count": 27,
   "metadata": {},
   "outputs": [],
   "source": [
    "import array"
   ]
  },
  {
   "cell_type": "code",
   "execution_count": 31,
   "metadata": {},
   "outputs": [
    {
     "name": "stdout",
     "output_type": "stream",
     "text": [
      "the original array is :1 2 3 5 \n"
     ]
    }
   ],
   "source": [
    "array1=array.array('q',[1,2,3,5])\n",
    "print(\"the original array is :\",end=\"\")\n",
    "for i in range(0,4):\n",
    "    print(array1[i],end=\" \")\n",
    "print(\"\\r\")\n"
   ]
  },
  {
   "cell_type": "code",
   "execution_count": 74,
   "metadata": {},
   "outputs": [
    {
     "name": "stdout",
     "output_type": "stream",
     "text": [
      "the original array: 1 2 3 4 \n",
      "the new array: 1 2 3 4 5 6 7 \n",
      "the array list: 1 2 3 4 5 6 7 \n",
      "1 2 4 55 6 7 8 8 \n",
      "1 2 4 55 6 7 8 8 "
     ]
    }
   ],
   "source": [
    " \n",
    "array1=array.array('i',[1,2,3,4,5])\n",
    "print('the original array:',end=\" \")\n",
    "for i in range (0,4):\n",
    "    print (array1[i],end=\" \")\n",
    "print ('\\r')\n",
    "\n",
    "# using fromlist() to append list at end of array \n",
    "li1=[6,7]\n",
    "array1.fromlist(li1)\n",
    "print(\"the new array:\",end= \" \")\n",
    "for i in range(0,7):\n",
    "    print(array1[i],end=\" \")\n",
    "print ('\\r')\n",
    "type(array1)\n",
    "\n",
    "# using tolist() to convert array into list \n",
    "li2=array1.tolist()\n",
    "print(\"the array list:\",end=\" \")\n",
    "for i in range(0,len(li2)):\n",
    "    print(li2[i],end=\" \")\n",
    "print(\"\\r\")\n",
    "type(li2)\n",
    "\n",
    "# difference between length in range and only simple range \n",
    "#1\n",
    "tup=(1,2,4,55,6,7,8,8)\n",
    "ddd=list(tup)\n",
    "for i in range(0,len(ddd)):\n",
    "    print(ddd[i],end=\" \")\n",
    "#2\n",
    "print(\"\\r\")    \n",
    "tup=(1,2,4,55,6,7,8,8)\n",
    "for i in range(0,8):\n",
    "    print(tup[i],end=\" \")"
   ]
  },
  {
   "cell_type": "code",
   "execution_count": null,
   "metadata": {},
   "outputs": [],
   "source": []
  },
  {
   "cell_type": "raw",
   "metadata": {},
   "source": []
  }
 ],
 "metadata": {
  "kernelspec": {
   "display_name": "Python 3",
   "language": "python",
   "name": "python3"
  },
  "language_info": {
   "codemirror_mode": {
    "name": "ipython",
    "version": 3
   },
   "file_extension": ".py",
   "mimetype": "text/x-python",
   "name": "python",
   "nbconvert_exporter": "python",
   "pygments_lexer": "ipython3",
   "version": "3.7.4"
  }
 },
 "nbformat": 4,
 "nbformat_minor": 4
}
