{
 "cells": [
  {
   "cell_type": "code",
   "execution_count": 1,
   "metadata": {},
   "outputs": [
    {
     "name": "stdin",
     "output_type": "stream",
     "text": [
      " 2\n",
      " 2\n"
     ]
    },
    {
     "name": "stdout",
     "output_type": "stream",
     "text": [
      "the rectangle is square: 4\n"
     ]
    }
   ],
   "source": [
    "# problem 1\n",
    "#Take values of length and breadth of a rectangle from user and check if it is square or not.\n",
    "length= int(input())\n",
    "breadth=int(input())\n",
    "if length==breadth:\n",
    "    print(\"the rectangle is square:\", length*breadth)\n",
    "else:\n",
    "    print(\"this is only rectangle\")\n"
   ]
  },
  {
   "cell_type": "code",
   "execution_count": 2,
   "metadata": {},
   "outputs": [
    {
     "name": "stdin",
     "output_type": "stream",
     "text": [
      " 2\n",
      " 2\n"
     ]
    },
    {
     "name": "stdout",
     "output_type": "stream",
     "text": [
      "both are equal\n"
     ]
    }
   ],
   "source": [
    "# problem 2\n",
    "#Take two int values from user and print greatest among them.\n",
    "a=int(input())\n",
    "b=int(input())\n",
    "if a>b:\n",
    "    print(\"the greatest value is a : \",a)\n",
    "elif a<b:\n",
    "    print(\"the greatest value is b:\",b)\n",
    "else:\n",
    "    print(\"both are equal\")\n"
   ]
  },
  {
   "cell_type": "code",
   "execution_count": 3,
   "metadata": {},
   "outputs": [
    {
     "name": "stdin",
     "output_type": "stream",
     "text": [
      " 2\n"
     ]
    },
    {
     "name": "stdout",
     "output_type": "stream",
     "text": [
      "the cost is:\n"
     ]
    }
   ],
   "source": [
    "# problem 3\n",
    "#A shop will give discount of 10% if the cost of purchased quantity is more than 1000.\n",
    "#Ask user for quantity\n",
    "#Suppose, one unit will cost 100.\n",
    "#Judge and print total cost for user.\n",
    "\n",
    "one_unit= 100\n",
    "user_quantity=int(input())\n",
    "purchased_quantity=(one_unit*user_quantity)\n",
    "if purchased_quantity>1000:\n",
    "    total_cost=(purchased_quantity)-(purchased_quantity)* (10/100)\n",
    "    print(\"the total cost after 10%:\",int(total_cost))\n",
    "else: \n",
    "    print(\"the cost is:\",)"
   ]
  },
  {
   "cell_type": "code",
   "execution_count": 31,
   "metadata": {
    "collapsed": true,
    "jupyter": {
     "outputs_hidden": true
    }
   },
   "outputs": [
    {
     "name": "stdin",
     "output_type": "stream",
     "text": [
      " 6\n",
      " 13456\n"
     ]
    },
    {
     "name": "stdout",
     "output_type": "stream",
     "text": [
      "the bonus amount is : 672\n"
     ]
    }
   ],
   "source": [
    "# problem 4\n",
    "#A company decided to give bonus of 5% to employee if his/her year of service is more than 5 years.\n",
    "#Ask user for their salary and year of service and print the net bonus amount.\n",
    "\n",
    "yos=float(input())\n",
    "salary=int(input())\n",
    "if yos>5:\n",
    "    bonus_amount=salary*.05\n",
    "    print(\"the bonus amount is :\",int(bonus_amount))\n",
    "else:\n",
    "    print(\"there is no bonus\")"
   ]
  },
  {
   "cell_type": "code",
   "execution_count": 6,
   "metadata": {},
   "outputs": [
    {
     "name": "stdin",
     "output_type": "stream",
     "text": [
      " 67\n"
     ]
    },
    {
     "name": "stdout",
     "output_type": "stream",
     "text": [
      "B\n"
     ]
    }
   ],
   "source": [
    "#5 problem 5\n",
    "#A school has following rules for grading system:\n",
    "#a. Below 25 - F\n",
    "#b. 25 to 45 - E\n",
    "#c. 45 to 50 - D\n",
    "#d. 50 to 60 - C\n",
    "#e. 60 to 80 - B\n",
    "#f. Above 80 - A\n",
    "#Ask user to enter marks and print the corresponding grade\n",
    "\n",
    "marks=int(input())\n",
    "if marks <25:\n",
    "    print(\"F\")\n",
    "elif marks in  range(25,45):\n",
    "    print(\"E\")\n",
    "elif marks in range(45,50):\n",
    "    print (\"D\")\n",
    "elif marks in range(50,60):\n",
    "    print(\"C\")\n",
    "elif marks in range(60,80):\n",
    "    print(\"B\")\n",
    "elif marks> 80 :\n",
    "    print (\"A\")\n",
    "\n"
   ]
  },
  {
   "cell_type": "code",
   "execution_count": 10,
   "metadata": {
    "collapsed": true,
    "jupyter": {
     "outputs_hidden": true
    }
   },
   "outputs": [
    {
     "name": "stdin",
     "output_type": "stream",
     "text": [
      " 22\n",
      " 33\n",
      " 55\n"
     ]
    },
    {
     "name": "stdout",
     "output_type": "stream",
     "text": [
      "youngest\n",
      "youngest\n",
      "oldest\n"
     ]
    },
    {
     "name": "stdin",
     "output_type": "stream",
     "text": [
      " 3\n",
      " 3\n",
      " 3\n"
     ]
    },
    {
     "name": "stdout",
     "output_type": "stream",
     "text": [
      "oldest is: 3\n"
     ]
    }
   ],
   "source": [
    "# problem 6\n",
    "#Take input of age of 3 people by user and determine oldest and youngest among them.\n",
    "a=int(input())\n",
    "b=int(input())\n",
    "c=int(input())\n",
    "if a in range(0,50):\n",
    "    print(\"youngest\")\n",
    "elif a in range(50,100):\n",
    "    print(\"oldest\")\n",
    "if b in range(0,50):\n",
    "    print(\"youngest\")\n",
    "elif b in range(50,100):\n",
    "    print(\"oldest\")\n",
    "if c in range(0,50):\n",
    "    print(\"youngest\")\n",
    "elif c in range(50,100):\n",
    "    print(\"oldest\")\n",
    "\n",
    "#OTHER TYPE\n",
    "\n",
    "a=int(input())\n",
    "b=int(input())\n",
    "c=int(input())\n",
    "if a>=b and a>=c:\n",
    "    print(\"oldest is a:\",a)\n",
    "elif b>=a and b>=c:\n",
    "    print(\"oldest is b:\",b)\n",
    "elif c>=a and c>=b:\n",
    "    print (\"oldest is c :\",c)\n"
   ]
  },
  {
   "cell_type": "code",
   "execution_count": null,
   "metadata": {},
   "outputs": [],
   "source": [
    "#program 6\n",
    "#Write a program to print absolute vlaue of a number entered by user. E.g.-\n",
    "#INPUT: 1        OUTPUT: 1\n",
    "#INPUT: -1        OUTPUT: 1\n",
    "\n",
    "num=int(input())\n",
    "if num<0:\n",
    "    nu=num*-1\n",
    "    print(\"the absolute value is:\",nu)"
   ]
  },
  {
   "cell_type": "code",
   "execution_count": 2,
   "metadata": {
    "collapsed": true,
    "jupyter": {
     "outputs_hidden": true
    }
   },
   "outputs": [
    {
     "name": "stdin",
     "output_type": "stream",
     "text": [
      " 100\n",
      " 44\n"
     ]
    },
    {
     "name": "stdout",
     "output_type": "stream",
     "text": [
      "number of classes held: 100\n",
      "number of classes attended: 44\n",
      "percentage 44.0\n",
      "not allowed to sit in the exam\n"
     ]
    },
    {
     "name": "stdin",
     "output_type": "stream",
     "text": [
      " 100\n",
      " 44\n",
      " Y\n"
     ]
    },
    {
     "name": "stdout",
     "output_type": "stream",
     "text": [
      "number of classes held: 100\n",
      "number of classes attended: 44\n",
      "percentage 44.0\n",
      " allowed to sit in the exam\n"
     ]
    }
   ],
   "source": [
    "#program 7\n",
    "#A student will not be allowed to sit in exam if his/her attendence is less than 75%.\n",
    "#Take following input from user\n",
    "#Number of classes held\n",
    "#Number of classes attended.\n",
    "#And print\n",
    "#percentage of class attended\n",
    "#Is student is allowed to sit in exam or not.\n",
    "\n",
    "numch=int(input())\n",
    "numca=int(input())\n",
    "print(\"number of classes held:\",numch)\n",
    "print(\"number of classes attended:\",numca)\n",
    "percentage = (numca/numch)*100\n",
    "if percentage < 75:\n",
    "    print(\"percentage\",percentage)\n",
    "    print(\"not allowed to sit in the exam\")\n",
    "elif percentage>=75:\n",
    "    print(\"percentage\",percentage)\n",
    "    print(\"allowed to sit in the exam\")\n",
    "else:\n",
    "    print(\"no exam\")\n",
    "    \n",
    "# if he/she has a medical cause \n",
    "\n",
    "numch=int(input())\n",
    "numca=int(input())\n",
    "medical= str(input())\n",
    "print(\"number of classes held:\",numch)\n",
    "print(\"number of classes attended:\",numca)\n",
    "percentage = (numca/numch)*100\n",
    "if percentage < 75 and medical==\"N\":\n",
    "    print(\"percentage\",percentage)\n",
    "    print(\"not allowed to sit in the exam\")\n",
    "elif percentage < 75 and medical==\"Y\":\n",
    "    print(\"percentage\",percentage)\n",
    "    print(\" allowed to sit in the exam\")    \n",
    "elif percentage>=75:\n",
    "    print(\"percentage\",percentage)\n",
    "    print(\"allowed to sit in the exam\")\n",
    "else:\n",
    "    print(\"not allowed\")"
   ]
  },
  {
   "cell_type": "markdown",
   "metadata": {},
   "source": [
    "# Little Hard problems"
   ]
  },
  {
   "cell_type": "code",
   "execution_count": 14,
   "metadata": {},
   "outputs": [
    {
     "name": "stdin",
     "output_type": "stream",
     "text": [
      " 2000\n"
     ]
    },
    {
     "name": "stdout",
     "output_type": "stream",
     "text": [
      "it is a leap year\n"
     ]
    }
   ],
   "source": [
    "# problem 1\n",
    "#Write a program to check if a year is leap year or not.\n",
    "#If a year is divisible by 4 then it is leap year but if the year is century year like 2000, 1900, 2100 then it must be divisible by 400.\n",
    "year=int(input())\n",
    "if year % 4 == 0 and (year%10 !=0) or (year % 400==0) :\n",
    "    print (\"it is a leap year\")\n",
    "else:\n",
    "    print (\"not a leap year\")"
   ]
  },
  {
   "cell_type": "code",
   "execution_count": 4,
   "metadata": {},
   "outputs": [
    {
     "name": "stdin",
     "output_type": "stream",
     "text": [
      " 43\n",
      " F\n"
     ]
    },
    {
     "name": "stdout",
     "output_type": "stream",
     "text": [
      "work in urban area\n"
     ]
    }
   ],
   "source": [
    "# problem 2\n",
    "#Ask user to enter age, sex ( M or F ), marital status ( Y or N ) and then using following rules print their place of service.\n",
    "#if employee is female, then she will work only in urban areas.\n",
    "#if employee is a male and age is in between 20 to 40 then he may work in anywhere\n",
    "#if employee is male and age is in between 40 t0 60 then he will work in urban areas only.\n",
    "#And any other input of age should print \"ERROR\".\n",
    "\n",
    "age=int(input())\n",
    "sex=str(input())\n",
    "if sex== \"F\":\n",
    "    print(\"work in urban area\")\n",
    "elif sex==\"M\" and age >=20 and age <40:\n",
    "    print(\"he will wok\")\n",
    "elif sex== \"M\" and age >=40 and age <60:\n",
    "    print(\"he will work in urban area\")\n",
    "else:\n",
    "    print(\"error\")"
   ]
  },
  {
   "cell_type": "code",
   "execution_count": 1,
   "metadata": {},
   "outputs": [
    {
     "name": "stdin",
     "output_type": "stream",
     "text": [
      " 1234\n"
     ]
    },
    {
     "name": "stdout",
     "output_type": "stream",
     "text": [
      "4321\n"
     ]
    }
   ],
   "source": [
    "# problem 3\n",
    "#A 4 digit number is entered through keyboard. Write a program to print a new number with digits reversed as of orignal one. E.g.-\n",
    "#INPUT : 1234        OUTPUT : 4321\n",
    "#INPUT : 5982        OUTPUT : 2895\n",
    "a=int(input())\n",
    "rev=0\n",
    "if a>0:\n",
    "    while(a>0):\n",
    "        rev=rev*10+a%10\n",
    "        a=a//10\n",
    "print(rev)"
   ]
  },
  {
   "cell_type": "code",
   "execution_count": 13,
   "metadata": {},
   "outputs": [
    {
     "name": "stdin",
     "output_type": "stream",
     "text": [
      " 2100\n"
     ]
    },
    {
     "data": {
      "text/plain": [
       "False"
      ]
     },
     "execution_count": 13,
     "metadata": {},
     "output_type": "execute_result"
    }
   ],
   "source": [
    "# leap year problem \n",
    "def is_leap(year):\n",
    "    leap = False\n",
    "    \n",
    "    # Write your logic here\n",
    "    if year % 4 == 0:\n",
    "        leap = True\n",
    "    if year % 100 == 0:\n",
    "        leap = False\n",
    "    if year % 400 == 0:\n",
    "        leap = True\n",
    "\n",
    "    return leap\n",
    "year = int(input())\n",
    "is_leap(year)"
   ]
  },
  {
   "cell_type": "code",
   "execution_count": 11,
   "metadata": {},
   "outputs": [
    {
     "data": {
      "text/plain": [
       "200"
      ]
     },
     "execution_count": 11,
     "metadata": {},
     "output_type": "execute_result"
    }
   ],
   "source": [
    "1000%400"
   ]
  },
  {
   "cell_type": "code",
   "execution_count": 20,
   "metadata": {},
   "outputs": [
    {
     "name": "stdin",
     "output_type": "stream",
     "text": [
      " 3\n"
     ]
    },
    {
     "name": "stdout",
     "output_type": "stream",
     "text": [
      "12"
     ]
    },
    {
     "data": {
      "text/plain": [
       "[None, None]"
      ]
     },
     "execution_count": 20,
     "metadata": {},
     "output_type": "execute_result"
    }
   ],
   "source": [
    "[print(x,end='') for x in range(1, int(input()))]"
   ]
  },
  {
   "cell_type": "code",
   "execution_count": 27,
   "metadata": {},
   "outputs": [
    {
     "name": "stdin",
     "output_type": "stream",
     "text": [
      " 3\n"
     ]
    },
    {
     "name": "stdout",
     "output_type": "stream",
     "text": [
      "123"
     ]
    }
   ],
   "source": [
    "\n",
    "nu=int(input())\n",
    "def number(nu):\n",
    "    for i in range(1,nu+1):\n",
    "        print(i,end=\"\")\n",
    " \n",
    "number(nu)"
   ]
  },
  {
   "cell_type": "code",
   "execution_count": null,
   "metadata": {},
   "outputs": [],
   "source": []
  }
 ],
 "metadata": {
  "kernelspec": {
   "display_name": "Python 3",
   "language": "python",
   "name": "python3"
  },
  "language_info": {
   "codemirror_mode": {
    "name": "ipython",
    "version": 3
   },
   "file_extension": ".py",
   "mimetype": "text/x-python",
   "name": "python",
   "nbconvert_exporter": "python",
   "pygments_lexer": "ipython3",
   "version": "3.7.4"
  }
 },
 "nbformat": 4,
 "nbformat_minor": 4
}
