{
 "cells": [
  {
   "cell_type": "markdown",
   "metadata": {},
   "source": [
    "# While Loop"
   ]
  },
  {
   "cell_type": "code",
   "execution_count": 1,
   "metadata": {},
   "outputs": [
    {
     "name": "stdout",
     "output_type": "stream",
     "text": [
      "0\n",
      "1\n",
      "2\n",
      "3\n",
      "not exist\n"
     ]
    }
   ],
   "source": [
    "# example of else \n",
    "# \n",
    "num=0\n",
    "while(num<4):\n",
    "    print(num)\n",
    "    num=num+1\n",
    "else:\n",
    "    print(\"not exist\")\n",
    "    "
   ]
  },
  {
   "cell_type": "code",
   "execution_count": 12,
   "metadata": {
    "collapsed": true,
    "jupyter": {
     "outputs_hidden": true
    }
   },
   "outputs": [
    {
     "name": "stdout",
     "output_type": "stream",
     "text": [
      "List Iteration\n",
      "geeks\n",
      "for\n",
      "geeks\n",
      "0\n",
      "1\n",
      "2\n",
      "3\n",
      "4\n",
      "5\n",
      "geeks\n",
      "for\n",
      "geeks\n"
     ]
    }
   ],
   "source": [
    "# for loop \n",
    "print(\"List Iteration\") \n",
    "l = [\"geeks\", \"for\", \"geeks\"] \n",
    "for i in l: \n",
    "    print(i) \n",
    "\n",
    "#example 2\n",
    "li=[1,45,6,4,2,3]\n",
    "for i in range(len(li)):\n",
    "    print(i)\n",
    "    \n",
    "# Iterating by index \n",
    "  \n",
    "list = [\"geeks\", \"for\", \"geeks\"] \n",
    "for index in range(len(list)): \n",
    "    print (list[index] )"
   ]
  },
  {
   "cell_type": "code",
   "execution_count": 26,
   "metadata": {},
   "outputs": [
    {
     "name": "stdout",
     "output_type": "stream",
     "text": [
      "[3, 5, 7, 9, 11]\n"
     ]
    }
   ],
   "source": [
    "li=[1,2,3,4,5]\n",
    "li2=[2,3,4,5,6]\n",
    "li3=[]\n",
    "for i in range(len(li)):\n",
    "        li3.append(li[i]+li2[i])\n",
    "print(li3)"
   ]
  },
  {
   "cell_type": "code",
   "execution_count": 27,
   "metadata": {
    "collapsed": true,
    "jupyter": {
     "outputs_hidden": true,
     "source_hidden": true
    }
   },
   "outputs": [
    {
     "name": "stdin",
     "output_type": "stream",
     "text": [
      " 1234\n"
     ]
    },
    {
     "ename": "TypeError",
     "evalue": "'int' object is not iterable",
     "output_type": "error",
     "traceback": [
      "\u001b[1;31m---------------------------------------------------------------------------\u001b[0m",
      "\u001b[1;31mTypeError\u001b[0m                                 Traceback (most recent call last)",
      "\u001b[1;32m<ipython-input-27-1ede8310e6e5>\u001b[0m in \u001b[0;36m<module>\u001b[1;34m\u001b[0m\n\u001b[0;32m      1\u001b[0m \u001b[0msss\u001b[0m\u001b[1;33m=\u001b[0m\u001b[0mint\u001b[0m\u001b[1;33m(\u001b[0m\u001b[0minput\u001b[0m\u001b[1;33m(\u001b[0m\u001b[1;33m)\u001b[0m\u001b[1;33m)\u001b[0m\u001b[1;33m\u001b[0m\u001b[1;33m\u001b[0m\u001b[0m\n\u001b[0;32m      2\u001b[0m \u001b[0mrev\u001b[0m\u001b[1;33m=\u001b[0m\u001b[1;33m[\u001b[0m\u001b[1;33m]\u001b[0m\u001b[1;33m\u001b[0m\u001b[1;33m\u001b[0m\u001b[0m\n\u001b[1;32m----> 3\u001b[1;33m \u001b[1;32mfor\u001b[0m \u001b[0mi\u001b[0m \u001b[1;32min\u001b[0m \u001b[0msss\u001b[0m\u001b[1;33m:\u001b[0m\u001b[1;33m\u001b[0m\u001b[1;33m\u001b[0m\u001b[0m\n\u001b[0m\u001b[0;32m      4\u001b[0m     \u001b[0mc\u001b[0m\u001b[1;33m=\u001b[0m\u001b[0msss\u001b[0m\u001b[1;33m[\u001b[0m\u001b[1;33m:\u001b[0m\u001b[1;33m:\u001b[0m\u001b[1;33m-\u001b[0m\u001b[1;36m1\u001b[0m\u001b[1;33m]\u001b[0m\u001b[1;33m\u001b[0m\u001b[1;33m\u001b[0m\u001b[0m\n\u001b[0;32m      5\u001b[0m \u001b[1;33m\u001b[0m\u001b[0m\n",
      "\u001b[1;31mTypeError\u001b[0m: 'int' object is not iterable"
     ]
    }
   ],
   "source": [
    "sss=int(input())\n",
    "rev=[]\n",
    "for i in sss:\n",
    "    c=sss[::-1]\n",
    "    \n",
    "    "
   ]
  },
  {
   "cell_type": "code",
   "execution_count": 77,
   "metadata": {
    "collapsed": true,
    "jupyter": {
     "outputs_hidden": true
    }
   },
   "outputs": [
    {
     "name": "stdout",
     "output_type": "stream",
     "text": [
      "2\n",
      "3\n",
      "4\n",
      "5\n",
      "6\n",
      "7\n",
      "8\n",
      "\n",
      "2\n",
      "5\n",
      "6\n",
      "7\n",
      "8\n",
      "\n",
      "2\n"
     ]
    }
   ],
   "source": [
    "#pass statement - no operation happend\n",
    "\n",
    "lis=[2,3,4,5,6,7,8]\n",
    "for i in lis:\n",
    "    if i == 3 or i==4:\n",
    "        pass\n",
    "    print(i)\n",
    "print(\"\\r\")  \n",
    "\n",
    "# continue statement -ignores the elements in the if statement\n",
    "lis=[2,3,4,5,6,7,8]\n",
    "for i in lis:\n",
    "    if i == 3 or i==4:\n",
    "        continue\n",
    "    print(i)\n",
    "print(\"\\r\")\n",
    "\n",
    "# break statement\n",
    "lis=[2,3,4,5,6,7,8]\n",
    "for i in lis:\n",
    "    if i %2!=0:\n",
    "        break\n",
    "    else:\n",
    "        print(i)"
   ]
  },
  {
   "cell_type": "code",
   "execution_count": 80,
   "metadata": {
    "collapsed": true,
    "jupyter": {
     "outputs_hidden": true
    }
   },
   "outputs": [
    {
     "name": "stdout",
     "output_type": "stream",
     "text": [
      "Current Letter : g\n",
      "Current Letter : e\n",
      "Current Letter : e\n",
      "Current Letter : k\n",
      "Current Letter : s\n",
      "Current Letter : f\n",
      "Current Letter : o\n",
      "Current Letter : r\n",
      "Current Letter : g\n",
      "Current Letter : e\n",
      "Current Letter : e\n",
      "Current Letter : k\n",
      "Current Letter : s\n"
     ]
    }
   ],
   "source": [
    "for letter in 'geeksforgeeks':  \n",
    "    if letter == 'e' or letter == 's': \n",
    "         continue\n",
    "    print ('Current Letter :', letter )\n",
    "    var = 10"
   ]
  },
  {
   "cell_type": "markdown",
   "metadata": {},
   "source": [
    "#### enumerate()"
   ]
  },
  {
   "cell_type": "code",
   "execution_count": 14,
   "metadata": {
    "collapsed": true,
    "jupyter": {
     "outputs_hidden": true
    }
   },
   "outputs": [
    {
     "name": "stdout",
     "output_type": "stream",
     "text": [
      "(0, 2)\n",
      "(1, 3)\n",
      "(2, 45)\n",
      "(3, 56)\n",
      "(4, 77)\n",
      "(10, 'm')\n",
      "(11, 'y')\n",
      "(12, ' ')\n",
      "(13, 'n')\n",
      "(14, 'a')\n",
      "(15, 'm')\n",
      "(16, 'e')\n",
      "(17, ' ')\n",
      "(18, 'i')\n",
      "(19, 's')\n",
      "(20, ' ')\n",
      "(21, 'a')\n",
      "(22, 's')\n",
      "(23, 'h')\n",
      "(24, 'i')\n",
      "(25, 's')\n",
      "(26, 'h')\n",
      "(27, ' ')\n",
      "(28, 'd')\n",
      "(29, 'h')\n",
      "(30, 'a')\n",
      "(31, 'k')\n",
      "(32, 'a')\n",
      "(33, 'd')\n"
     ]
    }
   ],
   "source": [
    "# loops techniques in python\n",
    "# used to write the infex of the value with text\n",
    "\n",
    "lis=[2,3,45,56,77]\n",
    "for i in enumerate(lis):\n",
    "    print(i)\n",
    "str=\"my name is ashish dhakad\"\n",
    "for i in enumerate(str,10):\n",
    "    print(i)\n",
    "# the input after the  variable is used to where you want to start\n"
   ]
  },
  {
   "cell_type": "markdown",
   "metadata": {},
   "source": [
    "### zip()"
   ]
  },
  {
   "cell_type": "code",
   "execution_count": 34,
   "metadata": {},
   "outputs": [
    {
     "name": "stdout",
     "output_type": "stream",
     "text": [
      "[5, 7, 9]\n"
     ]
    }
   ],
   "source": [
    "# using zip in the loop to add the two same thing (list-list,tuple to tuple)\n",
    "list1 = [1, 2, 3]\n",
    "list2 = [4, 5, 6]\n",
    "sum_list = []\n",
    "for (item1, item2) in zip(list1, list2):\n",
    "    sum_list.append(item1+item2)\n",
    "print(sum_list)\n"
   ]
  },
  {
   "cell_type": "markdown",
   "metadata": {},
   "source": [
    "# iteritem()-it is not supported in python 3.1 and items()"
   ]
  },
  {
   "cell_type": "code",
   "execution_count": 57,
   "metadata": {},
   "outputs": [
    {
     "name": "stdout",
     "output_type": "stream",
     "text": [
      "the key value using iteritem:\n",
      "\n",
      "name - ashish dhakad\n",
      "accno - 2010011010\n",
      "sex - Male\n"
     ]
    }
   ],
   "source": [
    "#1\n",
    "\n",
    "dic={'name -':'ashish dhakad','accno -':2010011010,\"sex -\":('Male')}\n",
    "print(\"the key value using iteritem:\"),print(\"\\r\")\n",
    "for key,value in dic.items():\n",
    "    print(key,value)"
   ]
  },
  {
   "cell_type": "code",
   "execution_count": 71,
   "metadata": {},
   "outputs": [
    {
     "name": "stdout",
     "output_type": "stream",
     "text": [
      "[1, 1, 2, 3, 3, 5, 6]\n",
      "1 2 3 5 6 "
     ]
    }
   ],
   "source": [
    "#1 to sort the list we can use the sort or sorted method \n",
    "\n",
    "lis = [ 1 , 3, 5, 6, 2, 1, 3 ] \n",
    "for i in range(len(lis)):\n",
    "    lis.sort()\n",
    "print(lis)\n",
    "\n",
    "#2\n",
    "lis = [ 1 , 3, 5, 6, 2, 1, 3 ] \n",
    "for i in sorted(set(lis)):\n",
    "    print(i,end=\" \")\n",
    "    \n",
    "#3\n",
    "lis = [ 1 , 3, 5, 6, 2, 1, 3 ] \n",
    "\n"
   ]
  },
  {
   "cell_type": "code",
   "execution_count": 5,
   "metadata": {},
   "outputs": [
    {
     "name": "stdout",
     "output_type": "stream",
     "text": [
      "  h s i h s a   s i   e m a n   y m "
     ]
    }
   ],
   "source": [
    "#reverse()\n",
    "#it is used to reverse the particular data type \n",
    "strr=\"my name is ashish \"\n",
    "for i in reversed(strr):\n",
    "    print((i),end=\" \")\n",
    "    \n"
   ]
  },
  {
   "cell_type": "code",
   "execution_count": null,
   "metadata": {},
   "outputs": [],
   "source": [
    "lis = [ 1 , 5, 6, 2, 1, 3,7,7 ] \n",
    "print (\"The list in reversed order is : \") \n",
    "for i in (lis) :\n",
    "    while i % 2 == 0:\n",
    "        continue\n",
    "    print (i,end=\" \") "
   ]
  },
  {
   "cell_type": "code",
   "execution_count": 26,
   "metadata": {},
   "outputs": [
    {
     "name": "stdout",
     "output_type": "stream",
     "text": [
      "2 5 8 "
     ]
    }
   ],
   "source": [
    "# function to get range\n",
    "def togetrange(a,b,c):\n",
    "    for i in range(a,b,c):\n",
    "        print(i,end=\" \")\n",
    "togetrange(2,10,3)"
   ]
  },
  {
   "cell_type": "markdown",
   "metadata": {},
   "source": [
    "# Programme for printing the pyramid in the python\n"
   ]
  },
  {
   "cell_type": "code",
   "execution_count": 50,
   "metadata": {
    "collapsed": true,
    "jupyter": {
     "outputs_hidden": true
    }
   },
   "outputs": [
    {
     "name": "stdout",
     "output_type": "stream",
     "text": [
      "* \n",
      "* * \n",
      "* * * \n",
      "* * * * \n",
      "* * * * * \n",
      "* * * * * * \n",
      "* * * * * * * \n",
      "\n",
      "\n",
      "*\n",
      "\n",
      "*\n",
      "**\n",
      "\n",
      "*\n",
      "**\n",
      "***\n",
      "\n",
      "*\n",
      "**\n",
      "***\n",
      "****\n"
     ]
    }
   ],
   "source": [
    "#1 simple pyramid\n",
    "\n",
    "def pyramid(n):\n",
    "    for i in range(0,n):\n",
    "        for j in range(0,i+1):\n",
    "            print(\"* \",end=\"\")\n",
    "        print(\"\\r\")\n",
    "pyramid(7)\n",
    "\n",
    "#2 using list\n",
    "def pyr(n):\n",
    "    mylist=[]\n",
    "    for i in range(0,n+1):\n",
    "        mylist.append(\"*\"*i)\n",
    "        print(\"\\n\".join(mylist))\n",
    "pyr(4)"
   ]
  },
  {
   "cell_type": "code",
   "execution_count": 111,
   "metadata": {},
   "outputs": [
    {
     "name": "stdout",
     "output_type": "stream",
     "text": [
      "      * \n",
      "    * * \n",
      "  * * * \n",
      "* * * * \n"
     ]
    }
   ],
   "source": [
    "# 180* roatation \n",
    "\n",
    "def pypart2(n):  \n",
    "    k = 2*n - 2\n",
    "    for i in range(0, n):  \n",
    "        for j in range(0, k): \n",
    "            print(end=\" \") \n",
    "        k = k - 2\n",
    "        for j in range(0, i+1):  \n",
    "            print(\"* \", end=\"\") \n",
    "        print(\"\\r\") \n",
    "pypart2(4)"
   ]
  },
  {
   "cell_type": "code",
   "execution_count": 134,
   "metadata": {},
   "outputs": [
    {
     "name": "stdout",
     "output_type": "stream",
     "text": [
      "1 \n",
      "1 2 \n",
      "1 2 3 \n",
      "1 2 3 4 \n",
      "1 2 3 4 5 \n",
      "1 2 3 4 5 6 \n"
     ]
    }
   ],
   "source": [
    "# print the number \n",
    "def numcount(n):\n",
    "    num=1\n",
    "    for i in range(0,n):\n",
    "        num=1\n",
    "        for j in range (0,i+1):\n",
    "            print(num,end=\" \")\n",
    "            num=num+1\n",
    "        print(\"\\r\")\n",
    "numcount(6)\n",
    "\n",
    "# print the continous number \n",
    "def numcount(n):\n",
    "    num=1\n",
    "    for i in range(0,n):\n",
    "        for j in range (0,i+1):\n",
    "            print(num,end=\" \")\n",
    "            num=num+1\n",
    "        print(\"\\r\")\n",
    "numcount(6)\n",
    "\n",
    "           \n"
   ]
  },
  {
   "cell_type": "code",
   "execution_count": null,
   "metadata": {},
   "outputs": [],
   "source": []
  }
 ],
 "metadata": {
  "kernelspec": {
   "display_name": "Python 3",
   "language": "python",
   "name": "python3"
  },
  "language_info": {
   "codemirror_mode": {
    "name": "ipython",
    "version": 3
   },
   "file_extension": ".py",
   "mimetype": "text/x-python",
   "name": "python",
   "nbconvert_exporter": "python",
   "pygments_lexer": "ipython3",
   "version": "3.7.4"
  }
 },
 "nbformat": 4,
 "nbformat_minor": 4
}
