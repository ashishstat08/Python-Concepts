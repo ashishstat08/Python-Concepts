{
 "cells": [
  {
   "cell_type": "markdown",
   "metadata": {},
   "source": [
    "# Numpy practice 101 exercise\n",
    "## level 1"
   ]
  },
  {
   "cell_type": "markdown",
   "metadata": {},
   "source": [
    "1.import the numpy\n"
   ]
  },
  {
   "cell_type": "code",
   "execution_count": 1,
   "metadata": {},
   "outputs": [],
   "source": [
    "#1--------------import the numpy---------------#\n",
    "import numpy as np"
   ]
  },
  {
   "cell_type": "code",
   "execution_count": 109,
   "metadata": {},
   "outputs": [
    {
     "name": "stdout",
     "output_type": "stream",
     "text": [
      "[0 1 2 3 4 5 6 7 8 9]\n"
     ]
    }
   ],
   "source": [
    "#2------------How to create a 1D array?------------#\n",
    "ar1=np.arange(0,10)\n",
    "print(ar1)"
   ]
  },
  {
   "cell_type": "code",
   "execution_count": 110,
   "metadata": {},
   "outputs": [
    {
     "data": {
      "text/plain": [
       "array([[ True,  True,  True],\n",
       "       [ True,  True,  True],\n",
       "       [ True,  True,  True]])"
      ]
     },
     "execution_count": 110,
     "metadata": {},
     "output_type": "execute_result"
    }
   ],
   "source": [
    "#3--------------How to create a boolean array?--------------# - X\n",
    "np.full((3,3),True,dtype='bool')\n"
   ]
  },
  {
   "cell_type": "code",
   "execution_count": 16,
   "metadata": {},
   "outputs": [
    {
     "name": "stdout",
     "output_type": "stream",
     "text": [
      "[1 3 5 7 9]\n",
      "[1, 3, 5, 7, 9]\n"
     ]
    }
   ],
   "source": [
    "#4------------ How to extract items that satisfy a given condition from 1D array?------------------#\n",
    "#-------------Extract all odd numbers from arr----------------------#\n",
    "ar2=np.arange(0,10,dtype='int')\n",
    "#1\n",
    "res=ar2[ar2 %2 !=0]\n",
    "print(res)\n",
    "\n",
    "#2 by loop\n",
    "odd_num=[]\n",
    "for num in ar2:\n",
    "    if num %2 != 0:\n",
    "        odd_num.append(num)\n",
    "print(odd_num)\n",
    "\n",
    "#3 Solution\n",
    "arr[arr % 2 == 1]\n"
   ]
  },
  {
   "cell_type": "code",
   "execution_count": 24,
   "metadata": {},
   "outputs": [
    {
     "name": "stdout",
     "output_type": "stream",
     "text": [
      "[ 0 -1  2 -1  4 -1  6 -1  8 -1]\n"
     ]
    }
   ],
   "source": [
    "#5------------------- Replace all odd numbers in arr with -1----------------------#\n",
    "ar3=np.arange(0,10,dtype='int')\n",
    "ar3[ar3%2!=0]=-1\n",
    "print(ar3)"
   ]
  },
  {
   "cell_type": "code",
   "execution_count": 31,
   "metadata": {},
   "outputs": [
    {
     "name": "stdout",
     "output_type": "stream",
     "text": [
      "[ 0 -1  2 -1  4 -1  6 -1  8 -1]\n",
      "[0 1 2 3 4 5 6 7 8 9]\n",
      "[0 1 2 3 4 5 6 7 8 9]\n"
     ]
    },
    {
     "data": {
      "text/plain": [
       "array([ 0, -1,  2, -1,  4, -1,  6, -1,  8, -1])"
      ]
     },
     "execution_count": 31,
     "metadata": {},
     "output_type": "execute_result"
    }
   ],
   "source": [
    "#6-----------------Replace all odd numbers in arr with -1 without changing arr-------------------#\n",
    "#1-\n",
    "ar4=np.arange(0,10,dtype='int')\n",
    "ar5=ar4.copy()\n",
    "ar5[ar5%2!=0]=-1\n",
    "print(ar5)\n",
    "print(ar4)\n",
    "\n",
    "#2-\n",
    "arr = np.arange(10)\n",
    "out = np.where(arr % 2 == 1, -1, arr)\n",
    "print(arr)\n",
    "out"
   ]
  },
  {
   "cell_type": "code",
   "execution_count": 34,
   "metadata": {},
   "outputs": [
    {
     "name": "stdout",
     "output_type": "stream",
     "text": [
      "[[0 1 2 3 4]\n",
      " [5 6 7 8 9]]\n",
      "[[0 1 2 3 4]\n",
      " [5 6 7 8 9]]\n"
     ]
    }
   ],
   "source": [
    "#7-----------------------Convert a 1D array to a 2D array with 2 rows----------------#\n",
    "arr = np.arange(10)\n",
    "res=arr.reshape(2,5)\n",
    "print(res)\n",
    "\n",
    "#2 to define the automatic coloumn use \n",
    "res1=arr.reshape(2,-1)\n",
    "print(res1)"
   ]
  },
  {
   "cell_type": "code",
   "execution_count": 39,
   "metadata": {
    "collapsed": true,
    "jupyter": {
     "outputs_hidden": true
    }
   },
   "outputs": [
    {
     "name": "stdout",
     "output_type": "stream",
     "text": [
      "[[0 1 2 3 4]\n",
      " [5 6 7 8 9]\n",
      " [1 1 1 1 1]\n",
      " [1 1 1 1 1]]\n",
      "[[0 1 2 3 4]\n",
      " [5 6 7 8 9]\n",
      " [1 1 1 1 1]\n",
      " [1 1 1 1 1]]\n"
     ]
    }
   ],
   "source": [
    "#8---------------------Stack arrays a and b vertically----------------------#\n",
    "#1 using vstack\n",
    "a = np.arange(10).reshape(2,-1)\n",
    "b = np.repeat(1,10).reshape(2,-1)\n",
    "res=np.vstack((a,b))\n",
    "print(res)\n",
    "\n",
    "#2 using concatenate\n",
    "a = np.arange(10).reshape(2,-1)\n",
    "b = np.repeat(1, 10).reshape(2,-1)\n",
    "res=np.concatenate((a,b),axis=0)\n",
    "print(res)"
   ]
  },
  {
   "cell_type": "code",
   "execution_count": 40,
   "metadata": {},
   "outputs": [
    {
     "name": "stdout",
     "output_type": "stream",
     "text": [
      "[[0 1 2 3 4 1 1 1 1 1]\n",
      " [5 6 7 8 9 1 1 1 1 1]]\n",
      "[[0 1 2 3 4 1 1 1 1 1]\n",
      " [5 6 7 8 9 1 1 1 1 1]]\n"
     ]
    }
   ],
   "source": [
    "#9----------------Stack arrays a and b horizontally---------------------#\n",
    "#1 using vstack\n",
    "a = np.arange(10).reshape(2,-1)\n",
    "b = np.repeat(1,10).reshape(2,-1)\n",
    "res=np.hstack((a,b))\n",
    "print(res)\n",
    "\n",
    "#2 using concatenate\n",
    "a = np.arange(10).reshape(2,-1)\n",
    "b = np.repeat(1, 10).reshape(2,-1)\n",
    "res=np.concatenate((a,b),axis=1)\n",
    "print(res)"
   ]
  },
  {
   "cell_type": "code",
   "execution_count": 56,
   "metadata": {},
   "outputs": [
    {
     "data": {
      "text/plain": [
       "array([1, 1, 1, 2, 2, 2, 3, 3, 3, 1, 2, 3, 1, 2, 3, 1, 2, 3])"
      ]
     },
     "execution_count": 56,
     "metadata": {},
     "output_type": "execute_result"
    }
   ],
   "source": [
    "#10------------------Create the following pattern without hardcoding. Use only numpy functions and the below input array a.----------------#\n",
    "a = np.array([1,2,3])\n",
    "# np.r_ is used to do the multiple function use inside one \n",
    "np.r_[np.repeat(a,3),np.tile(a,3)]"
   ]
  },
  {
   "cell_type": "code",
   "execution_count": 59,
   "metadata": {},
   "outputs": [
    {
     "name": "stdout",
     "output_type": "stream",
     "text": [
      "[2 4]\n"
     ]
    }
   ],
   "source": [
    "#11--------------------------Get the common items between a and b----------------#\n",
    "\n",
    "a = np.array([1,2,3,2,3,4,3,4,5,6])\n",
    "b = np.array([7,2,10,2,7,4,9,4,9,8])\n",
    "res=np.intersect1d(a,b)\n",
    "print(res)"
   ]
  },
  {
   "cell_type": "code",
   "execution_count": 60,
   "metadata": {},
   "outputs": [
    {
     "name": "stdout",
     "output_type": "stream",
     "text": [
      "[1 2 3 4]\n"
     ]
    }
   ],
   "source": [
    "#12----------------------remove the same elements in array--------------#\n",
    "a = np.array([1,2,3,4,5])\n",
    "b = np.array([5,6,7,8,9])\n",
    "res=np.setdiff1d(a,b)\n",
    "print(res)"
   ]
  },
  {
   "cell_type": "code",
   "execution_count": 62,
   "metadata": {},
   "outputs": [
    {
     "name": "stdout",
     "output_type": "stream",
     "text": [
      "(array([1, 3], dtype=int64),)\n"
     ]
    }
   ],
   "source": [
    "#13-------------------Get the positions where elements of a and b match-------------------#\n",
    "a = np.array([1,6,3,8,5])\n",
    "b = np.array([5,6,7,8,9])\n",
    "res=np.where(a==b)\n",
    "print(res)"
   ]
  },
  {
   "cell_type": "code",
   "execution_count": 70,
   "metadata": {},
   "outputs": [
    {
     "data": {
      "text/plain": [
       "array([ 6,  9, 10])"
      ]
     },
     "execution_count": 70,
     "metadata": {},
     "output_type": "execute_result"
    }
   ],
   "source": [
    "#14----------------extract element from a given range-----------------------#\n",
    "a = np.array([2, 6, 1, 9, 10, 3, 27])\n",
    "res= np.where((a>5) &( a<=10))\n",
    "a[res]"
   ]
  },
  {
   "cell_type": "code",
   "execution_count": 72,
   "metadata": {},
   "outputs": [
    {
     "data": {
      "text/plain": [
       "array([[1, 0, 2],\n",
       "       [4, 3, 5],\n",
       "       [7, 6, 8]])"
      ]
     },
     "execution_count": 72,
     "metadata": {},
     "output_type": "execute_result"
    }
   ],
   "source": [
    "#16----------------swap coloumns of array------------------#\n",
    "arr = np.arange(9).reshape(3,3)\n",
    "arr[:,[1,0,2]]"
   ]
  },
  {
   "cell_type": "code",
   "execution_count": 76,
   "metadata": {},
   "outputs": [
    {
     "data": {
      "text/plain": [
       "array([[3, 4, 5],\n",
       "       [0, 1, 2],\n",
       "       [6, 7, 8]])"
      ]
     },
     "execution_count": 76,
     "metadata": {},
     "output_type": "execute_result"
    }
   ],
   "source": [
    "#17----------------swap rows of array------------------#\n",
    "arr = np.arange(9).reshape(3,3)\n",
    "arr\n",
    "arr[[1,0,2],]"
   ]
  },
  {
   "cell_type": "code",
   "execution_count": 81,
   "metadata": {},
   "outputs": [
    {
     "data": {
      "text/plain": [
       "array([[6, 7, 8],\n",
       "       [3, 4, 5],\n",
       "       [0, 1, 2]])"
      ]
     },
     "execution_count": 81,
     "metadata": {},
     "output_type": "execute_result"
    }
   ],
   "source": [
    "#18---------------how to reverse the 2d array-----------#\n",
    "arr = np.arange(9).reshape(3,3)\n",
    "arr[::-1]"
   ]
  },
  {
   "cell_type": "code",
   "execution_count": 82,
   "metadata": {},
   "outputs": [
    {
     "data": {
      "text/plain": [
       "array([[2, 1, 0],\n",
       "       [5, 4, 3],\n",
       "       [8, 7, 6]])"
      ]
     },
     "execution_count": 82,
     "metadata": {},
     "output_type": "execute_result"
    }
   ],
   "source": [
    "#19---------------how to reverse the 2d array-----------#\n",
    "arr=np.arange(9).reshape(3,3)\n",
    "arr[:,::-1]"
   ]
  },
  {
   "cell_type": "code",
   "execution_count": 99,
   "metadata": {},
   "outputs": [
    {
     "data": {
      "text/plain": [
       "array([[8.75337856, 6.65829436, 0.23744792],\n",
       "       [1.07668886, 1.50863624, 9.71201995],\n",
       "       [1.34539904, 6.92847052, 1.98909499],\n",
       "       [4.03872113, 5.46973363, 0.4077788 ],\n",
       "       [1.00192217, 8.72065041, 5.01444429]])"
      ]
     },
     "execution_count": 99,
     "metadata": {},
     "output_type": "execute_result"
    }
   ],
   "source": [
    "#20-----------2d array containing random flot---------------#\n",
    "np.random.randint(0,10,size=(5,3))+np.random.random((5,3))\n"
   ]
  },
  {
   "cell_type": "code",
   "execution_count": 119,
   "metadata": {},
   "outputs": [
    {
     "data": {
      "text/plain": [
       "array([[0.62 , 0.229, 0.41 ],\n",
       "       [0.422, 0.258, 0.345],\n",
       "       [0.807, 0.833, 0.791],\n",
       "       [0.921, 0.377, 0.949]])"
      ]
     },
     "execution_count": 119,
     "metadata": {},
     "output_type": "execute_result"
    }
   ],
   "source": [
    "#21-----------print upto three decimal places---------------#\n",
    "sam=np.random.random((5,3))\n",
    "np.set_printoptions(precision=3) \n",
    "sam[:4]"
   ]
  },
  {
   "cell_type": "code",
   "execution_count": 4,
   "metadata": {},
   "outputs": [
    {
     "name": "stdout",
     "output_type": "stream",
     "text": [
      "[[0.0005434  0.00027837 0.00042452]\n",
      " [0.00084478 0.00000472 0.00012157]\n",
      " [0.00067075 0.00082585 0.00013671]]\n"
     ]
    },
    {
     "data": {
      "text/plain": [
       "array([[0.000543, 0.000278, 0.000425],\n",
       "       [0.000845, 0.000005, 0.000122],\n",
       "       [0.000671, 0.000826, 0.000137]])"
      ]
     },
     "execution_count": 4,
     "metadata": {},
     "output_type": "execute_result"
    }
   ],
   "source": [
    "#22----------------preety print of the numpy arry-------------#\n",
    "np.set_printoptions(suppress=True)\n",
    "np.random.seed(100)\n",
    "rand_arr=np.random.random([3,3])/1e3\n",
    "print(rand_arr)\n",
    "np.set_printoptions(suppress=True,precision=6)\n",
    "rand_arr"
   ]
  },
  {
   "cell_type": "code",
   "execution_count": 139,
   "metadata": {},
   "outputs": [
    {
     "name": "stdout",
     "output_type": "stream",
     "text": [
      "[ 0  1  2 ... 17 18 19]\n"
     ]
    }
   ],
   "source": [
    "#23---------------Limit the number of items printed in python numpy array a to a maximum of 6 elements.---------------------#\n",
    "ar1=np.arange(20)\n",
    "np.set_printoptions(threshold=8,edgeitems=3)\n",
    "print(ar1)"
   ]
  },
  {
   "cell_type": "code",
   "execution_count": 111,
   "metadata": {
    "collapsed": true,
    "jupyter": {
     "outputs_hidden": true
    }
   },
   "outputs": [
    {
     "name": "stdout",
     "output_type": "stream",
     "text": [
      "[[b'5.1' b'3.5' b'1.4' b'0.2' b'Iris-setosa']\n",
      " [b'4.9' b'3.0' b'1.4' b'0.2' b'Iris-setosa']\n",
      " [b'4.7' b'3.2' b'1.3' b'0.2' b'Iris-setosa']\n",
      " [b'4.6' b'3.1' b'1.5' b'0.2' b'Iris-setosa']\n",
      " [b'5.0' b'3.6' b'1.4' b'0.2' b'Iris-setosa']\n",
      " [b'5.4' b'3.9' b'1.7' b'0.4' b'Iris-setosa']\n",
      " [b'4.6' b'3.4' b'1.4' b'0.3' b'Iris-setosa']\n",
      " [b'5.0' b'3.4' b'1.5' b'0.2' b'Iris-setosa']\n",
      " [b'4.4' b'2.9' b'1.4' b'0.2' b'Iris-setosa']\n",
      " [b'4.9' b'3.1' b'1.5' b'0.1' b'Iris-setosa']\n",
      " [b'5.4' b'3.7' b'1.5' b'0.2' b'Iris-setosa']\n",
      " [b'4.8' b'3.4' b'1.6' b'0.2' b'Iris-setosa']\n",
      " [b'4.8' b'3.0' b'1.4' b'0.1' b'Iris-setosa']\n",
      " [b'4.3' b'3.0' b'1.1' b'0.1' b'Iris-setosa']\n",
      " [b'5.8' b'4.0' b'1.2' b'0.2' b'Iris-setosa']\n",
      " [b'5.7' b'4.4' b'1.5' b'0.4' b'Iris-setosa']\n",
      " [b'5.4' b'3.9' b'1.3' b'0.4' b'Iris-setosa']\n",
      " [b'5.1' b'3.5' b'1.4' b'0.3' b'Iris-setosa']\n",
      " [b'5.7' b'3.8' b'1.7' b'0.3' b'Iris-setosa']\n",
      " [b'5.1' b'3.8' b'1.5' b'0.3' b'Iris-setosa']\n",
      " [b'5.4' b'3.4' b'1.7' b'0.2' b'Iris-setosa']\n",
      " [b'5.1' b'3.7' b'1.5' b'0.4' b'Iris-setosa']\n",
      " [b'4.6' b'3.6' b'1.0' b'0.2' b'Iris-setosa']\n",
      " [b'5.1' b'3.3' b'1.7' b'0.5' b'Iris-setosa']\n",
      " [b'4.8' b'3.4' b'1.9' b'0.2' b'Iris-setosa']\n",
      " [b'5.0' b'3.0' b'1.6' b'0.2' b'Iris-setosa']\n",
      " [b'5.0' b'3.4' b'1.6' b'0.4' b'Iris-setosa']\n",
      " [b'5.2' b'3.5' b'1.5' b'0.2' b'Iris-setosa']\n",
      " [b'5.2' b'3.4' b'1.4' b'0.2' b'Iris-setosa']\n",
      " [b'4.7' b'3.2' b'1.6' b'0.2' b'Iris-setosa']\n",
      " [b'4.8' b'3.1' b'1.6' b'0.2' b'Iris-setosa']\n",
      " [b'5.4' b'3.4' b'1.5' b'0.4' b'Iris-setosa']\n",
      " [b'5.2' b'4.1' b'1.5' b'0.1' b'Iris-setosa']\n",
      " [b'5.5' b'4.2' b'1.4' b'0.2' b'Iris-setosa']\n",
      " [b'4.9' b'3.1' b'1.5' b'0.1' b'Iris-setosa']\n",
      " [b'5.0' b'3.2' b'1.2' b'0.2' b'Iris-setosa']\n",
      " [b'5.5' b'3.5' b'1.3' b'0.2' b'Iris-setosa']\n",
      " [b'4.9' b'3.1' b'1.5' b'0.1' b'Iris-setosa']\n",
      " [b'4.4' b'3.0' b'1.3' b'0.2' b'Iris-setosa']\n",
      " [b'5.1' b'3.4' b'1.5' b'0.2' b'Iris-setosa']\n",
      " [b'5.0' b'3.5' b'1.3' b'0.3' b'Iris-setosa']\n",
      " [b'4.5' b'2.3' b'1.3' b'0.3' b'Iris-setosa']\n",
      " [b'4.4' b'3.2' b'1.3' b'0.2' b'Iris-setosa']\n",
      " [b'5.0' b'3.5' b'1.6' b'0.6' b'Iris-setosa']\n",
      " [b'5.1' b'3.8' b'1.9' b'0.4' b'Iris-setosa']\n",
      " [b'4.8' b'3.0' b'1.4' b'0.3' b'Iris-setosa']\n",
      " [b'5.1' b'3.8' b'1.6' b'0.2' b'Iris-setosa']\n",
      " [b'4.6' b'3.2' b'1.4' b'0.2' b'Iris-setosa']\n",
      " [b'5.3' b'3.7' b'1.5' b'0.2' b'Iris-setosa']\n",
      " [b'5.0' b'3.3' b'1.4' b'0.2' b'Iris-setosa']\n",
      " [b'7.0' b'3.2' b'4.7' b'1.4' b'Iris-versicolor']\n",
      " [b'6.4' b'3.2' b'4.5' b'1.5' b'Iris-versicolor']\n",
      " [b'6.9' b'3.1' b'4.9' b'1.5' b'Iris-versicolor']\n",
      " [b'5.5' b'2.3' b'4.0' b'1.3' b'Iris-versicolor']\n",
      " [b'6.5' b'2.8' b'4.6' b'1.5' b'Iris-versicolor']\n",
      " [b'5.7' b'2.8' b'4.5' b'1.3' b'Iris-versicolor']\n",
      " [b'6.3' b'3.3' b'4.7' b'1.6' b'Iris-versicolor']\n",
      " [b'4.9' b'2.4' b'3.3' b'1.0' b'Iris-versicolor']\n",
      " [b'6.6' b'2.9' b'4.6' b'1.3' b'Iris-versicolor']\n",
      " [b'5.2' b'2.7' b'3.9' b'1.4' b'Iris-versicolor']\n",
      " [b'5.0' b'2.0' b'3.5' b'1.0' b'Iris-versicolor']\n",
      " [b'5.9' b'3.0' b'4.2' b'1.5' b'Iris-versicolor']\n",
      " [b'6.0' b'2.2' b'4.0' b'1.0' b'Iris-versicolor']\n",
      " [b'6.1' b'2.9' b'4.7' b'1.4' b'Iris-versicolor']\n",
      " [b'5.6' b'2.9' b'3.6' b'1.3' b'Iris-versicolor']\n",
      " [b'6.7' b'3.1' b'4.4' b'1.4' b'Iris-versicolor']\n",
      " [b'5.6' b'3.0' b'4.5' b'1.5' b'Iris-versicolor']\n",
      " [b'5.8' b'2.7' b'4.1' b'1.0' b'Iris-versicolor']\n",
      " [b'6.2' b'2.2' b'4.5' b'1.5' b'Iris-versicolor']\n",
      " [b'5.6' b'2.5' b'3.9' b'1.1' b'Iris-versicolor']\n",
      " [b'5.9' b'3.2' b'4.8' b'1.8' b'Iris-versicolor']\n",
      " [b'6.1' b'2.8' b'4.0' b'1.3' b'Iris-versicolor']\n",
      " [b'6.3' b'2.5' b'4.9' b'1.5' b'Iris-versicolor']\n",
      " [b'6.1' b'2.8' b'4.7' b'1.2' b'Iris-versicolor']\n",
      " [b'6.4' b'2.9' b'4.3' b'1.3' b'Iris-versicolor']\n",
      " [b'6.6' b'3.0' b'4.4' b'1.4' b'Iris-versicolor']\n",
      " [b'6.8' b'2.8' b'4.8' b'1.4' b'Iris-versicolor']\n",
      " [b'6.7' b'3.0' b'5.0' b'1.7' b'Iris-versicolor']\n",
      " [b'6.0' b'2.9' b'4.5' b'1.5' b'Iris-versicolor']\n",
      " [b'5.7' b'2.6' b'3.5' b'1.0' b'Iris-versicolor']\n",
      " [b'5.5' b'2.4' b'3.8' b'1.1' b'Iris-versicolor']\n",
      " [b'5.5' b'2.4' b'3.7' b'1.0' b'Iris-versicolor']\n",
      " [b'5.8' b'2.7' b'3.9' b'1.2' b'Iris-versicolor']\n",
      " [b'6.0' b'2.7' b'5.1' b'1.6' b'Iris-versicolor']\n",
      " [b'5.4' b'3.0' b'4.5' b'1.5' b'Iris-versicolor']\n",
      " [b'6.0' b'3.4' b'4.5' b'1.6' b'Iris-versicolor']\n",
      " [b'6.7' b'3.1' b'4.7' b'1.5' b'Iris-versicolor']\n",
      " [b'6.3' b'2.3' b'4.4' b'1.3' b'Iris-versicolor']\n",
      " [b'5.6' b'3.0' b'4.1' b'1.3' b'Iris-versicolor']\n",
      " [b'5.5' b'2.5' b'4.0' b'1.3' b'Iris-versicolor']\n",
      " [b'5.5' b'2.6' b'4.4' b'1.2' b'Iris-versicolor']\n",
      " [b'6.1' b'3.0' b'4.6' b'1.4' b'Iris-versicolor']\n",
      " [b'5.8' b'2.6' b'4.0' b'1.2' b'Iris-versicolor']\n",
      " [b'5.0' b'2.3' b'3.3' b'1.0' b'Iris-versicolor']\n",
      " [b'5.6' b'2.7' b'4.2' b'1.3' b'Iris-versicolor']\n",
      " [b'5.7' b'3.0' b'4.2' b'1.2' b'Iris-versicolor']\n",
      " [b'5.7' b'2.9' b'4.2' b'1.3' b'Iris-versicolor']\n",
      " [b'6.2' b'2.9' b'4.3' b'1.3' b'Iris-versicolor']\n",
      " [b'5.1' b'2.5' b'3.0' b'1.1' b'Iris-versicolor']\n",
      " [b'5.7' b'2.8' b'4.1' b'1.3' b'Iris-versicolor']\n",
      " [b'6.3' b'3.3' b'6.0' b'2.5' b'Iris-virginica']\n",
      " [b'5.8' b'2.7' b'5.1' b'1.9' b'Iris-virginica']\n",
      " [b'7.1' b'3.0' b'5.9' b'2.1' b'Iris-virginica']\n",
      " [b'6.3' b'2.9' b'5.6' b'1.8' b'Iris-virginica']\n",
      " [b'6.5' b'3.0' b'5.8' b'2.2' b'Iris-virginica']\n",
      " [b'7.6' b'3.0' b'6.6' b'2.1' b'Iris-virginica']\n",
      " [b'4.9' b'2.5' b'4.5' b'1.7' b'Iris-virginica']\n",
      " [b'7.3' b'2.9' b'6.3' b'1.8' b'Iris-virginica']\n",
      " [b'6.7' b'2.5' b'5.8' b'1.8' b'Iris-virginica']\n",
      " [b'7.2' b'3.6' b'6.1' b'2.5' b'Iris-virginica']\n",
      " [b'6.5' b'3.2' b'5.1' b'2.0' b'Iris-virginica']\n",
      " [b'6.4' b'2.7' b'5.3' b'1.9' b'Iris-virginica']\n",
      " [b'6.8' b'3.0' b'5.5' b'2.1' b'Iris-virginica']\n",
      " [b'5.7' b'2.5' b'5.0' b'2.0' b'Iris-virginica']\n",
      " [b'5.8' b'2.8' b'5.1' b'2.4' b'Iris-virginica']\n",
      " [b'6.4' b'3.2' b'5.3' b'2.3' b'Iris-virginica']\n",
      " [b'6.5' b'3.0' b'5.5' b'1.8' b'Iris-virginica']\n",
      " [b'7.7' b'3.8' b'6.7' b'2.2' b'Iris-virginica']\n",
      " [b'7.7' b'2.6' b'6.9' b'2.3' b'Iris-virginica']\n",
      " [b'6.0' b'2.2' b'5.0' b'1.5' b'Iris-virginica']\n",
      " [b'6.9' b'3.2' b'5.7' b'2.3' b'Iris-virginica']\n",
      " [b'5.6' b'2.8' b'4.9' b'2.0' b'Iris-virginica']\n",
      " [b'7.7' b'2.8' b'6.7' b'2.0' b'Iris-virginica']\n",
      " [b'6.3' b'2.7' b'4.9' b'1.8' b'Iris-virginica']\n",
      " [b'6.7' b'3.3' b'5.7' b'2.1' b'Iris-virginica']\n",
      " [b'7.2' b'3.2' b'6.0' b'1.8' b'Iris-virginica']\n",
      " [b'6.2' b'2.8' b'4.8' b'1.8' b'Iris-virginica']\n",
      " [b'6.1' b'3.0' b'4.9' b'1.8' b'Iris-virginica']\n",
      " [b'6.4' b'2.8' b'5.6' b'2.1' b'Iris-virginica']\n",
      " [b'7.2' b'3.0' b'5.8' b'1.6' b'Iris-virginica']\n",
      " [b'7.4' b'2.8' b'6.1' b'1.9' b'Iris-virginica']\n",
      " [b'7.9' b'3.8' b'6.4' b'2.0' b'Iris-virginica']\n",
      " [b'6.4' b'2.8' b'5.6' b'2.2' b'Iris-virginica']\n",
      " [b'6.3' b'2.8' b'5.1' b'1.5' b'Iris-virginica']\n",
      " [b'6.1' b'2.6' b'5.6' b'1.4' b'Iris-virginica']\n",
      " [b'7.7' b'3.0' b'6.1' b'2.3' b'Iris-virginica']\n",
      " [b'6.3' b'3.4' b'5.6' b'2.4' b'Iris-virginica']\n",
      " [b'6.4' b'3.1' b'5.5' b'1.8' b'Iris-virginica']\n",
      " [b'6.0' b'3.0' b'4.8' b'1.8' b'Iris-virginica']\n",
      " [b'6.9' b'3.1' b'5.4' b'2.1' b'Iris-virginica']\n",
      " [b'6.7' b'3.1' b'5.6' b'2.4' b'Iris-virginica']\n",
      " [b'6.9' b'3.1' b'5.1' b'2.3' b'Iris-virginica']\n",
      " [b'5.8' b'2.7' b'5.1' b'1.9' b'Iris-virginica']\n",
      " [b'6.8' b'3.2' b'5.9' b'2.3' b'Iris-virginica']\n",
      " [b'6.7' b'3.3' b'5.7' b'2.5' b'Iris-virginica']\n",
      " [b'6.7' b'3.0' b'5.2' b'2.3' b'Iris-virginica']\n",
      " [b'6.3' b'2.5' b'5.0' b'1.9' b'Iris-virginica']\n",
      " [b'6.5' b'3.0' b'5.2' b'2.0' b'Iris-virginica']\n",
      " [b'6.2' b'3.4' b'5.4' b'2.3' b'Iris-virginica']\n",
      " [b'5.9' b'3.0' b'5.1' b'1.8' b'Iris-virginica']]\n"
     ]
    },
    {
     "data": {
      "text/plain": [
       "array([[b'5.1', b'3.5', b'1.4', b'0.2', b'Iris-setosa'],\n",
       "       [b'4.9', b'3.0', b'1.4', b'0.2', b'Iris-setosa'],\n",
       "       [b'4.7', b'3.2', b'1.3', b'0.2', b'Iris-setosa']], dtype=object)"
      ]
     },
     "execution_count": 111,
     "metadata": {},
     "output_type": "execute_result"
    }
   ],
   "source": [
    "#24--------------load the text file---------------#\n",
    "url='https://archive.ics.uci.edu/ml/machine-learning-databases/iris/iris.data'\n",
    "iris=np.genfromtxt(url,delimiter=',',dtype='object') # if we use none it will return 1D array \n",
    "print(iris)\n",
    "names = ('sepallength', 'sepalwidth', 'petallength', 'petalwidth', 'species')\n",
    "iris[:3]"
   ]
  },
  {
   "cell_type": "code",
   "execution_count": 112,
   "metadata": {
    "collapsed": true,
    "jupyter": {
     "outputs_hidden": true
    }
   },
   "outputs": [
    {
     "name": "stdout",
     "output_type": "stream",
     "text": [
      "(150,)\n",
      "[(5.1, 3.5, 1.4, 0.2, b'Iris-setosa') (4.9, 3. , 1.4, 0.2, b'Iris-setosa')\n",
      " (4.7, 3.2, 1.3, 0.2, b'Iris-setosa') (4.6, 3.1, 1.5, 0.2, b'Iris-setosa')\n",
      " (5. , 3.6, 1.4, 0.2, b'Iris-setosa') (5.4, 3.9, 1.7, 0.4, b'Iris-setosa')\n",
      " (4.6, 3.4, 1.4, 0.3, b'Iris-setosa') (5. , 3.4, 1.5, 0.2, b'Iris-setosa')\n",
      " (4.4, 2.9, 1.4, 0.2, b'Iris-setosa') (4.9, 3.1, 1.5, 0.1, b'Iris-setosa')\n",
      " (5.4, 3.7, 1.5, 0.2, b'Iris-setosa') (4.8, 3.4, 1.6, 0.2, b'Iris-setosa')\n",
      " (4.8, 3. , 1.4, 0.1, b'Iris-setosa') (4.3, 3. , 1.1, 0.1, b'Iris-setosa')\n",
      " (5.8, 4. , 1.2, 0.2, b'Iris-setosa') (5.7, 4.4, 1.5, 0.4, b'Iris-setosa')\n",
      " (5.4, 3.9, 1.3, 0.4, b'Iris-setosa') (5.1, 3.5, 1.4, 0.3, b'Iris-setosa')\n",
      " (5.7, 3.8, 1.7, 0.3, b'Iris-setosa') (5.1, 3.8, 1.5, 0.3, b'Iris-setosa')\n",
      " (5.4, 3.4, 1.7, 0.2, b'Iris-setosa') (5.1, 3.7, 1.5, 0.4, b'Iris-setosa')\n",
      " (4.6, 3.6, 1. , 0.2, b'Iris-setosa') (5.1, 3.3, 1.7, 0.5, b'Iris-setosa')\n",
      " (4.8, 3.4, 1.9, 0.2, b'Iris-setosa') (5. , 3. , 1.6, 0.2, b'Iris-setosa')\n",
      " (5. , 3.4, 1.6, 0.4, b'Iris-setosa') (5.2, 3.5, 1.5, 0.2, b'Iris-setosa')\n",
      " (5.2, 3.4, 1.4, 0.2, b'Iris-setosa') (4.7, 3.2, 1.6, 0.2, b'Iris-setosa')\n",
      " (4.8, 3.1, 1.6, 0.2, b'Iris-setosa') (5.4, 3.4, 1.5, 0.4, b'Iris-setosa')\n",
      " (5.2, 4.1, 1.5, 0.1, b'Iris-setosa') (5.5, 4.2, 1.4, 0.2, b'Iris-setosa')\n",
      " (4.9, 3.1, 1.5, 0.1, b'Iris-setosa') (5. , 3.2, 1.2, 0.2, b'Iris-setosa')\n",
      " (5.5, 3.5, 1.3, 0.2, b'Iris-setosa') (4.9, 3.1, 1.5, 0.1, b'Iris-setosa')\n",
      " (4.4, 3. , 1.3, 0.2, b'Iris-setosa') (5.1, 3.4, 1.5, 0.2, b'Iris-setosa')\n",
      " (5. , 3.5, 1.3, 0.3, b'Iris-setosa') (4.5, 2.3, 1.3, 0.3, b'Iris-setosa')\n",
      " (4.4, 3.2, 1.3, 0.2, b'Iris-setosa') (5. , 3.5, 1.6, 0.6, b'Iris-setosa')\n",
      " (5.1, 3.8, 1.9, 0.4, b'Iris-setosa') (4.8, 3. , 1.4, 0.3, b'Iris-setosa')\n",
      " (5.1, 3.8, 1.6, 0.2, b'Iris-setosa') (4.6, 3.2, 1.4, 0.2, b'Iris-setosa')\n",
      " (5.3, 3.7, 1.5, 0.2, b'Iris-setosa') (5. , 3.3, 1.4, 0.2, b'Iris-setosa')\n",
      " (7. , 3.2, 4.7, 1.4, b'Iris-versicolor')\n",
      " (6.4, 3.2, 4.5, 1.5, b'Iris-versicolor')\n",
      " (6.9, 3.1, 4.9, 1.5, b'Iris-versicolor')\n",
      " (5.5, 2.3, 4. , 1.3, b'Iris-versicolor')\n",
      " (6.5, 2.8, 4.6, 1.5, b'Iris-versicolor')\n",
      " (5.7, 2.8, 4.5, 1.3, b'Iris-versicolor')\n",
      " (6.3, 3.3, 4.7, 1.6, b'Iris-versicolor')\n",
      " (4.9, 2.4, 3.3, 1. , b'Iris-versicolor')\n",
      " (6.6, 2.9, 4.6, 1.3, b'Iris-versicolor')\n",
      " (5.2, 2.7, 3.9, 1.4, b'Iris-versicolor')\n",
      " (5. , 2. , 3.5, 1. , b'Iris-versicolor')\n",
      " (5.9, 3. , 4.2, 1.5, b'Iris-versicolor')\n",
      " (6. , 2.2, 4. , 1. , b'Iris-versicolor')\n",
      " (6.1, 2.9, 4.7, 1.4, b'Iris-versicolor')\n",
      " (5.6, 2.9, 3.6, 1.3, b'Iris-versicolor')\n",
      " (6.7, 3.1, 4.4, 1.4, b'Iris-versicolor')\n",
      " (5.6, 3. , 4.5, 1.5, b'Iris-versicolor')\n",
      " (5.8, 2.7, 4.1, 1. , b'Iris-versicolor')\n",
      " (6.2, 2.2, 4.5, 1.5, b'Iris-versicolor')\n",
      " (5.6, 2.5, 3.9, 1.1, b'Iris-versicolor')\n",
      " (5.9, 3.2, 4.8, 1.8, b'Iris-versicolor')\n",
      " (6.1, 2.8, 4. , 1.3, b'Iris-versicolor')\n",
      " (6.3, 2.5, 4.9, 1.5, b'Iris-versicolor')\n",
      " (6.1, 2.8, 4.7, 1.2, b'Iris-versicolor')\n",
      " (6.4, 2.9, 4.3, 1.3, b'Iris-versicolor')\n",
      " (6.6, 3. , 4.4, 1.4, b'Iris-versicolor')\n",
      " (6.8, 2.8, 4.8, 1.4, b'Iris-versicolor')\n",
      " (6.7, 3. , 5. , 1.7, b'Iris-versicolor')\n",
      " (6. , 2.9, 4.5, 1.5, b'Iris-versicolor')\n",
      " (5.7, 2.6, 3.5, 1. , b'Iris-versicolor')\n",
      " (5.5, 2.4, 3.8, 1.1, b'Iris-versicolor')\n",
      " (5.5, 2.4, 3.7, 1. , b'Iris-versicolor')\n",
      " (5.8, 2.7, 3.9, 1.2, b'Iris-versicolor')\n",
      " (6. , 2.7, 5.1, 1.6, b'Iris-versicolor')\n",
      " (5.4, 3. , 4.5, 1.5, b'Iris-versicolor')\n",
      " (6. , 3.4, 4.5, 1.6, b'Iris-versicolor')\n",
      " (6.7, 3.1, 4.7, 1.5, b'Iris-versicolor')\n",
      " (6.3, 2.3, 4.4, 1.3, b'Iris-versicolor')\n",
      " (5.6, 3. , 4.1, 1.3, b'Iris-versicolor')\n",
      " (5.5, 2.5, 4. , 1.3, b'Iris-versicolor')\n",
      " (5.5, 2.6, 4.4, 1.2, b'Iris-versicolor')\n",
      " (6.1, 3. , 4.6, 1.4, b'Iris-versicolor')\n",
      " (5.8, 2.6, 4. , 1.2, b'Iris-versicolor')\n",
      " (5. , 2.3, 3.3, 1. , b'Iris-versicolor')\n",
      " (5.6, 2.7, 4.2, 1.3, b'Iris-versicolor')\n",
      " (5.7, 3. , 4.2, 1.2, b'Iris-versicolor')\n",
      " (5.7, 2.9, 4.2, 1.3, b'Iris-versicolor')\n",
      " (6.2, 2.9, 4.3, 1.3, b'Iris-versicolor')\n",
      " (5.1, 2.5, 3. , 1.1, b'Iris-versicolor')\n",
      " (5.7, 2.8, 4.1, 1.3, b'Iris-versicolor')\n",
      " (6.3, 3.3, 6. , 2.5, b'Iris-virginica')\n",
      " (5.8, 2.7, 5.1, 1.9, b'Iris-virginica')\n",
      " (7.1, 3. , 5.9, 2.1, b'Iris-virginica')\n",
      " (6.3, 2.9, 5.6, 1.8, b'Iris-virginica')\n",
      " (6.5, 3. , 5.8, 2.2, b'Iris-virginica')\n",
      " (7.6, 3. , 6.6, 2.1, b'Iris-virginica')\n",
      " (4.9, 2.5, 4.5, 1.7, b'Iris-virginica')\n",
      " (7.3, 2.9, 6.3, 1.8, b'Iris-virginica')\n",
      " (6.7, 2.5, 5.8, 1.8, b'Iris-virginica')\n",
      " (7.2, 3.6, 6.1, 2.5, b'Iris-virginica')\n",
      " (6.5, 3.2, 5.1, 2. , b'Iris-virginica')\n",
      " (6.4, 2.7, 5.3, 1.9, b'Iris-virginica')\n",
      " (6.8, 3. , 5.5, 2.1, b'Iris-virginica')\n",
      " (5.7, 2.5, 5. , 2. , b'Iris-virginica')\n",
      " (5.8, 2.8, 5.1, 2.4, b'Iris-virginica')\n",
      " (6.4, 3.2, 5.3, 2.3, b'Iris-virginica')\n",
      " (6.5, 3. , 5.5, 1.8, b'Iris-virginica')\n",
      " (7.7, 3.8, 6.7, 2.2, b'Iris-virginica')\n",
      " (7.7, 2.6, 6.9, 2.3, b'Iris-virginica')\n",
      " (6. , 2.2, 5. , 1.5, b'Iris-virginica')\n",
      " (6.9, 3.2, 5.7, 2.3, b'Iris-virginica')\n",
      " (5.6, 2.8, 4.9, 2. , b'Iris-virginica')\n",
      " (7.7, 2.8, 6.7, 2. , b'Iris-virginica')\n",
      " (6.3, 2.7, 4.9, 1.8, b'Iris-virginica')\n",
      " (6.7, 3.3, 5.7, 2.1, b'Iris-virginica')\n",
      " (7.2, 3.2, 6. , 1.8, b'Iris-virginica')\n",
      " (6.2, 2.8, 4.8, 1.8, b'Iris-virginica')\n",
      " (6.1, 3. , 4.9, 1.8, b'Iris-virginica')\n",
      " (6.4, 2.8, 5.6, 2.1, b'Iris-virginica')\n",
      " (7.2, 3. , 5.8, 1.6, b'Iris-virginica')\n",
      " (7.4, 2.8, 6.1, 1.9, b'Iris-virginica')\n",
      " (7.9, 3.8, 6.4, 2. , b'Iris-virginica')\n",
      " (6.4, 2.8, 5.6, 2.2, b'Iris-virginica')\n",
      " (6.3, 2.8, 5.1, 1.5, b'Iris-virginica')\n",
      " (6.1, 2.6, 5.6, 1.4, b'Iris-virginica')\n",
      " (7.7, 3. , 6.1, 2.3, b'Iris-virginica')\n",
      " (6.3, 3.4, 5.6, 2.4, b'Iris-virginica')\n",
      " (6.4, 3.1, 5.5, 1.8, b'Iris-virginica')\n",
      " (6. , 3. , 4.8, 1.8, b'Iris-virginica')\n",
      " (6.9, 3.1, 5.4, 2.1, b'Iris-virginica')\n",
      " (6.7, 3.1, 5.6, 2.4, b'Iris-virginica')\n",
      " (6.9, 3.1, 5.1, 2.3, b'Iris-virginica')\n",
      " (5.8, 2.7, 5.1, 1.9, b'Iris-virginica')\n",
      " (6.8, 3.2, 5.9, 2.3, b'Iris-virginica')\n",
      " (6.7, 3.3, 5.7, 2.5, b'Iris-virginica')\n",
      " (6.7, 3. , 5.2, 2.3, b'Iris-virginica')\n",
      " (6.3, 2.5, 5. , 1.9, b'Iris-virginica')\n",
      " (6.5, 3. , 5.2, 2. , b'Iris-virginica')\n",
      " (6.2, 3.4, 5.4, 2.3, b'Iris-virginica')\n",
      " (5.9, 3. , 5.1, 1.8, b'Iris-virginica')]\n"
     ]
    },
    {
     "name": "stderr",
     "output_type": "stream",
     "text": [
      "C:\\Users\\ashish\\Anaconda3\\lib\\site-packages\\ipykernel_launcher.py:2: VisibleDeprecationWarning: Reading unicode strings without specifying the encoding argument is deprecated. Set the encoding, use None for the system default.\n",
      "  \n"
     ]
    },
    {
     "ename": "IndexError",
     "evalue": "too many indices for array",
     "output_type": "error",
     "traceback": [
      "\u001b[1;31m---------------------------------------------------------------------------\u001b[0m",
      "\u001b[1;31mIndexError\u001b[0m                                Traceback (most recent call last)",
      "\u001b[1;32m<ipython-input-112-a1bae17be15d>\u001b[0m in \u001b[0;36m<module>\u001b[1;34m\u001b[0m\n\u001b[0;32m      3\u001b[0m \u001b[0mprint\u001b[0m\u001b[1;33m(\u001b[0m\u001b[0miris\u001b[0m\u001b[1;33m.\u001b[0m\u001b[0mshape\u001b[0m\u001b[1;33m)\u001b[0m\u001b[1;33m\u001b[0m\u001b[1;33m\u001b[0m\u001b[0m\n\u001b[0;32m      4\u001b[0m \u001b[0mprint\u001b[0m\u001b[1;33m(\u001b[0m\u001b[0miris\u001b[0m\u001b[1;33m)\u001b[0m\u001b[1;33m\u001b[0m\u001b[1;33m\u001b[0m\u001b[0m\n\u001b[1;32m----> 5\u001b[1;33m \u001b[0mspecie\u001b[0m\u001b[1;33m=\u001b[0m\u001b[0mnp\u001b[0m\u001b[1;33m.\u001b[0m\u001b[0marray\u001b[0m\u001b[1;33m(\u001b[0m\u001b[1;33m[\u001b[0m\u001b[0mrow\u001b[0m\u001b[1;33m[\u001b[0m\u001b[1;33m:\u001b[0m\u001b[1;33m]\u001b[0m \u001b[1;32mfor\u001b[0m \u001b[0mrow\u001b[0m \u001b[1;32min\u001b[0m \u001b[0miris\u001b[0m\u001b[1;33m]\u001b[0m\u001b[1;33m)\u001b[0m\u001b[1;33m\u001b[0m\u001b[1;33m\u001b[0m\u001b[0m\n\u001b[0m",
      "\u001b[1;32m<ipython-input-112-a1bae17be15d>\u001b[0m in \u001b[0;36m<listcomp>\u001b[1;34m(.0)\u001b[0m\n\u001b[0;32m      3\u001b[0m \u001b[0mprint\u001b[0m\u001b[1;33m(\u001b[0m\u001b[0miris\u001b[0m\u001b[1;33m.\u001b[0m\u001b[0mshape\u001b[0m\u001b[1;33m)\u001b[0m\u001b[1;33m\u001b[0m\u001b[1;33m\u001b[0m\u001b[0m\n\u001b[0;32m      4\u001b[0m \u001b[0mprint\u001b[0m\u001b[1;33m(\u001b[0m\u001b[0miris\u001b[0m\u001b[1;33m)\u001b[0m\u001b[1;33m\u001b[0m\u001b[1;33m\u001b[0m\u001b[0m\n\u001b[1;32m----> 5\u001b[1;33m \u001b[0mspecie\u001b[0m\u001b[1;33m=\u001b[0m\u001b[0mnp\u001b[0m\u001b[1;33m.\u001b[0m\u001b[0marray\u001b[0m\u001b[1;33m(\u001b[0m\u001b[1;33m[\u001b[0m\u001b[0mrow\u001b[0m\u001b[1;33m[\u001b[0m\u001b[1;33m:\u001b[0m\u001b[1;33m]\u001b[0m \u001b[1;32mfor\u001b[0m \u001b[0mrow\u001b[0m \u001b[1;32min\u001b[0m \u001b[0miris\u001b[0m\u001b[1;33m]\u001b[0m\u001b[1;33m)\u001b[0m\u001b[1;33m\u001b[0m\u001b[1;33m\u001b[0m\u001b[0m\n\u001b[0m",
      "\u001b[1;31mIndexError\u001b[0m: too many indices for array"
     ]
    }
   ],
   "source": [
    "#26----------------extract the coloumn 1d------------------#\n",
    "iris=np.genfromtxt(url,delimiter=\",\",dtype=None)\n",
    "print(iris.shape)\n",
    "print(iris)\n",
    "specie=np.array([row[:] for row in iris])\n"
   ]
  },
  {
   "cell_type": "code",
   "execution_count": 113,
   "metadata": {},
   "outputs": [
    {
     "name": "stderr",
     "output_type": "stream",
     "text": [
      "C:\\Users\\ashish\\Anaconda3\\lib\\site-packages\\ipykernel_launcher.py:3: VisibleDeprecationWarning: Reading unicode strings without specifying the encoding argument is deprecated. Set the encoding, use None for the system default.\n",
      "  This is separate from the ipykernel package so we can avoid doing imports until\n"
     ]
    },
    {
     "data": {
      "text/plain": [
       "array([[5.1, 3.5, 1.4, 0.2],\n",
       "       [4.9, 3. , 1.4, 0.2],\n",
       "       [4.7, 3.2, 1.3, 0.2],\n",
       "       [4.6, 3.1, 1.5, 0.2]])"
      ]
     },
     "execution_count": 113,
     "metadata": {},
     "output_type": "execute_result"
    }
   ],
   "source": [
    "#27----------------Convert the 1D iris to 2D array iris_2d by omitting the species text field----------------------#\n",
    "#sol1\n",
    "iris_1d=np.genfromtxt(url,delimiter=\",\",dtype=None)\n",
    "iris_2d=np.array([row.tolist()[:4] for row in iris_1d])\n",
    "iris_2d.shape\n",
    "\n",
    "#2 sol2 import from the source url \n",
    "iris_2dd=np.genfromtxt(url,delimiter=\",\",usecols=[0,1,2,3],dtype='float')\n",
    "iris_2dd[:4]"
   ]
  },
  {
   "cell_type": "code",
   "execution_count": 114,
   "metadata": {},
   "outputs": [
    {
     "name": "stdout",
     "output_type": "stream",
     "text": [
      "5.843333333333334 5.8 0.8253012917851409\n"
     ]
    }
   ],
   "source": [
    "#28---------------- Find the mean, median, standard deviation of iris's sepallength (1st column)------------------#\n",
    "sepallength=iris_2dd[:,:1]\n",
    "me,md,std=np.mean(sepallength),np.median(sepallength),np.std(sepallength)\n",
    "print(me,md,std)"
   ]
  },
  {
   "cell_type": "code",
   "execution_count": 133,
   "metadata": {
    "collapsed": true,
    "jupyter": {
     "outputs_hidden": true
    }
   },
   "outputs": [
    {
     "name": "stdout",
     "output_type": "stream",
     "text": [
      "[0, 0, 0, 0, 0, 0, 0, 0, 0, 0, 0, 0, 0, 0, 0, 0, 0, 0, 0, 0, 0, 0, 0, 0, 0, 0, 0, 0, 0, 0, 0, 0, 0, 0, 0, 0, 0, 0, 0, 0, 0, 0, 0, 0, 0, 0, 0, 0, 0, 0, 1, 1, 1, 0, 1, 0, 1, 0, 1, 0, 0, 0, 0, 1, 0, 1, 0, 0, 1, 0, 0, 1, 1, 1, 1, 1, 1, 1, 0, 0, 0, 0, 0, 0, 0, 0, 1, 1, 0, 0, 0, 1, 0, 0, 0, 0, 0, 1, 0, 0, 1, 0, 1, 1, 1, 1, 0, 1, 1, 1, 1, 1, 1, 0, 0, 1, 1, 1, 1, 0, 1, 0, 1, 1, 1, 1, 1, 1, 1, 1, 1, 1, 1, 1, 1, 1, 1, 1, 0, 1, 1, 1, 0, 1, 1, 1, 1, 1, 1, 0]\n",
      "[[0.22]\n",
      " [0.17]\n",
      " [0.11]\n",
      " [0.08]\n",
      " [0.19]\n",
      " [0.31]\n",
      " [0.08]\n",
      " [0.19]\n",
      " [0.03]\n",
      " [0.17]\n",
      " [0.31]\n",
      " [0.14]\n",
      " [0.14]\n",
      " [0.  ]\n",
      " [0.42]\n",
      " [0.39]\n",
      " [0.31]\n",
      " [0.22]\n",
      " [0.39]\n",
      " [0.22]\n",
      " [0.31]\n",
      " [0.22]\n",
      " [0.08]\n",
      " [0.22]\n",
      " [0.14]\n",
      " [0.19]\n",
      " [0.19]\n",
      " [0.25]\n",
      " [0.25]\n",
      " [0.11]\n",
      " [0.14]\n",
      " [0.31]\n",
      " [0.25]\n",
      " [0.33]\n",
      " [0.17]\n",
      " [0.19]\n",
      " [0.33]\n",
      " [0.17]\n",
      " [0.03]\n",
      " [0.22]\n",
      " [0.19]\n",
      " [0.06]\n",
      " [0.03]\n",
      " [0.19]\n",
      " [0.22]\n",
      " [0.14]\n",
      " [0.22]\n",
      " [0.08]\n",
      " [0.28]\n",
      " [0.19]\n",
      " [0.75]\n",
      " [0.58]\n",
      " [0.72]\n",
      " [0.33]\n",
      " [0.61]\n",
      " [0.39]\n",
      " [0.56]\n",
      " [0.17]\n",
      " [0.64]\n",
      " [0.25]\n",
      " [0.19]\n",
      " [0.44]\n",
      " [0.47]\n",
      " [0.5 ]\n",
      " [0.36]\n",
      " [0.67]\n",
      " [0.36]\n",
      " [0.42]\n",
      " [0.53]\n",
      " [0.36]\n",
      " [0.44]\n",
      " [0.5 ]\n",
      " [0.56]\n",
      " [0.5 ]\n",
      " [0.58]\n",
      " [0.64]\n",
      " [0.69]\n",
      " [0.67]\n",
      " [0.47]\n",
      " [0.39]\n",
      " [0.33]\n",
      " [0.33]\n",
      " [0.42]\n",
      " [0.47]\n",
      " [0.31]\n",
      " [0.47]\n",
      " [0.67]\n",
      " [0.56]\n",
      " [0.36]\n",
      " [0.33]\n",
      " [0.33]\n",
      " [0.5 ]\n",
      " [0.42]\n",
      " [0.19]\n",
      " [0.36]\n",
      " [0.39]\n",
      " [0.39]\n",
      " [0.53]\n",
      " [0.22]\n",
      " [0.39]\n",
      " [0.56]\n",
      " [0.42]\n",
      " [0.78]\n",
      " [0.56]\n",
      " [0.61]\n",
      " [0.92]\n",
      " [0.17]\n",
      " [0.83]\n",
      " [0.67]\n",
      " [0.81]\n",
      " [0.61]\n",
      " [0.58]\n",
      " [0.69]\n",
      " [0.39]\n",
      " [0.42]\n",
      " [0.58]\n",
      " [0.61]\n",
      " [0.94]\n",
      " [0.94]\n",
      " [0.47]\n",
      " [0.72]\n",
      " [0.36]\n",
      " [0.94]\n",
      " [0.56]\n",
      " [0.67]\n",
      " [0.81]\n",
      " [0.53]\n",
      " [0.5 ]\n",
      " [0.58]\n",
      " [0.81]\n",
      " [0.86]\n",
      " [1.  ]\n",
      " [0.58]\n",
      " [0.56]\n",
      " [0.5 ]\n",
      " [0.94]\n",
      " [0.56]\n",
      " [0.58]\n",
      " [0.47]\n",
      " [0.72]\n",
      " [0.67]\n",
      " [0.72]\n",
      " [0.42]\n",
      " [0.69]\n",
      " [0.67]\n",
      " [0.67]\n",
      " [0.56]\n",
      " [0.61]\n",
      " [0.53]\n",
      " [0.44]]\n"
     ]
    }
   ],
   "source": [
    "#29---------------Create a normalized form of iris's sepallength whose values range exactly between 0 and 1 so that the minimum has value 0 and maximum has value 1.-----------------#\n",
    "\n",
    "#my method\n",
    "sepallength=iris_2dd[:,:1]\n",
    "nor=[]\n",
    "for i in sepallength:\n",
    "    if i>6:\n",
    "        i=1\n",
    "        nor.append(i)\n",
    "    else:\n",
    "        i=0\n",
    "        nor.append(i)\n",
    "print(nor)\n",
    "sepallength.tolist()\n",
    "sepallength.T\n",
    "\n",
    "#sol\n",
    "Smax,Smin=sepallength.max(),sepallength.min()\n",
    "nor=(sepallength-Smin)/(Smax-Smin)\n",
    "np.set_printoptions(precision=2)\n",
    "nor\n",
    "\n",
    "# or use ptp()\n",
    "n= (sepallength-Smin)/sepallength.ptp()\n",
    "print(nor)"
   ]
  },
  {
   "cell_type": "code",
   "execution_count": 135,
   "metadata": {},
   "outputs": [
    {
     "data": {
      "text/plain": [
       "array([4.6 , 7.25])"
      ]
     },
     "execution_count": 135,
     "metadata": {},
     "output_type": "execute_result"
    }
   ],
   "source": [
    "#31---------------Find the 5th and 95th percentile of iris's sepallength-------------------#\n",
    "np.percentile(sepallength,q=[5,95])"
   ]
  },
  {
   "cell_type": "code",
   "execution_count": 146,
   "metadata": {
    "collapsed": true,
    "jupyter": {
     "outputs_hidden": true
    }
   },
   "outputs": [
    {
     "name": "stdout",
     "output_type": "stream",
     "text": [
      "[[5.1 3.5 1.4 0.2]\n",
      " [nan nan nan nan]\n",
      " [4.7 3.2 1.3 0.2]\n",
      " [4.6 3.1 1.5 0.2]\n",
      " [5.  3.6 1.4 0.2]\n",
      " [5.4 3.9 1.7 0.4]\n",
      " [4.6 3.4 1.4 0.3]\n",
      " [5.  3.4 1.5 0.2]\n",
      " [4.4 2.9 1.4 0.2]\n",
      " [4.9 3.1 1.5 0.1]\n",
      " [5.4 3.7 1.5 0.2]\n",
      " [4.8 3.4 1.6 0.2]\n",
      " [nan nan nan nan]\n",
      " [nan nan nan nan]\n",
      " [5.8 4.  1.2 0.2]\n",
      " [5.7 4.4 1.5 0.4]\n",
      " [5.4 3.9 1.3 0.4]\n",
      " [5.1 3.5 1.4 0.3]\n",
      " [5.7 3.8 1.7 0.3]\n",
      " [nan nan nan nan]\n",
      " [5.4 3.4 1.7 0.2]\n",
      " [nan nan nan nan]\n",
      " [4.6 3.6 1.  0.2]]\n"
     ]
    }
   ],
   "source": [
    "#32---------------Insert np.nan values at 20 random positions in iris_2d dataset---------------#\n",
    "i,j=np.where(iris_2d) # where i and j denotes rows and coloumns \n",
    "np.random.seed(100)\n",
    "iris_2d[np.random.choice((i),20),np.random.choice((j),20)]=np.nan\n",
    "print(iris_2d[:23])\n",
    "np.random.seed(100)\n",
    "iris_2d[np.random.randint(150, size=20), np.random.randint(4, size=20)] = np.nan\n"
   ]
  },
  {
   "cell_type": "code",
   "execution_count": 152,
   "metadata": {},
   "outputs": [
    {
     "name": "stdout",
     "output_type": "stream",
     "text": [
      "(array([  1,  12,  13,  14,  19,  21,  23,  33,  34,  35,  57,  70,  79,\n",
      "        87,  96, 103, 107, 126, 130, 131, 142, 144], dtype=int64),)\n"
     ]
    }
   ],
   "source": [
    "#33--------------finding the missing value---------------------#\n",
    "print(np.isnan(iris_2d[:,0].sum()))\n",
    "print(np.where(np.isnan(iris_2d[:,0])))"
   ]
  },
  {
   "cell_type": "code",
   "execution_count": 163,
   "metadata": {},
   "outputs": [
    {
     "name": "stdout",
     "output_type": "stream",
     "text": [
      "[[4.8 3.4 1.6 0.2]\n",
      " [4.8 3.4 1.9 0.2]\n",
      " [4.7 3.2 1.6 0.2]\n",
      " [4.8 3.1 1.6 0.2]\n",
      " [4.9 2.4 3.3 1. ]\n",
      " [4.9 2.5 4.5 1.7]]\n"
     ]
    }
   ],
   "source": [
    "condition=(iris_2dd[:,2]>1.5) & (iris_2dd[:,0]<5.0)\n",
    "print(iris_2dd[condition])"
   ]
  },
  {
   "cell_type": "code",
   "execution_count": 7,
   "metadata": {},
   "outputs": [
    {
     "name": "stdout",
     "output_type": "stream",
     "text": [
      "[[9 9 3]\n",
      " [5 7 0]\n",
      " [4 3 1]\n",
      " [8 2 4]]\n"
     ]
    }
   ],
   "source": [
    "a = np.array([[4, 3, 1], [5, 7, 0], [9, 9, 3], [8, 2, 4]])\n",
    "a[[0,2]]=a[[2,0]]\n",
    "print(a)"
   ]
  },
  {
   "cell_type": "code",
   "execution_count": null,
   "metadata": {},
   "outputs": [],
   "source": []
  }
 ],
 "metadata": {
  "kernelspec": {
   "display_name": "Python 3",
   "language": "python",
   "name": "python3"
  },
  "language_info": {
   "codemirror_mode": {
    "name": "ipython",
    "version": 3
   },
   "file_extension": ".py",
   "mimetype": "text/x-python",
   "name": "python",
   "nbconvert_exporter": "python",
   "pygments_lexer": "ipython3",
   "version": "3.8.3"
  }
 },
 "nbformat": 4,
 "nbformat_minor": 4
}
