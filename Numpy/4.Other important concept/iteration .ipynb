{
 "cells": [
  {
   "cell_type": "markdown",
   "metadata": {},
   "source": [
    "# iterating in python \n"
   ]
  },
  {
   "cell_type": "code",
   "execution_count": 5,
   "metadata": {},
   "outputs": [
    {
     "name": "stdout",
     "output_type": "stream",
     "text": [
      "2\n",
      "3\n",
      "4\n",
      "5\n",
      "6\n",
      "7\n",
      "\n",
      "1\n",
      "2\n",
      "3\n",
      "4\n",
      "5\n",
      "6\n",
      "7\n",
      "8\n",
      "9\n",
      "10\n",
      "\n",
      "1\n",
      "2\n",
      "3\n",
      "4\n",
      "5\n",
      "6\n",
      "7\n",
      "8\n",
      "9\n",
      "10\n"
     ]
    }
   ],
   "source": [
    "import numpy as np\n",
    "#1 simple iteration \n",
    "np1=np.arange(2,8)\n",
    "for i in np.nditer(np1):\n",
    "    print(i)\n",
    "print(\"\\r\")\n",
    "\n",
    "#2 2d array iter\n",
    "np2=np.array([[1,2,3,4,5],[6,7,8,9,10]])\n",
    "for value in np.nditer (np2):\n",
    "    print(value)\n",
    "print(\"\\r\")\n",
    "\n",
    "#3 order of array using transpose\n",
    "np2=np.array([[1,2,3,4,5],[6,7,8,9,10]])\n",
    "np3=np2.T\n",
    "for i in np.nditer(np3):\n",
    "    print(i)\n"
   ]
  },
  {
   "cell_type": "code",
   "execution_count": 54,
   "metadata": {},
   "outputs": [
    {
     "name": "stdout",
     "output_type": "stream",
     "text": [
      "0\n",
      "5\n",
      "10\n",
      "15\n",
      "20\n",
      "25\n",
      "30\n",
      "35\n",
      "40\n",
      "45\n",
      "50\n",
      "55\n",
      "0\n",
      "20\n",
      "40\n",
      "5\n",
      "25\n",
      "45\n",
      "10\n",
      "30\n",
      "50\n",
      "15\n",
      "35\n",
      "55\n",
      "0\n",
      "5\n",
      "10\n",
      "15\n",
      "20\n",
      "25\n",
      "30\n",
      "35\n",
      "40\n",
      "45\n",
      "50\n",
      "55\n"
     ]
    }
   ],
   "source": [
    "# style c-rows and f-colums \n",
    "#1\n",
    "a=np.arange(0,60,5).reshape(3,4)\n",
    "b=a.copy(order='C')\n",
    "for i in np.nditer(b):\n",
    "    print(i)\n",
    "\n",
    "#2\n",
    "a=np.arange(0,60,5).reshape(3,4)\n",
    "b=a.copy(order='F')\n",
    "for i in np.nditer(b):\n",
    "    print(i)\n",
    "#3    \n",
    "a=np.arange(0,60,5).reshape(3,4)\n",
    "for i in np.nditer(a,order='C'):\n",
    "    print(i)\n",
    "    "
   ]
  },
  {
   "cell_type": "markdown",
   "metadata": {},
   "source": [
    "# flags in iteratror\n",
    "- c_index\n",
    "- f_index\n",
    "- multi_index\n",
    "- external_loop"
   ]
  },
  {
   "cell_type": "code",
   "execution_count": 62,
   "metadata": {},
   "outputs": [
    {
     "name": "stdout",
     "output_type": "stream",
     "text": [
      "[ 0 20 40]\n",
      "[ 5 25 45]\n",
      "[10 30 50]\n",
      "[15 35 55]\n"
     ]
    }
   ],
   "source": [
    "#external_loop used to write the values into one dimension instead of 0D\n",
    "a=np.arange(0,60,5).reshape(3,4)\n",
    "for x in np.nditer(a,flags=['external_loop'],order='F'):\n",
    "    print(x)\n",
    "\n"
   ]
  },
  {
   "cell_type": "code",
   "execution_count": 22,
   "metadata": {
    "collapsed": true,
    "jupyter": {
     "outputs_hidden": true
    }
   },
   "outputs": [
    {
     "name": "stdout",
     "output_type": "stream",
     "text": [
      "0:1\n",
      "5:2\n",
      "10:3\n",
      "15:4\n",
      "20:1\n",
      "25:2\n",
      "30:3\n",
      "35:4\n",
      "40:1\n",
      "45:2\n",
      "50:3\n",
      "55:4\n"
     ]
    }
   ],
   "source": [
    "# \n",
    "a=np.arange(0,60,5).reshape(3,4)\n",
    "b=np.array([1,2,3,4],dtype='int')\n",
    "for x,y in np.nditer([a,b]):\n",
    "    s='{}:{}'.format(x,y)\n",
    "    print(s)\n"
   ]
  },
  {
   "cell_type": "code",
   "execution_count": 19,
   "metadata": {},
   "outputs": [
    {
     "name": "stdout",
     "output_type": "stream",
     "text": [
      "my name is ashish\n"
     ]
    }
   ],
   "source": []
  },
  {
   "cell_type": "code",
   "execution_count": null,
   "metadata": {},
   "outputs": [],
   "source": []
  }
 ],
 "metadata": {
  "kernelspec": {
   "display_name": "Python 3",
   "language": "python",
   "name": "python3"
  },
  "language_info": {
   "codemirror_mode": {
    "name": "ipython",
    "version": 3
   },
   "file_extension": ".py",
   "mimetype": "text/x-python",
   "name": "python",
   "nbconvert_exporter": "python",
   "pygments_lexer": "ipython3",
   "version": "3.8.3"
  }
 },
 "nbformat": 4,
 "nbformat_minor": 4
}
