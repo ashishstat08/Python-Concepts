{
 "cells": [
  {
   "cell_type": "markdown",
   "metadata": {},
   "source": [
    "# Binary Operators\n",
    "- bitwise_and\n",
    "- bitwise_or\n",
    "- invert \n",
    "- left_shift\n",
    "- right shift"
   ]
  },
  {
   "cell_type": "code",
   "execution_count": 10,
   "metadata": {},
   "outputs": [
    {
     "name": "stdout",
     "output_type": "stream",
     "text": [
      "0b1011 0b10111\n",
      "3\n",
      "0b1011 0b10111\n",
      "31\n",
      "0b11111\n"
     ]
    }
   ],
   "source": [
    "#-------------bitwise_and--------------#\n",
    "import numpy as np \n",
    "a,b=11,23\n",
    "print(bin(a),bin(b))\n",
    "c=np.bitwise_and(a,b)\n",
    "print(c)\n",
    "bin(c)\n",
    "\n",
    "#=------------bitwise_or---------------#\n",
    "a,b=11,23\n",
    "print(bin(a),bin(b))\n",
    "c=np.bitwise_or(a,b)\n",
    "print(c)\n",
    "print(bin(31))\n"
   ]
  },
  {
   "cell_type": "code",
   "execution_count": null,
   "metadata": {},
   "outputs": [],
   "source": []
  }
 ],
 "metadata": {
  "kernelspec": {
   "display_name": "Python 3",
   "language": "python",
   "name": "python3"
  },
  "language_info": {
   "codemirror_mode": {
    "name": "ipython",
    "version": 3
   },
   "file_extension": ".py",
   "mimetype": "text/x-python",
   "name": "python",
   "nbconvert_exporter": "python",
   "pygments_lexer": "ipython3",
   "version": "3.8.3"
  }
 },
 "nbformat": 4,
 "nbformat_minor": 4
}
