{
 "cells": [
  {
   "cell_type": "markdown",
   "metadata": {},
   "source": [
    "### Broadcasting rule"
   ]
  },
  {
   "cell_type": "code",
   "execution_count": 1,
   "metadata": {},
   "outputs": [
    {
     "name": "stdout",
     "output_type": "stream",
     "text": [
      "[ 0  1 33 33  4  4  5  6  7]\n"
     ]
    }
   ],
   "source": [
    "import numpy as np\n",
    "np1=np.array([0,1,2,3,4,4,5,6,7])\n",
    "np1[[2,3]]=33\n",
    "print(np1)"
   ]
  },
  {
   "cell_type": "code",
   "execution_count": 4,
   "metadata": {},
   "outputs": [
    {
     "name": "stdout",
     "output_type": "stream",
     "text": [
      "[77 77 77 77]\n",
      "[77 77 77 77]\n",
      "[77 77 77 77  4  4  5  6  7]\n"
     ]
    }
   ],
   "source": [
    "### points to note while broadcasting\n",
    "br_np1=np1[0:4]\n",
    "print(br_np1)\n",
    "\n",
    "#update cutoff value \n",
    "br_np1[:]=77\n",
    "print(br_np1)\n",
    "print(np1)\n",
    "\n"
   ]
  },
  {
   "cell_type": "code",
   "execution_count": 11,
   "metadata": {},
   "outputs": [
    {
     "name": "stdout",
     "output_type": "stream",
     "text": [
      "[44 44 44 44  4  5  6]\n",
      "[0 1 2 3 4 5 6]\n"
     ]
    }
   ],
   "source": [
    "# how to fix this \n",
    "np1=np.arange(0,7)\n",
    "br_np1=np1.copy()\n",
    "\n",
    "br_np1[0:4]=44\n",
    "\n",
    "print(br_np1)\n",
    "print(np1)"
   ]
  },
  {
   "cell_type": "code",
   "execution_count": null,
   "metadata": {},
   "outputs": [],
   "source": []
  }
 ],
 "metadata": {
  "kernelspec": {
   "display_name": "Python 3",
   "language": "python",
   "name": "python3"
  },
  "language_info": {
   "codemirror_mode": {
    "name": "ipython",
    "version": 3
   },
   "file_extension": ".py",
   "mimetype": "text/x-python",
   "name": "python",
   "nbconvert_exporter": "python",
   "pygments_lexer": "ipython3",
   "version": "3.8.3"
  }
 },
 "nbformat": 4,
 "nbformat_minor": 4
}
