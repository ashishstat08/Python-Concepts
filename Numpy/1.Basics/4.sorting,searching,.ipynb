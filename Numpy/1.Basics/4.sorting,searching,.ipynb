{
 "cells": [
  {
   "cell_type": "markdown",
   "metadata": {},
   "source": [
    "#                      Sorting\n",
    "- sort\n",
    "- argsort\n",
    "- argmin\n",
    "- argmax\n",
    "- nanargmax\n",
    "- nanargmin\n",
    "- count_non_zero\n",
    "- count_zero\n"
   ]
  },
  {
   "cell_type": "code",
   "execution_count": 3,
   "metadata": {},
   "outputs": [],
   "source": [
    "import numpy as np"
   ]
  },
  {
   "cell_type": "code",
   "execution_count": 8,
   "metadata": {},
   "outputs": [
    {
     "name": "stdout",
     "output_type": "stream",
     "text": [
      "[[ 2  4  5  6  7]\n",
      " [ 4  4  6 27 94]]\n",
      "[[ 7  4  2  6  5]\n",
      " [ 4  6 94 27  4]]\n",
      "['f' 'c' 'b']\n"
     ]
    }
   ],
   "source": [
    "#-----------sorting---------------#\n",
    "ar1=np.array([[7,4,2,6,5],[4,6,94,27,4]])\n",
    "ar1.sort()\n",
    "print(ar1)\n",
    "\n",
    "#2 on axis 0\n",
    "ar2=np.array([[7,4,2,6,5],[4,6,94,27,4]])\n",
    "np.sort(ar1,axis=-1)\n",
    "print(ar2)\n",
    "#-----------argsort--------------#\n",
    "mark=np.array([22,45,77,44,33,86])\n",
    "name=np.array(['a','b','c','d','e','f'])\n",
    "top2= name[np.argsort(mark)[::-1][:3]]\n",
    "print(top2)\n",
    "\n"
   ]
  },
  {
   "cell_type": "code",
   "execution_count": 12,
   "metadata": {},
   "outputs": [
    {
     "name": "stdout",
     "output_type": "stream",
     "text": [
      "[[ 7  4  2  6  5]\n",
      " [ 4  6 94 27  4]\n",
      " [ 4  2  5  2  6]]\n"
     ]
    }
   ],
   "source": [
    "#2 on axis 0\n",
    "ar1=np.array([[7,4,2,6,5],[4,6,94,27,4],[4,2,5,2,6]])\n",
    "np.argmax(ar1)\n",
    "print(ar1)"
   ]
  },
  {
   "cell_type": "code",
   "execution_count": 17,
   "metadata": {},
   "outputs": [
    {
     "data": {
      "text/plain": [
       "array([1, 1], dtype=int64)"
      ]
     },
     "execution_count": 17,
     "metadata": {},
     "output_type": "execute_result"
    }
   ],
   "source": [
    "ar2=np.array([[2,4,3,1],[4,6,5,3]])\n",
    "np.argmax(ar2,axis=1)"
   ]
  },
  {
   "cell_type": "code",
   "execution_count": null,
   "metadata": {},
   "outputs": [],
   "source": []
  }
 ],
 "metadata": {
  "kernelspec": {
   "display_name": "Python 3",
   "language": "python",
   "name": "python3"
  },
  "language_info": {
   "codemirror_mode": {
    "name": "ipython",
    "version": 3
   },
   "file_extension": ".py",
   "mimetype": "text/x-python",
   "name": "python",
   "nbconvert_exporter": "python",
   "pygments_lexer": "ipython3",
   "version": "3.8.3"
  }
 },
 "nbformat": 4,
 "nbformat_minor": 4
}
