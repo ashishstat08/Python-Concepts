{
 "cells": [
  {
   "cell_type": "markdown",
   "metadata": {},
   "source": [
    "# Numpy"
   ]
  },
  {
   "cell_type": "code",
   "execution_count": 1,
   "metadata": {},
   "outputs": [],
   "source": [
    "import numpy as np"
   ]
  },
  {
   "cell_type": "code",
   "execution_count": 2,
   "metadata": {},
   "outputs": [
    {
     "name": "stdout",
     "output_type": "stream",
     "text": [
      "[1 2 3 4]\n",
      "[[2 3 4]\n",
      " [3 4 5]]\n"
     ]
    }
   ],
   "source": [
    "# creating a 1D array\n",
    "np_1= np.array([1,2,3,4])\n",
    "print(np_1)\n",
    "\n",
    "# creating a 2d array \n",
    "np_2= np.array([[2,3,4],[3,4,5]])\n",
    "print(np_2)\n",
    "\n"
   ]
  },
  {
   "cell_type": "code",
   "execution_count": 6,
   "metadata": {},
   "outputs": [
    {
     "name": "stdout",
     "output_type": "stream",
     "text": [
      "[ 2.          7.33333333 11.5         4.6         3.83333333]\n"
     ]
    },
    {
     "data": {
      "text/plain": [
       "array([ 50,  66,  46, 115, 138])"
      ]
     },
     "execution_count": 6,
     "metadata": {},
     "output_type": "execute_result"
    }
   ],
   "source": [
    "#difference between list and array\n",
    "distance=[10,22,23,23,23]\n",
    "time=[5,3,2,5,6]\n",
    "dis_arr=np.array(distance)\n",
    "dis_ti=np.array(time)\n",
    "speed= dis_arr/dis_ti\n",
    "print(speed)\n",
    "type(speed)\n",
    "sum(dis_arr)\n",
    "dis_arr* dis_ti\n"
   ]
  },
  {
   "cell_type": "code",
   "execution_count": 11,
   "metadata": {},
   "outputs": [
    {
     "name": "stdout",
     "output_type": "stream",
     "text": [
      "[[[1 2 4 4 5]\n",
      "  [2 3 4 5 5]\n",
      "  [3 4 5 6 7]]]\n"
     ]
    },
    {
     "data": {
      "text/plain": [
       "3"
      ]
     },
     "execution_count": 11,
     "metadata": {},
     "output_type": "execute_result"
    }
   ],
   "source": [
    "# attributes in numpy\n",
    "np1=np.array([[[1,2,4,4,5],[2,3,4,5,5],[3,4,5,6,7]]])\n",
    "print(np1)\n",
    "np1.ndim\n",
    "\n"
   ]
  },
  {
   "cell_type": "code",
   "execution_count": 25,
   "metadata": {},
   "outputs": [
    {
     "name": "stdout",
     "output_type": "stream",
     "text": [
      "['1' '2' '3' '44' 'asj']\n"
     ]
    },
    {
     "data": {
      "text/plain": [
       "dtype('<U11')"
      ]
     },
     "execution_count": 25,
     "metadata": {},
     "output_type": "execute_result"
    }
   ],
   "source": [
    "#when there is different datatype\n",
    "np3=np.array([1,2,3,44,'asj'])\n",
    "print(np3)\n",
    "np3.dtype"
   ]
  },
  {
   "cell_type": "code",
   "execution_count": 26,
   "metadata": {},
   "outputs": [
    {
     "name": "stdout",
     "output_type": "stream",
     "text": [
      "[[1 2 3]\n",
      " [4 5 6]\n",
      " [7 8 9]]\n"
     ]
    }
   ],
   "source": [
    "#to crete the matrix we use the numpy array\n",
    "\n",
    "my_mat=[[1,2,3],[4,5,6],[7,8,9]]\n",
    "my_matrix=np.array(my_mat)\n",
    "print(my_matrix)\n"
   ]
  },
  {
   "cell_type": "code",
   "execution_count": 12,
   "metadata": {},
   "outputs": [
    {
     "data": {
      "text/plain": [
       "2"
      ]
     },
     "execution_count": 12,
     "metadata": {},
     "output_type": "execute_result"
    }
   ],
   "source": [
    "np4=np.array([[1,2,4,4,5],[2,3,4,5,5],[3,4,4,56,6],[33,3,3,3,3]])\n",
    "np4.ndim"
   ]
  },
  {
   "cell_type": "code",
   "execution_count": null,
   "metadata": {},
   "outputs": [],
   "source": []
  }
 ],
 "metadata": {
  "kernelspec": {
   "display_name": "Python 3",
   "language": "python",
   "name": "python3"
  },
  "language_info": {
   "codemirror_mode": {
    "name": "ipython",
    "version": 3
   },
   "file_extension": ".py",
   "mimetype": "text/x-python",
   "name": "python",
   "nbconvert_exporter": "python",
   "pygments_lexer": "ipython3",
   "version": "3.8.3"
  }
 },
 "nbformat": 4,
 "nbformat_minor": 4
}
