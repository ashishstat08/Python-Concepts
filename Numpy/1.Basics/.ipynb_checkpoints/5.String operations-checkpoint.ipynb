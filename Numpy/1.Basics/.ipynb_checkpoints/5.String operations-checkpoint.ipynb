{
 "cells": [
  {
   "cell_type": "markdown",
   "metadata": {},
   "source": [
    "# string operations in numpy\n",
    "- lower()\n",
    "> written the whole string into lower substring\n",
    "- upper()- \n",
    "> written the whole string into uper substring\n",
    "- count() \n",
    ">This function returns the number of occurrences of a substring in the given string\n",
    "- join() :\n",
    "> This function is a string method and returns a string in which the elements of sequence have been joined by str   separator.\n",
    "- numpy.split() : \n",
    "> This function returns a list of strings after breaking the given string by the specified separator.\n",
    "- capitalize():\n",
    "> The capitalize() function returns a string with the first character in capital\n",
    "- find()\n",
    "> find is used to search a substring inside the string it is similar to index but the only difference is that it return -1 if the string is not found inside the given string \n",
    "- titlecase()\n",
    ">The istitle() returns True if the string is a titlecased string otherwise it returns False.\n",
    " \n",
    "        - what is titlecased ?\n",
    "        - String which has the first character in each word Uppercase and remaining all characters Lowercase alphabets.\n",
    "\n"
   ]
  },
  {
   "cell_type": "code",
   "execution_count": 3,
   "metadata": {},
   "outputs": [],
   "source": [
    "import numpy as np"
   ]
  },
  {
   "cell_type": "code",
   "execution_count": 63,
   "metadata": {
    "collapsed": true,
    "jupyter": {
     "outputs_hidden": true
    }
   },
   "outputs": [
    {
     "name": "stdout",
     "output_type": "stream",
     "text": [
      "['ashish' 'dhakad']\n",
      "['ASHISH' 'DHAKAD']\n",
      "[list(['my n', 'a', 'me is ash', 'ish dh', 'akad'])]\n",
      "['m-y- -n-a-m-e- -i-s' 'a;s;h;i;s;h; ;d;h;a;k;a;d']\n",
      "*****ashish dhakad******\n"
     ]
    },
    {
     "data": {
      "text/plain": [
       "array([[-1],\n",
       "       [ 5],\n",
       "       [-1],\n",
       "       [-1]])"
      ]
     },
     "execution_count": 63,
     "metadata": {},
     "output_type": "execute_result"
    }
   ],
   "source": [
    "#1-----------lower-------------#\n",
    "np1=np.array(['AshisH','DhakaD'])\n",
    "lower=np.char.lower(np1)\n",
    "print(lower)\n",
    "\n",
    "#-----------upper--------------#\n",
    "np1=np.array(['AshisH','DhakaD'])\n",
    "uper=np.char.upper(np1)\n",
    "print(uper)\n",
    "\n",
    "#---------splitting------------#\n",
    "np2=np.array(['my n:a:me is ash:ish dh:akad'])\n",
    "spl=np.char.split(np2,sep=(':'))\n",
    "print(spl)\n",
    "\n",
    "#--------joinning-------------#\n",
    "join=np.char.join(['-',';'],['my name is', 'ashish dhakad'])\n",
    "print(join)\n",
    "\n",
    "#--------count-------------#\n",
    "np1=np.array([['my name'], ['is ashish'], ['and i love'], ['data science']])\n",
    "np.char.count(np1,'i')\n",
    "\n",
    "#---------capatilize--------#\n",
    "np.char.capitalize(np1)\n",
    "\n",
    "#---------center-----------# \n",
    "strr='ashish dhakad'\n",
    "dd=strr.center(24,'*')\n",
    "print(dd)\n",
    "\n",
    "#--------find-------------#\n",
    "np1=np.array([['my name'], ['is ashish'], ['and i love'], ['data science']])\n",
    "np.char.find(np1,'h')"
   ]
  },
  {
   "cell_type": "markdown",
   "metadata": {},
   "source": [
    "# Python other string methods"
   ]
  },
  {
   "cell_type": "markdown",
   "metadata": {},
   "source": [
    "# Set 1- not in numpy \n",
    "\n",
    "1. strip() :- This method is used to delete all the leading and trailing characters mentioned in its argument.\n",
    "\n",
    "2. lstrip() :- This method is used to delete all the leading characters on the left\n",
    "\n",
    "3. rstrip() :- This method is used to delete all the trailing characters on the right\n",
    "\n",
    "4. min(“string”) :- This function returns the minimum value alphabet from string.\n",
    "\n",
    "5. max(“string”) :- This function returns the maximum value alphabet from string.\n",
    "\n",
    "6. maketrans() :- It is used to map the contents of string 1 with string 2 with respective indices to be translated later using translate() i.e after that we can change the original string\n"
   ]
  },
  {
   "cell_type": "code",
   "execution_count": 80,
   "metadata": {},
   "outputs": [
    {
     "name": "stdout",
     "output_type": "stream",
     "text": [
      "dhhihh \n",
      "['ashish']\n",
      "ashish\n"
     ]
    }
   ],
   "source": [
    "#-----------maketrans-----------------#\n",
    "strr='ashish '\n",
    "st1='as'\n",
    "st2='dh'\n",
    "new=strr.maketrans(st1,st2)\n",
    "print(strr.translate(new))\n",
    "\n",
    "#------------strip-------------#\n",
    "np1=np.array(['--------ashish-------'])\n",
    "res=np.char.strip(np1,'-')\n",
    "print(res)\n",
    "\n",
    "#--------min-----------------#\n",
    "np1=(['ashish'])\n",
    "res=min(np1)\n",
    "print(res)"
   ]
  },
  {
   "cell_type": "code",
   "execution_count": null,
   "metadata": {},
   "outputs": [],
   "source": []
  }
 ],
 "metadata": {
  "kernelspec": {
   "display_name": "Python 3",
   "language": "python",
   "name": "python3"
  },
  "language_info": {
   "codemirror_mode": {
    "name": "ipython",
    "version": 3
   },
   "file_extension": ".py",
   "mimetype": "text/x-python",
   "name": "python",
   "nbconvert_exporter": "python",
   "pygments_lexer": "ipython3",
   "version": "3.7.4"
  }
 },
 "nbformat": 4,
 "nbformat_minor": 4
}
