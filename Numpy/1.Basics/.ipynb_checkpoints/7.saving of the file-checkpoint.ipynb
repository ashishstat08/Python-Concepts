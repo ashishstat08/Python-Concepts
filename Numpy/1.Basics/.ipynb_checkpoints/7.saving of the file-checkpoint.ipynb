{
 "cells": [
  {
   "cell_type": "markdown",
   "metadata": {},
   "source": [
    "# Saving of the numpy file\n",
    "- extension as npy\n",
    "- first method\n",
    "   * np.save(file name which you want to save, array)\n",
    "   * use np.load(file name)\n",
    "- to save more than one array\n",
    "   * np.savez(name, arr1,arr2,...)"
   ]
  },
  {
   "cell_type": "code",
   "execution_count": 15,
   "metadata": {},
   "outputs": [
    {
     "data": {
      "text/plain": [
       "array([2, 3, 4, 5, 6, 7])"
      ]
     },
     "execution_count": 15,
     "metadata": {},
     "output_type": "execute_result"
    }
   ],
   "source": [
    "np2=np.array([2,3,4,5,6,7])\n",
    "np2\n",
    "np.save('assss',np2)\n",
    "np.load('assss.npy')"
   ]
  },
  {
   "cell_type": "code",
   "execution_count": null,
   "metadata": {},
   "outputs": [],
   "source": []
  }
 ],
 "metadata": {
  "kernelspec": {
   "display_name": "Python 3",
   "language": "python",
   "name": "python3"
  },
  "language_info": {
   "codemirror_mode": {
    "name": "ipython",
    "version": 3
   },
   "file_extension": ".py",
   "mimetype": "text/x-python",
   "name": "python",
   "nbconvert_exporter": "python",
   "pygments_lexer": "ipython3",
   "version": "3.7.4"
  }
 },
 "nbformat": 4,
 "nbformat_minor": 4
}
