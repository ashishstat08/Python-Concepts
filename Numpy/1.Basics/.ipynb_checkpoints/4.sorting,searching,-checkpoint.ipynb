{
 "cells": [
  {
   "cell_type": "markdown",
   "metadata": {},
   "source": [
    "#                      Sorting\n",
    "- sort\n",
    "- argsort\n",
    "- argmin\n",
    "- argmax\n",
    "- nanargmax\n",
    "- nanargmin\n",
    "- count_non_zero\n",
    "- count_zero\n"
   ]
  },
  {
   "cell_type": "code",
   "execution_count": 2,
   "metadata": {},
   "outputs": [],
   "source": [
    "import numpy as np"
   ]
  },
  {
   "cell_type": "code",
   "execution_count": 14,
   "metadata": {},
   "outputs": [
    {
     "name": "stdout",
     "output_type": "stream",
     "text": [
      "[[ 2  4  5  6  7]\n",
      " [ 4  4  6 27 94]]\n",
      "['f' 'c']\n"
     ]
    }
   ],
   "source": [
    "#-----------sorting---------------#\n",
    "ar1=np.array([[7,4,2,6,5],[4,6,94,27,4]])\n",
    "ar1.sort()\n",
    "print(ar1)\n",
    "\n",
    "#2 on axis 0\n",
    "ar1=np.array([[7,4,2,6,5],[4,6,94,27,4]])\n",
    "np.sort(ar1,axis=-1)\n",
    "\n",
    "#-----------argsort--------------#\n",
    "mark=np.array([22,45,77,44,33,86])\n",
    "name=np.array(['a','b','c','d','e','f'])\n",
    "top2= name[np.argsort(mark)[::-1][:2]]\n",
    "print(top2)\n",
    "\n"
   ]
  },
  {
   "cell_type": "code",
   "execution_count": null,
   "metadata": {},
   "outputs": [],
   "source": []
  }
 ],
 "metadata": {
  "kernelspec": {
   "display_name": "Python 3",
   "language": "python",
   "name": "python3"
  },
  "language_info": {
   "codemirror_mode": {
    "name": "ipython",
    "version": 3
   },
   "file_extension": ".py",
   "mimetype": "text/x-python",
   "name": "python",
   "nbconvert_exporter": "python",
   "pygments_lexer": "ipython3",
   "version": "3.7.4"
  }
 },
 "nbformat": 4,
 "nbformat_minor": 4
}
