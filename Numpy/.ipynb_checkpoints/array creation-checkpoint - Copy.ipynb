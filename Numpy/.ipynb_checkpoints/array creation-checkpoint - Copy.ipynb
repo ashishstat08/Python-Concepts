{
 "cells": [
  {
   "cell_type": "markdown",
   "metadata": {},
   "source": [
    "## Array creation \n"
   ]
  },
  {
   "cell_type": "markdown",
   "metadata": {},
   "source": [
    "## a) array(valuelist,dtype='float','int','boolean')"
   ]
  },
  {
   "cell_type": "code",
   "execution_count": 14,
   "metadata": {
    "collapsed": true,
    "jupyter": {
     "outputs_hidden": true
    }
   },
   "outputs": [
    {
     "name": "stdout",
     "output_type": "stream",
     "text": [
      "[[1 2 4 4 5]\n",
      " [2 3 4 5 5]]\n",
      "(2, 5)\n",
      "10\n",
      "int32\n",
      "2\n"
     ]
    }
   ],
   "source": [
    "import numpy as np\n",
    "np1=np.array([[1,2,4,4,5],[2,3,4,5,5]],dtype='int')\n",
    "print(np1)\n",
    "print(np1.shape)\n",
    "print (np1.size)\n",
    "print(np1.dtype)\n",
    "print(np1.ndim)"
   ]
  },
  {
   "cell_type": "markdown",
   "metadata": {},
   "source": [
    "## b) empty(shape,dtype,order)"
   ]
  },
  {
   "cell_type": "code",
   "execution_count": 23,
   "metadata": {
    "collapsed": true,
    "jupyter": {
     "outputs_hidden": true
    }
   },
   "outputs": [
    {
     "data": {
      "text/plain": [
       "array([[-665962128,        607,   42802020],\n",
       "       [    109199,  376736889,   41681276],\n",
       "       [  25362456,  444340861,   10557344]])"
      ]
     },
     "execution_count": 23,
     "metadata": {},
     "output_type": "execute_result"
    }
   ],
   "source": [
    "np2=np.empty([3,3],dtype='int',order='C')\n",
    "np2"
   ]
  },
  {
   "cell_type": "markdown",
   "metadata": {},
   "source": [
    "## c. zeros(shape,dtype,order)"
   ]
  },
  {
   "cell_type": "code",
   "execution_count": 28,
   "metadata": {
    "collapsed": true,
    "jupyter": {
     "outputs_hidden": true
    }
   },
   "outputs": [
    {
     "name": "stdout",
     "output_type": "stream",
     "text": [
      "[[0. 0. 0.]\n",
      " [0. 0. 0.]\n",
      " [0. 0. 0.]]\n"
     ]
    }
   ],
   "source": [
    "np3=np.zeros([3,3],dtype='float',order= 'C')\n",
    "print(np3)"
   ]
  },
  {
   "cell_type": "markdown",
   "metadata": {},
   "source": [
    "## d. full(shape,fill_value,dtype)"
   ]
  },
  {
   "cell_type": "code",
   "execution_count": 34,
   "metadata": {},
   "outputs": [
    {
     "name": "stdout",
     "output_type": "stream",
     "text": [
      "[[5.+0.j 5.+0.j 5.+0.j]\n",
      " [5.+0.j 5.+0.j 5.+0.j]\n",
      " [5.+0.j 5.+0.j 5.+0.j]]\n"
     ]
    }
   ],
   "source": [
    "np4=np.full([3,3],5,dtype='complex')\n",
    "print(np4)"
   ]
  },
  {
   "cell_type": "code",
   "execution_count": null,
   "metadata": {},
   "outputs": [],
   "source": []
  }
 ],
 "metadata": {
  "kernelspec": {
   "display_name": "Python 3",
   "language": "python",
   "name": "python3"
  },
  "language_info": {
   "codemirror_mode": {
    "name": "ipython",
    "version": 3
   },
   "file_extension": ".py",
   "mimetype": "text/x-python",
   "name": "python",
   "nbconvert_exporter": "python",
   "pygments_lexer": "ipython3",
   "version": "3.7.4"
  }
 },
 "nbformat": 4,
 "nbformat_minor": 4
}
