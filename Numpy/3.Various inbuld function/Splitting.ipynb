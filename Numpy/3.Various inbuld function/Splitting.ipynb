{
 "cells": [
  {
   "cell_type": "markdown",
   "metadata": {},
   "source": [
    "# Splittting the arrays\n",
    "- split\n",
    "- hsplit\n",
    "- vsplit"
   ]
  },
  {
   "cell_type": "code",
   "execution_count": 2,
   "metadata": {},
   "outputs": [],
   "source": [
    "import numpy as np"
   ]
  },
  {
   "cell_type": "code",
   "execution_count": 5,
   "metadata": {},
   "outputs": [
    {
     "data": {
      "text/plain": [
       "[array([[1, 2],\n",
       "        [2, 3]]),\n",
       " array([[3, 4],\n",
       "        [4, 5]]),\n",
       " array([[5, 6],\n",
       "        [6, 8]])]"
      ]
     },
     "execution_count": 5,
     "metadata": {},
     "output_type": "execute_result"
    }
   ],
   "source": [
    "#-------------split----------------#\n",
    "np1=np.arange(6)\n",
    "np2=np.array([[1,2,3,4,5,6],[2,3,4,5,6,8]])\n",
    "np.split(np2,3,1)"
   ]
  },
  {
   "cell_type": "code",
   "execution_count": 27,
   "metadata": {},
   "outputs": [
    {
     "data": {
      "text/plain": [
       "[array([[1, 2],\n",
       "        [2, 3]]), array([[3],\n",
       "        [4]]), array([[4, 5, 6],\n",
       "        [5, 6, 8]])]"
      ]
     },
     "execution_count": 27,
     "metadata": {},
     "output_type": "execute_result"
    }
   ],
   "source": [
    "#-----------hsplit-------------#\n",
    "np1=np.arange(6)\n",
    "np2=np.array([[1,2,3,4,5,6],[2,3,4,5,6,8]])\n",
    "np.hsplit(np2,[2,3])"
   ]
  },
  {
   "cell_type": "code",
   "execution_count": 40,
   "metadata": {},
   "outputs": [
    {
     "name": "stdout",
     "output_type": "stream",
     "text": [
      "[array([[1, 2, 3, 4, 5, 6]]), array([[2, 3, 4, 5, 6, 8],\n",
      "       [3, 5, 6, 7, 5, 4]]), array([], shape=(0, 6), dtype=int32)]\n"
     ]
    }
   ],
   "source": [
    "#------------vsplit------------#\n",
    "np1=np.arange(6)\n",
    "np2=np.array([[1,2,3,4,5,6],[2,3,4,5,6,8],[3,5,6,7,5,4]])\n",
    "ass=np.vsplit(np2,[1,3])\n",
    "print(ass)"
   ]
  },
  {
   "cell_type": "code",
   "execution_count": null,
   "metadata": {},
   "outputs": [],
   "source": []
  }
 ],
 "metadata": {
  "kernelspec": {
   "display_name": "Python 3",
   "language": "python",
   "name": "python3"
  },
  "language_info": {
   "codemirror_mode": {
    "name": "ipython",
    "version": 3
   },
   "file_extension": ".py",
   "mimetype": "text/x-python",
   "name": "python",
   "nbconvert_exporter": "python",
   "pygments_lexer": "ipython3",
   "version": "3.8.3"
  }
 },
 "nbformat": 4,
 "nbformat_minor": 4
}
