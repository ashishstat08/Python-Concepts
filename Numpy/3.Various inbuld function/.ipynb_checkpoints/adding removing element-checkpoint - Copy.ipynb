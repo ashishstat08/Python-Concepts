{
 "cells": [
  {
   "cell_type": "code",
   "execution_count": 1,
   "metadata": {},
   "outputs": [],
   "source": [
    "import numpy as np"
   ]
  },
  {
   "cell_type": "code",
   "execution_count": 12,
   "metadata": {
    "collapsed": true,
    "jupyter": {
     "outputs_hidden": true
    }
   },
   "outputs": [
    {
     "name": "stdout",
     "output_type": "stream",
     "text": [
      "[1 2 3 2 4 5 2 4 5 6 7 8]\n",
      "\n",
      "[[1 2 3]\n",
      " [2 4 5]\n",
      " [6 7 8]]\n",
      "\n",
      "[[1 2 3 2 4 5]\n",
      " [2 4 5 6 7 8]]\n",
      "\n"
     ]
    }
   ],
   "source": [
    "#-------------append--------------#\n",
    "#1\n",
    "np1=np.array([[1,2,3],[2,4,5]])\n",
    "res=np.append(np1,[[2,4,5],[6,7,8]])\n",
    "print(res)\n",
    "print(\"\\r\")\n",
    "#2\n",
    "np1=np.array([[1,2,3]])\n",
    "res=np.append(np1,[[2,4,5],[6,7,8]],axis=0)\n",
    "print(res)\n",
    "print(\"\\r\")\n",
    "\n",
    "#2- there must be equal elements if you want to use on axis 1\n",
    "np1=np.array([[1,2,3],[2,4,5]])\n",
    "res=np.append(np1,[[2,4,5],[6,7,8]],axis=1)\n",
    "print(res)\n",
    "print(\"\\r\")"
   ]
  },
  {
   "cell_type": "code",
   "execution_count": 20,
   "metadata": {},
   "outputs": [
    {
     "name": "stdout",
     "output_type": "stream",
     "text": [
      "[[ 1  2  3 10]\n",
      " [ 4  5  6 11]\n",
      " [ 7  8  9 12]]\n"
     ]
    }
   ],
   "source": [
    "#-------------insert----------------#\n",
    "#1\n",
    "a=np.array([[1,2,3],[4,5,6],[7,8,9]])\n",
    "res=np.insert(a,3,[10,11,12],axis=1)\n",
    "print(res)\n",
    "\n",
    "#2\n",
    "a=np.array([[1,2,3],[4,5,6],[7,8,9]])\n",
    "res=np.insert(a,3,[10,11,12],axis=1)\n",
    "print(res)\n"
   ]
  },
  {
   "cell_type": "code",
   "execution_count": 28,
   "metadata": {},
   "outputs": [
    {
     "name": "stdout",
     "output_type": "stream",
     "text": [
      "[1 2 4 5 6 7 8 9]\n",
      "[[1 2 3]\n",
      " [4 5 6]]\n",
      "[[1 2]\n",
      " [4 5]\n",
      " [7 8]]\n",
      "[2 4 6 8]\n"
     ]
    }
   ],
   "source": [
    "#--------------delete-----------#\n",
    "# only element in the array\n",
    "a=np.array([[1,2,3],[4,5,6],[7,8,9]])\n",
    "res=np.delete(a,2)\n",
    "print(res)\n",
    "\n",
    "#2 row wise\n",
    "a=np.array([[1,2,3],[4,5,6],[7,8,9]])\n",
    "res=np.delete(a,2, axis=0)\n",
    "print(res)\n",
    "\n",
    "#3 coloumn wise\n",
    "a=np.array([[1,2,3],[4,5,6],[7,8,9]])\n",
    "res=np.delete(a,2,axis=1)\n",
    "print(res)\n",
    "\n",
    "a=np.array([[1,2,3],[4,5,6],[7,8,9]])\n",
    "res=np.delete(a,np.s_[::2])\n",
    "print(res)"
   ]
  },
  {
   "cell_type": "code",
   "execution_count": 40,
   "metadata": {},
   "outputs": [
    {
     "name": "stdout",
     "output_type": "stream",
     "text": [
      "[1 2 4 6 8 9]\n",
      "[0 1 2 4 6 8]\n",
      "[0 1 2 2 3 3 4 4 5]\n",
      "[1 1 2 2 2 1]\n"
     ]
    }
   ],
   "source": [
    "#-----------unique----------------#\n",
    "#1 simple\n",
    "a=np.array([[1,2,4],[4,6,6],[8,8,9]])\n",
    "res=np.unique(a)\n",
    "print(res)\n",
    "\n",
    "#2 return index that the poistion of the unique values\n",
    "a=np.array([[1,2,4],[4,6,6],[8,8,9]])\n",
    "res,indices=np.unique(a,return_index=True)\n",
    "print(indices)\n",
    "\n",
    "#3 retun inverse\n",
    "a=np.array([[1,2,4],[4,6,6],[8,8,9]])\n",
    "res,indices=np.unique(a,return_inverse=True)\n",
    "print(indices)\n",
    "\n",
    "#4 return count\n",
    "a=np.array([[1,2,4],[4,6,6],[8,8,9]])\n",
    "res,indices=np.unique(a,return_counts=True)\n",
    "print(indices)\n"
   ]
  },
  {
   "cell_type": "code",
   "execution_count": null,
   "metadata": {},
   "outputs": [],
   "source": []
  }
 ],
 "metadata": {
  "kernelspec": {
   "display_name": "Python 3",
   "language": "python",
   "name": "python3"
  },
  "language_info": {
   "codemirror_mode": {
    "name": "ipython",
    "version": 3
   },
   "file_extension": ".py",
   "mimetype": "text/x-python",
   "name": "python",
   "nbconvert_exporter": "python",
   "pygments_lexer": "ipython3",
   "version": "3.7.4"
  }
 },
 "nbformat": 4,
 "nbformat_minor": 4
}
