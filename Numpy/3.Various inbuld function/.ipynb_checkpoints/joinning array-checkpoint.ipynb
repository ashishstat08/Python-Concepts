{
 "cells": [
  {
   "cell_type": "markdown",
   "metadata": {},
   "source": [
    "# Joinning array\n",
    "- concatenate\n",
    "- stack\n",
    "- hstack\n",
    "- vstack"
   ]
  },
  {
   "cell_type": "code",
   "execution_count": 2,
   "metadata": {},
   "outputs": [],
   "source": [
    "import numpy as np"
   ]
  },
  {
   "cell_type": "code",
   "execution_count": 3,
   "metadata": {},
   "outputs": [
    {
     "name": "stdout",
     "output_type": "stream",
     "text": [
      "[[2 3 4 5 4 5 6 8]\n",
      " [2 3 7 9 6 7 5 9]]\n",
      "[1. 2. 3. 4. 0. 1. 2. 3. 4. 5.]\n",
      "[1. 2. 3. 4. 0. 1. 2. 3. 4. 5.]\n",
      "[[1 2 5]\n",
      " [3 4 6]]\n"
     ]
    },
    {
     "data": {
      "text/plain": [
       "(1, 2)"
      ]
     },
     "execution_count": 3,
     "metadata": {},
     "output_type": "execute_result"
    }
   ],
   "source": [
    "#---------------concatenate--------------------#\n",
    "np1=np.array([[2,3,4,5],[2,3,7,9]])\n",
    "np2=np.array([[4,5,6,8],[6,7,5,9]])\n",
    "result=np.concatenate((np1,np2),axis=1)\n",
    "result\n",
    "print(result)\n",
    "#1 if we have to put the result somewhere else 1D\n",
    "a=np.arange(1,5)\n",
    "b=np.arange(6)\n",
    "c=np.zeros(10)\n",
    "result=np.concatenate((a,b),out=c)\n",
    "print(result)\n",
    "print(c)\n",
    "\n",
    "#2 concatenate two dimension\n",
    "a=np.array([[1,2],[3,4]])\n",
    "b=np.array([[5,6]])\n",
    "c=np.concatenate((a,b.T),axis=1)\n",
    "print(c)\n",
    "a.shape\n",
    "b.shape\n"
   ]
  },
  {
   "cell_type": "code",
   "execution_count": 15,
   "metadata": {},
   "outputs": [
    {
     "name": "stdout",
     "output_type": "stream",
     "text": [
      "[[[2 3 4 5]\n",
      "  [2 3 7 9]]\n",
      "\n",
      " [[4 5 6 8]\n",
      "  [6 7 5 9]]]\n"
     ]
    },
    {
     "data": {
      "text/plain": [
       "3"
      ]
     },
     "execution_count": 15,
     "metadata": {},
     "output_type": "execute_result"
    }
   ],
   "source": [
    "#---------------stack-------------------#\n",
    "np1=np.array([[2,3,4,5],[2,3,7,9]])\n",
    "np2=np.array([[4,5,6,8],[6,7,5,9]])\n",
    "result=(np.stack((np1,np2),axis=0))\n",
    "print(result)\n",
    "result.ndim"
   ]
  },
  {
   "cell_type": "code",
   "execution_count": 14,
   "metadata": {},
   "outputs": [
    {
     "name": "stdout",
     "output_type": "stream",
     "text": [
      "[[ 1  2  3  4  5]\n",
      " [ 6  7  8  9 10]\n",
      " [10 11 12 13 14]]\n",
      "[[2 3 4 5]\n",
      " [4 5 6 8]\n",
      " [6 7 5 9]]\n"
     ]
    }
   ],
   "source": [
    "#----------------vstack-----------------#\n",
    "#----1d array example--------#\n",
    "np1=np.array([1,2,3,4,5])\n",
    "np2=np.array([6,7,8,9,10])\n",
    "np3=np.array([10,11,12,13,14])\n",
    "result=np.vstack((np1,np2,np3))\n",
    "print(result)\n",
    "\n",
    "#----2d array example--------#\n",
    "np1=np.array([2,3,4,5])\n",
    "np2=np.array([[4,5,6,8],[6,7,5,9]])\n",
    "result=np.vstack((np1,np2))\n",
    "print(result)"
   ]
  },
  {
   "cell_type": "code",
   "execution_count": 24,
   "metadata": {},
   "outputs": [
    {
     "name": "stdout",
     "output_type": "stream",
     "text": [
      "[ 1  2  3  4  5  6  7  8  9 10 10 11 12 13 14]\n",
      "[[2 4 5 6 8]\n",
      " [3 6 7 5 9]]\n"
     ]
    }
   ],
   "source": [
    "#----1d array example--------#\n",
    "np1=np.array([1,2,3,4,5])\n",
    "np2=np.array([6,7,8,9,10])\n",
    "np3=np.array([10,11,12,13,14])\n",
    "result=np.hstack((np1,np2,np3))\n",
    "print(result)\n",
    "\n",
    "#----2d array example--------#\n",
    "np1=np.array([[2,3]])\n",
    "np2=np.array([[4,5,6,8],[6,7,5,9]])\n",
    "result=np.hstack((np1.T,np2))\n",
    "print(result)"
   ]
  },
  {
   "cell_type": "code",
   "execution_count": 31,
   "metadata": {},
   "outputs": [
    {
     "name": "stdout",
     "output_type": "stream",
     "text": [
      "[[2 4 5 6 8]\n",
      " [3 6 7 5 9]]\n"
     ]
    }
   ],
   "source": [
    "np1=np.array([[2,3]])\n",
    "np2=np.array([[4,5,6,8],[6,7,5,9]])\n",
    "re=np.concatenate((np1.T,np2),axis=1)\n",
    "print(re)"
   ]
  },
  {
   "cell_type": "code",
   "execution_count": null,
   "metadata": {},
   "outputs": [],
   "source": []
  }
 ],
 "metadata": {
  "kernelspec": {
   "display_name": "Python 3",
   "language": "python",
   "name": "python3"
  },
  "language_info": {
   "codemirror_mode": {
    "name": "ipython",
    "version": 3
   },
   "file_extension": ".py",
   "mimetype": "text/x-python",
   "name": "python",
   "nbconvert_exporter": "python",
   "pygments_lexer": "ipython3",
   "version": "3.7.4"
  }
 },
 "nbformat": 4,
 "nbformat_minor": 4
}
