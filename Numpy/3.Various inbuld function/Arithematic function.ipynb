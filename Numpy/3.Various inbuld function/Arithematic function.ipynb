{
 "cells": [
  {
   "cell_type": "markdown",
   "metadata": {},
   "source": [
    "# Arithematic Operations"
   ]
  },
  {
   "cell_type": "code",
   "execution_count": 17,
   "metadata": {},
   "outputs": [
    {
     "name": "stdout",
     "output_type": "stream",
     "text": [
      "[ 5  7  9 11 13 15 17 19]\n",
      "[ 5  7  9 11 13 15 17 19]\n"
     ]
    }
   ],
   "source": [
    "#1 ------------------add ---------------------# \n",
    "import numpy as np\n",
    "np1=np.arange(2,10)\n",
    "np2=np.arange(3,11)\n",
    "result=np1+np2\n",
    "print(result)\n",
    "#2\n",
    "res=np.add(np1,np2)\n",
    "print(res)"
   ]
  },
  {
   "cell_type": "code",
   "execution_count": 13,
   "metadata": {},
   "outputs": [
    {
     "name": "stdout",
     "output_type": "stream",
     "text": [
      "[-1 -1 -1 -1 -1 -1 -1 -1]\n"
     ]
    }
   ],
   "source": [
    "# ------------------substract---------------#\n",
    "np1=np.arange(2,10)\n",
    "np2=np.arange(3,11)\n",
    "result=np1-np2\n",
    "print(result)\n",
    "#2\n",
    "res=np.subtract(np1,np2)"
   ]
  },
  {
   "cell_type": "code",
   "execution_count": 14,
   "metadata": {},
   "outputs": [
    {
     "name": "stdout",
     "output_type": "stream",
     "text": [
      "[ 6 12 20 30 42 56 72 90]\n"
     ]
    }
   ],
   "source": [
    "# ------------------multiply---------------#\n",
    "np1=np.arange(2,10)\n",
    "np2=np.arange(3,11)\n",
    "result=np1*np2\n",
    "print(result)\n",
    "#2\n",
    "res=np.multiply(np1,np2)"
   ]
  },
  {
   "cell_type": "code",
   "execution_count": 32,
   "metadata": {},
   "outputs": [
    {
     "name": "stdout",
     "output_type": "stream",
     "text": [
      "[0.66666667 0.75       0.8        0.83333333 0.85714286 0.875\n",
      " 0.88888889 0.9       ]\n"
     ]
    }
   ],
   "source": [
    "# --------------------divide---------------#\n",
    "np1=np.arange(2,10)\n",
    "np2=np.arange(3,11)\n",
    "res=np.divide(np1,np2)\n",
    "print(res)"
   ]
  },
  {
   "cell_type": "code",
   "execution_count": 19,
   "metadata": {},
   "outputs": [
    {
     "name": "stdout",
     "output_type": "stream",
     "text": [
      "[1 1 1 1 1 1 1 1]\n"
     ]
    }
   ],
   "source": [
    "#----------------floor division------------#\n",
    "np1=np.arange(2,10)\n",
    "np2=np.arange(3,11)\n",
    "res=np.floor_divide(np2,np1)\n",
    "print(res)"
   ]
  },
  {
   "cell_type": "code",
   "execution_count": 42,
   "metadata": {},
   "outputs": [
    {
     "name": "stdout",
     "output_type": "stream",
     "text": [
      "[0 1 1 1 1 1 1 1]\n",
      "[0 1 1 1 1 1 1 1]\n"
     ]
    }
   ],
   "source": [
    "#------------reminder and mod------------------#\n",
    "np1=np.arange(2,10)\n",
    "np2=np.arange(1,9)\n",
    "res=np.remainder(np1,np2)\n",
    "print(res)\n",
    "#2\n",
    "res2=np.mod(np1,np2)\n",
    "print(res2)"
   ]
  },
  {
   "cell_type": "code",
   "execution_count": 12,
   "metadata": {},
   "outputs": [
    {
     "name": "stdout",
     "output_type": "stream",
     "text": [
      "44\n"
     ]
    },
    {
     "data": {
      "text/plain": [
       "44"
      ]
     },
     "execution_count": 12,
     "metadata": {},
     "output_type": "execute_result"
    }
   ],
   "source": [
    "\n",
    "# ----------------sum of array---------------#\n",
    "np1=np.arange(2,10)\n",
    "np2=np.arange(3,11)\n",
    "res=np.sum(np1)\n",
    "print(res)\n",
    "#2\n",
    "np1.sum()"
   ]
  },
  {
   "cell_type": "code",
   "execution_count": 35,
   "metadata": {},
   "outputs": [
    {
     "name": "stdout",
     "output_type": "stream",
     "text": [
      "[5.         0.33333333 0.25       0.16666667]\n"
     ]
    }
   ],
   "source": [
    "#---------------reciprocal----------------#\n",
    "np1=np.array([0.2,3,4,6])\n",
    "np2=np.arange(3,12)\n",
    "res=np.reciprocal(np1)\n",
    "print(res)\n"
   ]
  },
  {
   "cell_type": "code",
   "execution_count": 41,
   "metadata": {},
   "outputs": [
    {
     "name": "stdout",
     "output_type": "stream",
     "text": [
      "[   72   432  1600  4500 10584 21952 41472 72900]\n"
     ]
    }
   ],
   "source": [
    "#------------------power-------------------#\n",
    "np1=np.arange(2,10)\n",
    "np2=np.arange(3,11)\n",
    "res=(np.power(np1,3)) * (np.power(np2,2))\n",
    "print(res)\n"
   ]
  },
  {
   "cell_type": "code",
   "execution_count": 43,
   "metadata": {},
   "outputs": [
    {
     "data": {
      "text/plain": [
       "array([1.25992105, 1.44224957, 1.58740105, 1.70997595, 1.81712059,\n",
       "       1.91293118, 2.        ])"
      ]
     },
     "execution_count": 43,
     "metadata": {},
     "output_type": "execute_result"
    }
   ],
   "source": [
    "#--------------cuberoot----------------#\n",
    "np2=np.array([2,3,4,5,6,7,8])\n",
    "np3=np.array([2,3,4,5,6,7,8])\n",
    "np.cbrt(np2)"
   ]
  },
  {
   "cell_type": "code",
   "execution_count": 20,
   "metadata": {},
   "outputs": [
    {
     "name": "stdout",
     "output_type": "stream",
     "text": [
      "15\n",
      "[ 1  3  6 10 15]\n",
      "[  1   2   6  24 120]\n"
     ]
    }
   ],
   "source": [
    "#-------------reduce and accumulate_--------------------------#\n",
    "\n",
    "a=np.array([1,2,3,4,5])\n",
    "re=np.add.reduce(a)\n",
    "print(re)\n",
    "#or\n",
    "np.sum(a)\n",
    "\n",
    "#2 to get the moving sum of the array\n",
    "re2=np.add.accumulate(a)\n",
    "print(re2)\n",
    "re3=np.multiply.accumulate(a)\n",
    "print(re3)"
   ]
  },
  {
   "cell_type": "code",
   "execution_count": null,
   "metadata": {},
   "outputs": [
    {
     "name": "stdin",
     "output_type": "stream",
     "text": [
      " 4\n"
     ]
    },
    {
     "name": "stdout",
     "output_type": "stream",
     "text": [
      "0 1 0 1 \n",
      "1 0 1 0 \n",
      "0 1 0 1 \n",
      "1 0 1 0 \n"
     ]
    }
   ],
   "source": [
    "n = int(input())\n",
    "def checkerboard(n):\n",
    "    x=np.zeros((n,n),dtype='int')\n",
    "    x[1::2,::2]=1\n",
    "    x[::2,1::2]=1\n",
    "    for i in range(n): \n",
    "        for j in range(n):  \n",
    "            print(np.array(x[i][j]), end =\" \")  \n",
    "        print()\n",
    "n=4\n",
    "checkerboard(n)\n",
    "\n",
    "#0r\n",
    "n=int(input())\n",
    "x=np.array([0,1],[1,0])\n",
    "check=np.tile(x,n//2,n//2)\n",
    "np.asarray()"
   ]
  },
  {
   "cell_type": "code",
   "execution_count": 15,
   "metadata": {},
   "outputs": [
    {
     "data": {
      "text/plain": [
       "9.999999999999998"
      ]
     },
     "execution_count": 15,
     "metadata": {},
     "output_type": "execute_result"
    }
   ],
   "source": [
    "10/3\n",
    "10//3\n",
    "10%3\n",
    "10*3\n",
    "10**3\n",
    "1000**(1/3)"
   ]
  },
  {
   "cell_type": "code",
   "execution_count": 13,
   "metadata": {},
   "outputs": [
    {
     "data": {
      "text/plain": [
       "3.9810717055349727"
      ]
     },
     "execution_count": 13,
     "metadata": {},
     "output_type": "execute_result"
    }
   ],
   "source": [
    "1000**"
   ]
  },
  {
   "cell_type": "code",
   "execution_count": null,
   "metadata": {},
   "outputs": [],
   "source": []
  }
 ],
 "metadata": {
  "kernelspec": {
   "display_name": "Python 3",
   "language": "python",
   "name": "python3"
  },
  "language_info": {
   "codemirror_mode": {
    "name": "ipython",
    "version": 3
   },
   "file_extension": ".py",
   "mimetype": "text/x-python",
   "name": "python",
   "nbconvert_exporter": "python",
   "pygments_lexer": "ipython3",
   "version": "3.8.3"
  }
 },
 "nbformat": 4,
 "nbformat_minor": 4
}
