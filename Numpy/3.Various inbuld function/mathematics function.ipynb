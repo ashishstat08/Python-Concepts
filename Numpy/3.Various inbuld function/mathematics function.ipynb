{
 "cells": [
  {
   "cell_type": "markdown",
   "metadata": {},
   "source": [
    "# Rounding Function"
   ]
  },
  {
   "cell_type": "code",
   "execution_count": 3,
   "metadata": {},
   "outputs": [],
   "source": [
    "import numpy as np"
   ]
  },
  {
   "cell_type": "code",
   "execution_count": 4,
   "metadata": {},
   "outputs": [
    {
     "name": "stdout",
     "output_type": "stream",
     "text": [
      "[1.33    2.44444 3.62342 4.53433]\n",
      "[1.33 2.44 3.62 4.53]\n"
     ]
    }
   ],
   "source": [
    "#----------------around---------------#\n",
    "np1=np.array([1.33,2.44444,3.62342,4.53433])\n",
    "print(np1)\n",
    "\n",
    "res=np.around(np1,2)\n",
    "print(res)"
   ]
  },
  {
   "cell_type": "code",
   "execution_count": 5,
   "metadata": {},
   "outputs": [
    {
     "data": {
      "text/plain": [
       "array([1., 2., 3., 4.])"
      ]
     },
     "execution_count": 5,
     "metadata": {},
     "output_type": "execute_result"
    }
   ],
   "source": [
    "#------------------floor-------------#\n",
    "np1=np.array([1.33,2.44444,3.62342,4.53433])\n",
    "np.floor(np1)"
   ]
  },
  {
   "cell_type": "code",
   "execution_count": 22,
   "metadata": {},
   "outputs": [
    {
     "data": {
      "text/plain": [
       "array([2., 3., 4., 5.])"
      ]
     },
     "execution_count": 22,
     "metadata": {},
     "output_type": "execute_result"
    }
   ],
   "source": [
    "#---------------ceil---------------#\n",
    "# one number greater than the given input number\n",
    "np1=np.array([1.33,2.44444,3.62342,4.53433])\n",
    "np.ceil(np1)"
   ]
  },
  {
   "cell_type": "code",
   "execution_count": 48,
   "metadata": {},
   "outputs": [
    {
     "data": {
      "text/plain": [
       "array([1., 2., 3., 4.])"
      ]
     },
     "execution_count": 48,
     "metadata": {},
     "output_type": "execute_result"
    }
   ],
   "source": [
    "#-------------------fix------------------#\n",
    "np1=np.array([1.33,2.44444,3.62342,4.53433])\n",
    "np.fix(np1)"
   ]
  },
  {
   "cell_type": "code",
   "execution_count": 6,
   "metadata": {},
   "outputs": [
    {
     "data": {
      "text/plain": [
       "array([1., 2., 4., 5.])"
      ]
     },
     "execution_count": 6,
     "metadata": {},
     "output_type": "execute_result"
    }
   ],
   "source": [
    "#-----------------rint-------------------#\n",
    "np1=np.array([1.33,2.44444,3.62342,4.53433])\n",
    "np.rint(np1)"
   ]
  },
  {
   "cell_type": "markdown",
   "metadata": {},
   "source": [
    "# Mathematics function "
   ]
  },
  {
   "cell_type": "code",
   "execution_count": 29,
   "metadata": {},
   "outputs": [
    {
     "name": "stdout",
     "output_type": "stream",
     "text": [
      "[-2 -3 -4 -5 -6 -7 -8]\n"
     ]
    }
   ],
   "source": [
    "#-----------negative------------------#\n",
    "np2=np.array([2,3,4,5,6,7,8])\n",
    "np3=np.array([2,3,4,5,6,7,8])\n",
    "res=np.negative(np2)\n",
    "print(res)"
   ]
  },
  {
   "cell_type": "code",
   "execution_count": 8,
   "metadata": {},
   "outputs": [
    {
     "data": {
      "text/plain": [
       "array([       8,       81,      256,     3125,    46656,   823543,\n",
       "       16777216])"
      ]
     },
     "execution_count": 8,
     "metadata": {},
     "output_type": "execute_result"
    }
   ],
   "source": [
    "#--------flat power-------------#\n",
    "np2=np.array([2,3,4,5,6,7,8])\n",
    "np3=np.array([3,4,4,5,6,7,8])\n",
    "res=np.float_power(np2,np3)\n",
    "np.array(res,dtype='int')\n"
   ]
  },
  {
   "cell_type": "code",
   "execution_count": 3,
   "metadata": {},
   "outputs": [
    {
     "name": "stdout",
     "output_type": "stream",
     "text": [
      "3.769230769230769\n"
     ]
    }
   ],
   "source": [
    "#--------------average-------------#\n",
    "import numpy as np\n",
    "np3=np.array([2,3,4,5])\n",
    "res=np.average(np3,weights=[2,3,4,4])\n",
    "print(res)"
   ]
  },
  {
   "cell_type": "code",
   "execution_count": null,
   "metadata": {},
   "outputs": [],
   "source": []
  }
 ],
 "metadata": {
  "kernelspec": {
   "display_name": "Python 3",
   "language": "python",
   "name": "python3"
  },
  "language_info": {
   "codemirror_mode": {
    "name": "ipython",
    "version": 3
   },
   "file_extension": ".py",
   "mimetype": "text/x-python",
   "name": "python",
   "nbconvert_exporter": "python",
   "pygments_lexer": "ipython3",
   "version": "3.8.3"
  }
 },
 "nbformat": 4,
 "nbformat_minor": 4
}
