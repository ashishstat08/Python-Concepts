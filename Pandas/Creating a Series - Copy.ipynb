{
 "cells": [
  {
   "cell_type": "markdown",
   "metadata": {},
   "source": [
    "# Pandas Series \n",
    "- Pandas Series is a one-dimensional labeled array capable of holding data of any type (integer, string, float, python objects, etc.). The axis labels are collectively called index. Pandas Series is nothing but a column in an excel sheet."
   ]
  },
  {
   "cell_type": "code",
   "execution_count": 1,
   "metadata": {},
   "outputs": [],
   "source": [
    "import numpy as np \n",
    "import pandas as pd\n"
   ]
  },
  {
   "cell_type": "code",
   "execution_count": 2,
   "metadata": {},
   "outputs": [
    {
     "name": "stdout",
     "output_type": "stream",
     "text": [
      "0     1\n",
      "1     2\n",
      "2     3\n",
      "3     4\n",
      "4    55\n",
      "5     6\n",
      "dtype: int32\n"
     ]
    }
   ],
   "source": [
    "#----------------creating series using array--------------------#\n",
    "ser=pd.Series() # this is a empty series\n",
    "dat=np.array([1,2,3,4,55,6])\n",
    "ser=pd.Series(dat)\n",
    "print(ser)"
   ]
  },
  {
   "cell_type": "code",
   "execution_count": 8,
   "metadata": {},
   "outputs": [
    {
     "name": "stdout",
     "output_type": "stream",
     "text": [
      "0               2\n",
      "1               3\n",
      "2               4\n",
      "3               5\n",
      "4          ashish\n",
      "5          dhakad\n",
      "6    [2, 3, 4, 5]\n",
      "dtype: object\n"
     ]
    }
   ],
   "source": [
    "#---------------creating series from a list-------------------#\n",
    "lis=[2,3,4,5,'ashish','dhakad',[2,3,4,5]]\n",
    "ser1=pd.Series(lis)\n",
    "print(ser1)\n"
   ]
  },
  {
   "cell_type": "code",
   "execution_count": 27,
   "metadata": {},
   "outputs": [
    {
     "name": "stdout",
     "output_type": "stream",
     "text": [
      "0               2\n",
      "1               3\n",
      "2               4\n",
      "3               5\n",
      "4          ashish\n",
      "5          dhakad\n",
      "6    [4, 5, 4, 2]\n",
      "dtype: object\n"
     ]
    },
    {
     "data": {
      "text/plain": [
       "[4, 5, 4, 5]"
      ]
     },
     "execution_count": 27,
     "metadata": {},
     "output_type": "execute_result"
    }
   ],
   "source": [
    "#----------aceesing the elements----------------#\n",
    "ser1[:3]\n",
    "#2\n",
    "ser1[2]\n",
    "#change the element of the series\n",
    "ser1[6][:2]=[4,5]\n",
    "print(ser1)\n",
    "\n",
    "#we can also assing a position value to the multiple values in the series\n",
    "a,b,c,d,e,s,w=ser1\n",
    "w[3]=5\n",
    "w"
   ]
  },
  {
   "cell_type": "code",
   "execution_count": null,
   "metadata": {},
   "outputs": [],
   "source": []
  }
 ],
 "metadata": {
  "kernelspec": {
   "display_name": "Python 3",
   "language": "python",
   "name": "python3"
  },
  "language_info": {
   "codemirror_mode": {
    "name": "ipython",
    "version": 3
   },
   "file_extension": ".py",
   "mimetype": "text/x-python",
   "name": "python",
   "nbconvert_exporter": "python",
   "pygments_lexer": "ipython3",
   "version": "3.7.4"
  }
 },
 "nbformat": 4,
 "nbformat_minor": 4
}
