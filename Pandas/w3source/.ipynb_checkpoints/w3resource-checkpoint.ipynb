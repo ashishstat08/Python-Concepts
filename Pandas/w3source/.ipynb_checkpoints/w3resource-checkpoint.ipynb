{
 "cells": [
  {
   "cell_type": "markdown",
   "metadata": {},
   "source": [
    "# pandas practice "
   ]
  },
  {
   "cell_type": "markdown",
   "metadata": {},
   "source": [
    "# Data Series "
   ]
  },
  {
   "cell_type": "code",
   "execution_count": 2,
   "metadata": {},
   "outputs": [],
   "source": [
    "import numpy as np \n",
    "import pandas as pd \n",
    "import matplotlib as plt"
   ]
  },
  {
   "cell_type": "code",
   "execution_count": 33,
   "metadata": {
    "collapsed": true,
    "jupyter": {
     "outputs_hidden": true
    }
   },
   "outputs": [
    {
     "name": "stdout",
     "output_type": "stream",
     "text": [
      "0    1\n",
      "1    2\n",
      "2    3\n",
      "3    4\n",
      "4    5\n",
      "dtype: int64\n",
      "[1 2 3 4 5]\n"
     ]
    }
   ],
   "source": [
    "#1 Write a Python program to create and display a one-dimensional array-like object containing an array of data using Pandas module\n",
    "\n",
    "df=pd.Series([1,2,3,4,5])\n",
    "df_new=np.array(df)\n",
    "type(df_new)\n",
    "df_new.ndim\n",
    "print(df)\n",
    "\n",
    "print(df_new)\n"
   ]
  },
  {
   "cell_type": "code",
   "execution_count": 18,
   "metadata": {
    "collapsed": true,
    "jupyter": {
     "outputs_hidden": true
    }
   },
   "outputs": [
    {
     "data": {
      "text/plain": [
       "[1, 2, 3, 4, 5]"
      ]
     },
     "execution_count": 18,
     "metadata": {},
     "output_type": "execute_result"
    }
   ],
   "source": [
    "#2 Write a Python program to convert a Panda module Series to Python list and it's type\n",
    "df_ne=df.tolist()\n",
    "df_ne\n",
    "\n",
    "#or\n",
    "df_n=list(df)\n",
    "df_n"
   ]
  },
  {
   "cell_type": "code",
   "execution_count": 24,
   "metadata": {
    "collapsed": true,
    "jupyter": {
     "outputs_hidden": true
    }
   },
   "outputs": [
    {
     "name": "stdout",
     "output_type": "stream",
     "text": [
      "0     3\n",
      "1     7\n",
      "2    11\n",
      "3    15\n",
      "4    19\n",
      "dtype: int64\n",
      "0     2\n",
      "1    12\n",
      "2    30\n",
      "3    56\n",
      "4    90\n",
      "dtype: int64\n"
     ]
    }
   ],
   "source": [
    " #Write a Python program to add, subtract, multiple and divide two Pandas Series. Go to the editor\n",
    "#Sample Series: [2, 4, 6, 8, 10], [1, 3, 5, 7, 9]\n",
    "\n",
    "s1=pd.Series([2, 4, 6, 8, 10])\n",
    "s2=pd.Series([1, 3, 5, 7, 9])\n",
    "\n",
    "#addition\n",
    "add=s1+s2\n",
    "print(add)\n",
    "\n",
    "#multiplication\n",
    "mul=s1*s2\n",
    "print(mul)"
   ]
  },
  {
   "cell_type": "code",
   "execution_count": 31,
   "metadata": {
    "collapsed": true,
    "jupyter": {
     "outputs_hidden": true
    }
   },
   "outputs": [
    {
     "data": {
      "text/plain": [
       "0    100.0\n",
       "1    200.0\n",
       "2      NaN\n",
       "3    200.2\n",
       "dtype: float64"
      ]
     },
     "execution_count": 31,
     "metadata": {},
     "output_type": "execute_result"
    }
   ],
   "source": [
    "# Write a Python program to change the data type of given a column or a Series.\n",
    "df=pd.Series([100,200,'python',200.2])\n",
    "df.dtypes\n",
    "pd.to_numeric(df,errors='coerce')"
   ]
  },
  {
   "cell_type": "code",
   "execution_count": 38,
   "metadata": {
    "collapsed": true,
    "jupyter": {
     "outputs_hidden": true
    }
   },
   "outputs": [
    {
     "name": "stdout",
     "output_type": "stream",
     "text": [
      "Original Series of list\n",
      "0    [Red, Green, White]\n",
      "1           [Red, Black]\n",
      "2               [Yellow]\n",
      "dtype: object\n",
      "One Series\n",
      "0       Red\n",
      "1     Green\n",
      "2     White\n",
      "3       Red\n",
      "4     Black\n",
      "5    Yellow\n",
      "dtype: object\n"
     ]
    }
   ],
   "source": [
    "# Write a Pandas program to convert Series of lists to one Series\n",
    "\n",
    "import pandas as pd\n",
    "s = pd.Series([\n",
    "    ['Red', 'Green', 'White'],\n",
    "    ['Red', 'Black'],\n",
    "    ['Yellow']])\n",
    "print(\"Original Series of list\")\n",
    "print(s)\n",
    "s = s.apply(pd.Series).stack().reset_index(drop=True)\n",
    "print(\"One Series\")\n",
    "print(s)"
   ]
  },
  {
   "cell_type": "code",
   "execution_count": 51,
   "metadata": {
    "collapsed": true,
    "jupyter": {
     "outputs_hidden": true
    }
   },
   "outputs": [
    {
     "data": {
      "text/plain": [
       "0    1\n",
       "1    2\n",
       "3    3\n",
       "2    4\n",
       "dtype: int64"
      ]
     },
     "execution_count": 51,
     "metadata": {},
     "output_type": "execute_result"
    }
   ],
   "source": [
    "#Write a Pandas program to sort a given Series\n",
    "new=pd.Series([1,2,4,3])\n",
    "sorted(new)\n",
    "#or \n",
    "new.sort_values()"
   ]
  },
  {
   "cell_type": "code",
   "execution_count": 55,
   "metadata": {
    "collapsed": true,
    "jupyter": {
     "outputs_hidden": true
    }
   },
   "outputs": [
    {
     "data": {
      "text/plain": [
       "B     2\n",
       "C    34\n",
       "A     1\n",
       "D     5\n",
       "E     3\n",
       "dtype: int64"
      ]
     },
     "execution_count": 55,
     "metadata": {},
     "output_type": "execute_result"
    }
   ],
   "source": [
    "#Write a Pandas program to change the order of index of a given series\n",
    "new=pd.Series(data=[1,2,34,5,3],index='A B C D E'.split())\n",
    "new.reindex(index='B C A D E'.split())"
   ]
  },
  {
   "cell_type": "code",
   "execution_count": 66,
   "metadata": {
    "collapsed": true,
    "jupyter": {
     "outputs_hidden": true
    }
   },
   "outputs": [
    {
     "name": "stdout",
     "output_type": "stream",
     "text": [
      "0    1\n",
      "2    3\n",
      "4    5\n",
      "dtype: int64\n"
     ]
    }
   ],
   "source": [
    "#Write a Pandas program to get the items of a given series not present in another given series.\n",
    "sr1=pd.Series([1,2,3,4,5])\n",
    "sr2=pd.Series([2,4,6,7,8])\n",
    "res= sr1[~sr1.isin(sr2)]\n",
    "print(res)\n"
   ]
  },
  {
   "cell_type": "code",
   "execution_count": 74,
   "metadata": {
    "collapsed": true,
    "jupyter": {
     "outputs_hidden": true
    }
   },
   "outputs": [
    {
     "data": {
      "text/plain": [
       "5     2\n",
       "4     2\n",
       "2     2\n",
       "33    2\n",
       "44    1\n",
       "7     1\n",
       "6     1\n",
       "3     1\n",
       "dtype: int64"
      ]
     },
     "execution_count": 74,
     "metadata": {},
     "output_type": "execute_result"
    }
   ],
   "source": [
    "## to calculate the freqeuency of ecah values \n",
    "sr3=pd.Series([2,3,4,5,5,6,4,7,33,44,33,2])\n",
    "pd.value_counts(sr3)\n"
   ]
  },
  {
   "cell_type": "code",
   "execution_count": 86,
   "metadata": {},
   "outputs": [
    {
     "data": {
      "text/plain": [
       "3     5\n",
       "8    10\n",
       "dtype: int64"
      ]
     },
     "execution_count": 86,
     "metadata": {},
     "output_type": "execute_result"
    }
   ],
   "source": [
    "# write number of values which multiple of 5\n",
    "sr4=pd.Series([2,3,4,5,6,7,8,9,10])\n",
    "res=np.where(sr4 %5==0)\n",
    "res\n",
    "sr4.loc[res]"
   ]
  },
  {
   "cell_type": "code",
   "execution_count": 104,
   "metadata": {
    "collapsed": true,
    "jupyter": {
     "outputs_hidden": true
    }
   },
   "outputs": [
    {
     "name": "stdout",
     "output_type": "stream",
     "text": [
      "Original Series:\n",
      "0     1\n",
      "1     2\n",
      "2     3\n",
      "3     4\n",
      "4     5\n",
      "5     6\n",
      "6     7\n",
      "7     8\n",
      "8     9\n",
      "9    10\n",
      "dtype: int64\n",
      "0     1\n",
      "1     3\n",
      "2     5\n",
      "3     7\n",
      "4    10\n",
      "dtype: int64\n",
      "Positions of items of series2 in series1:\n",
      "[0, 2, 4, 6, 9]\n"
     ]
    }
   ],
   "source": [
    "# Write a Pandas program to get the positions of items of a given series in another given series\n",
    "import pandas as pd\n",
    "series1 = pd.Series([1, 2, 3, 4, 5, 6, 7, 8, 9, 10])\n",
    "series2 = pd.Series([1, 3, 5, 7, 10])\n",
    "print(\"Original Series:\")\n",
    "print(series1)\n",
    "print(series2)\n",
    "result = [pd.Index(series1).get_loc(i) for i in series2]\n",
    "print(\"Positions of items of series2 in series1:\")\n",
    "print(result)"
   ]
  },
  {
   "cell_type": "code",
   "execution_count": 10,
   "metadata": {},
   "outputs": [
    {
     "data": {
      "text/plain": [
       "2    4\n",
       "3    6\n",
       "4    5\n",
       "5    5\n",
       "6    4\n",
       "6    4\n",
       "5    5\n",
       "dtype: object"
      ]
     },
     "execution_count": 10,
     "metadata": {},
     "output_type": "execute_result"
    }
   ],
   "source": [
    "# Write a Pandas program to extract items at given positions of a given series.\n",
    "\n",
    "ser1= pd.Series(list('234655453545365464645765643887'))\n",
    "ser1.head()\n",
    "index_ext=[2,3,4,5,6,6,5]\n",
    "ser1.take(index_ext)"
   ]
  },
  {
   "cell_type": "code",
   "execution_count": 12,
   "metadata": {},
   "outputs": [
    {
     "name": "stdout",
     "output_type": "stream",
     "text": [
      "PhP\n",
      "PythoN\n",
      "JavA\n",
      "C#\n"
     ]
    }
   ],
   "source": [
    "#Write a Pandas program convert the first and last character of each word to upper case in each word of a given series.\n",
    "\n",
    "series1 = pd.Series(['php', 'python', 'java', 'c#'])\n",
    "\n",
    "for i in series1:\n",
    "    res=i[0].upper()+i[1:-1] + i[-1].upper()\n",
    "    print(res)"
   ]
  },
  {
   "cell_type": "code",
   "execution_count": 30,
   "metadata": {},
   "outputs": [
    {
     "data": {
      "text/plain": [
       "0    3\n",
       "1    6\n",
       "2    4\n",
       "3    1\n",
       "dtype: int64"
      ]
     },
     "execution_count": 30,
     "metadata": {},
     "output_type": "execute_result"
    }
   ],
   "source": [
    "# Write a Pandas program to calculate the number of characters in each word in a given series\n",
    "series1 = pd.Series(['php', 'python', 'java', 'c'])\n",
    "\n",
    "series1.map(len,x)\n",
    "#or\n",
    "series1.map(lambda x : len(x))\n"
   ]
  },
  {
   "cell_type": "code",
   "execution_count": 41,
   "metadata": {},
   "outputs": [
    {
     "name": "stdout",
     "output_type": "stream",
     "text": [
      "[nan, 1.0, 1.0, 1.0, 1.0, 51.0, -49.0, 81.0]\n"
     ]
    }
   ],
   "source": [
    "ser1= pd.Series([1,2,3,4,5,56,7,88])\n",
    "print(ser1.diff().tolist())"
   ]
  },
  {
   "cell_type": "code",
   "execution_count": 54,
   "metadata": {},
   "outputs": [
    {
     "name": "stdout",
     "output_type": "stream",
     "text": [
      "Original Series:\n",
      "0         01 Jan 2015\n",
      "1          10-02-2016\n",
      "2            20180307\n",
      "3          2014/05/06\n",
      "4          2016-04-12\n",
      "5    2019-04-06T11:20\n",
      "dtype: object\n",
      "\n",
      "Series of date strings to a timeseries:\n",
      "0   2015-01-01 00:00:00\n",
      "1   2016-10-02 00:00:00\n",
      "2   2018-03-07 00:00:00\n",
      "3   2014-05-06 00:00:00\n",
      "4   2016-04-12 00:00:00\n",
      "5   2019-04-06 11:20:00\n",
      "dtype: datetime64[ns]\n"
     ]
    }
   ],
   "source": [
    " # Write a Pandas program to convert a series of date strings to a timeseries\n",
    "import datetime\n",
    "date_series = pd.Series(['01 Jan 2015', '10-02-2016', '20180307', '2014/05/06', '2016-04-12', '2019-04-06T11:20'])\n",
    "print(\"Original Series:\")\n",
    "print(date_series)\n",
    "print(\"\\nSeries of date strings to a timeseries:\")\n",
    "print(pd.to_datetime(date_series))"
   ]
  },
  {
   "cell_type": "code",
   "execution_count": 60,
   "metadata": {
    "collapsed": true,
    "jupyter": {
     "outputs_hidden": true
    }
   },
   "outputs": [
    {
     "name": "stdout",
     "output_type": "stream",
     "text": [
      "Original Series:\n",
      "0         01 Jan 2015\n",
      "1          10-02-2016\n",
      "2            20180307\n",
      "3          2014/05/06\n",
      "4          2016-04-12\n",
      "5    2019-04-06T11:20\n",
      "dtype: object\n",
      "Day of month:\n"
     ]
    },
    {
     "ename": "AttributeError",
     "evalue": "Can only use .dt accessor with datetimelike values",
     "output_type": "error",
     "traceback": [
      "\u001b[1;31m---------------------------------------------------------------------------\u001b[0m",
      "\u001b[1;31mAttributeError\u001b[0m                            Traceback (most recent call last)",
      "\u001b[1;32m<ipython-input-60-f6c8d4a193f7>\u001b[0m in \u001b[0;36m<module>\u001b[1;34m\u001b[0m\n\u001b[0;32m      6\u001b[0m \u001b[1;33m\u001b[0m\u001b[0m\n\u001b[0;32m      7\u001b[0m \u001b[0mprint\u001b[0m\u001b[1;33m(\u001b[0m\u001b[1;34m\"Day of month:\"\u001b[0m\u001b[1;33m)\u001b[0m\u001b[1;33m\u001b[0m\u001b[1;33m\u001b[0m\u001b[0m\n\u001b[1;32m----> 8\u001b[1;33m \u001b[0mprint\u001b[0m\u001b[1;33m(\u001b[0m\u001b[0mdate_series\u001b[0m\u001b[1;33m.\u001b[0m\u001b[0mdt\u001b[0m\u001b[1;33m.\u001b[0m\u001b[0mday\u001b[0m\u001b[1;33m.\u001b[0m\u001b[0mtolist\u001b[0m\u001b[1;33m(\u001b[0m\u001b[1;33m)\u001b[0m\u001b[1;33m)\u001b[0m\u001b[1;33m\u001b[0m\u001b[1;33m\u001b[0m\u001b[0m\n\u001b[0m\u001b[0;32m      9\u001b[0m \u001b[0mprint\u001b[0m\u001b[1;33m(\u001b[0m\u001b[1;34m\"Day of year:\"\u001b[0m\u001b[1;33m)\u001b[0m\u001b[1;33m\u001b[0m\u001b[1;33m\u001b[0m\u001b[0m\n\u001b[0;32m     10\u001b[0m \u001b[0mprint\u001b[0m\u001b[1;33m(\u001b[0m\u001b[0mdate_series\u001b[0m\u001b[1;33m.\u001b[0m\u001b[0mdt\u001b[0m\u001b[1;33m.\u001b[0m\u001b[0mdayofyear\u001b[0m\u001b[1;33m.\u001b[0m\u001b[0mtolist\u001b[0m\u001b[1;33m(\u001b[0m\u001b[1;33m)\u001b[0m\u001b[1;33m)\u001b[0m\u001b[1;33m\u001b[0m\u001b[1;33m\u001b[0m\u001b[0m\n",
      "\u001b[1;32m~\\anaconda3\\lib\\site-packages\\pandas\\core\\generic.py\u001b[0m in \u001b[0;36m__getattr__\u001b[1;34m(self, name)\u001b[0m\n\u001b[0;32m   5268\u001b[0m             \u001b[1;32mor\u001b[0m \u001b[0mname\u001b[0m \u001b[1;32min\u001b[0m \u001b[0mself\u001b[0m\u001b[1;33m.\u001b[0m\u001b[0m_accessors\u001b[0m\u001b[1;33m\u001b[0m\u001b[1;33m\u001b[0m\u001b[0m\n\u001b[0;32m   5269\u001b[0m         ):\n\u001b[1;32m-> 5270\u001b[1;33m             \u001b[1;32mreturn\u001b[0m \u001b[0mobject\u001b[0m\u001b[1;33m.\u001b[0m\u001b[0m__getattribute__\u001b[0m\u001b[1;33m(\u001b[0m\u001b[0mself\u001b[0m\u001b[1;33m,\u001b[0m \u001b[0mname\u001b[0m\u001b[1;33m)\u001b[0m\u001b[1;33m\u001b[0m\u001b[1;33m\u001b[0m\u001b[0m\n\u001b[0m\u001b[0;32m   5271\u001b[0m         \u001b[1;32melse\u001b[0m\u001b[1;33m:\u001b[0m\u001b[1;33m\u001b[0m\u001b[1;33m\u001b[0m\u001b[0m\n\u001b[0;32m   5272\u001b[0m             \u001b[1;32mif\u001b[0m \u001b[0mself\u001b[0m\u001b[1;33m.\u001b[0m\u001b[0m_info_axis\u001b[0m\u001b[1;33m.\u001b[0m\u001b[0m_can_hold_identifiers_and_holds_name\u001b[0m\u001b[1;33m(\u001b[0m\u001b[0mname\u001b[0m\u001b[1;33m)\u001b[0m\u001b[1;33m:\u001b[0m\u001b[1;33m\u001b[0m\u001b[1;33m\u001b[0m\u001b[0m\n",
      "\u001b[1;32m~\\anaconda3\\lib\\site-packages\\pandas\\core\\accessor.py\u001b[0m in \u001b[0;36m__get__\u001b[1;34m(self, obj, cls)\u001b[0m\n\u001b[0;32m    185\u001b[0m             \u001b[1;31m# we're accessing the attribute of the class, i.e., Dataset.geo\u001b[0m\u001b[1;33m\u001b[0m\u001b[1;33m\u001b[0m\u001b[1;33m\u001b[0m\u001b[0m\n\u001b[0;32m    186\u001b[0m             \u001b[1;32mreturn\u001b[0m \u001b[0mself\u001b[0m\u001b[1;33m.\u001b[0m\u001b[0m_accessor\u001b[0m\u001b[1;33m\u001b[0m\u001b[1;33m\u001b[0m\u001b[0m\n\u001b[1;32m--> 187\u001b[1;33m         \u001b[0maccessor_obj\u001b[0m \u001b[1;33m=\u001b[0m \u001b[0mself\u001b[0m\u001b[1;33m.\u001b[0m\u001b[0m_accessor\u001b[0m\u001b[1;33m(\u001b[0m\u001b[0mobj\u001b[0m\u001b[1;33m)\u001b[0m\u001b[1;33m\u001b[0m\u001b[1;33m\u001b[0m\u001b[0m\n\u001b[0m\u001b[0;32m    188\u001b[0m         \u001b[1;31m# Replace the property with the accessor object. Inspired by:\u001b[0m\u001b[1;33m\u001b[0m\u001b[1;33m\u001b[0m\u001b[1;33m\u001b[0m\u001b[0m\n\u001b[0;32m    189\u001b[0m         \u001b[1;31m# http://www.pydanny.com/cached-property.html\u001b[0m\u001b[1;33m\u001b[0m\u001b[1;33m\u001b[0m\u001b[1;33m\u001b[0m\u001b[0m\n",
      "\u001b[1;32m~\\anaconda3\\lib\\site-packages\\pandas\\core\\indexes\\accessors.py\u001b[0m in \u001b[0;36m__new__\u001b[1;34m(cls, data)\u001b[0m\n\u001b[0;32m    336\u001b[0m             \u001b[1;32mreturn\u001b[0m \u001b[0mDatetimeProperties\u001b[0m\u001b[1;33m(\u001b[0m\u001b[0mdata\u001b[0m\u001b[1;33m,\u001b[0m \u001b[0morig\u001b[0m\u001b[1;33m)\u001b[0m\u001b[1;33m\u001b[0m\u001b[1;33m\u001b[0m\u001b[0m\n\u001b[0;32m    337\u001b[0m \u001b[1;33m\u001b[0m\u001b[0m\n\u001b[1;32m--> 338\u001b[1;33m         \u001b[1;32mraise\u001b[0m \u001b[0mAttributeError\u001b[0m\u001b[1;33m(\u001b[0m\u001b[1;34m\"Can only use .dt accessor with datetimelike values\"\u001b[0m\u001b[1;33m)\u001b[0m\u001b[1;33m\u001b[0m\u001b[1;33m\u001b[0m\u001b[0m\n\u001b[0m",
      "\u001b[1;31mAttributeError\u001b[0m: Can only use .dt accessor with datetimelike values"
     ]
    }
   ],
   "source": [
    " #Write a Pandas program to get the day of month, day of year, week number and day of week from a given series of date strings\n",
    "    \n",
    "date_series = pd.Series(['01 Jan 2015', '10-02-2016', '20180307', '2014/05/06', '2016-04-12', '2019-04-06T11:20'])\n",
    "print(\"Original Series:\")\n",
    "print(date_series)\n",
    "\n",
    "print(\"Day of month:\")\n",
    "print(date_series.dt.day.tolist())\n",
    "print(\"Day of year:\")\n",
    "print(date_series.dt.dayofyear.tolist())\n",
    "print(\"Week number:\")\n",
    "print(date_series.dt.weekofyear.tolist())\n",
    "print(\"Day of week:\")\n",
    "print(date_series.dt.weekday_name.tolist())\n",
    "\n",
    "data_series.dt.month"
   ]
  },
  {
   "cell_type": "code",
   "execution_count": 62,
   "metadata": {
    "collapsed": true,
    "jupyter": {
     "outputs_hidden": true
    }
   },
   "outputs": [
    {
     "ename": "AttributeError",
     "evalue": "Can only use .dt accessor with datetimelike values",
     "output_type": "error",
     "traceback": [
      "\u001b[1;31m---------------------------------------------------------------------------\u001b[0m",
      "\u001b[1;31mAttributeError\u001b[0m                            Traceback (most recent call last)",
      "\u001b[1;32m<ipython-input-62-b6d1a8a0543d>\u001b[0m in \u001b[0;36m<module>\u001b[1;34m\u001b[0m\n\u001b[1;32m----> 1\u001b[1;33m \u001b[0mdate_series\u001b[0m\u001b[1;33m.\u001b[0m\u001b[0mdt\u001b[0m\u001b[1;33m.\u001b[0m\u001b[0myear\u001b[0m\u001b[1;33m(\u001b[0m\u001b[1;33m)\u001b[0m\u001b[1;33m\u001b[0m\u001b[1;33m\u001b[0m\u001b[0m\n\u001b[0m",
      "\u001b[1;32m~\\anaconda3\\lib\\site-packages\\pandas\\core\\generic.py\u001b[0m in \u001b[0;36m__getattr__\u001b[1;34m(self, name)\u001b[0m\n\u001b[0;32m   5268\u001b[0m             \u001b[1;32mor\u001b[0m \u001b[0mname\u001b[0m \u001b[1;32min\u001b[0m \u001b[0mself\u001b[0m\u001b[1;33m.\u001b[0m\u001b[0m_accessors\u001b[0m\u001b[1;33m\u001b[0m\u001b[1;33m\u001b[0m\u001b[0m\n\u001b[0;32m   5269\u001b[0m         ):\n\u001b[1;32m-> 5270\u001b[1;33m             \u001b[1;32mreturn\u001b[0m \u001b[0mobject\u001b[0m\u001b[1;33m.\u001b[0m\u001b[0m__getattribute__\u001b[0m\u001b[1;33m(\u001b[0m\u001b[0mself\u001b[0m\u001b[1;33m,\u001b[0m \u001b[0mname\u001b[0m\u001b[1;33m)\u001b[0m\u001b[1;33m\u001b[0m\u001b[1;33m\u001b[0m\u001b[0m\n\u001b[0m\u001b[0;32m   5271\u001b[0m         \u001b[1;32melse\u001b[0m\u001b[1;33m:\u001b[0m\u001b[1;33m\u001b[0m\u001b[1;33m\u001b[0m\u001b[0m\n\u001b[0;32m   5272\u001b[0m             \u001b[1;32mif\u001b[0m \u001b[0mself\u001b[0m\u001b[1;33m.\u001b[0m\u001b[0m_info_axis\u001b[0m\u001b[1;33m.\u001b[0m\u001b[0m_can_hold_identifiers_and_holds_name\u001b[0m\u001b[1;33m(\u001b[0m\u001b[0mname\u001b[0m\u001b[1;33m)\u001b[0m\u001b[1;33m:\u001b[0m\u001b[1;33m\u001b[0m\u001b[1;33m\u001b[0m\u001b[0m\n",
      "\u001b[1;32m~\\anaconda3\\lib\\site-packages\\pandas\\core\\accessor.py\u001b[0m in \u001b[0;36m__get__\u001b[1;34m(self, obj, cls)\u001b[0m\n\u001b[0;32m    185\u001b[0m             \u001b[1;31m# we're accessing the attribute of the class, i.e., Dataset.geo\u001b[0m\u001b[1;33m\u001b[0m\u001b[1;33m\u001b[0m\u001b[1;33m\u001b[0m\u001b[0m\n\u001b[0;32m    186\u001b[0m             \u001b[1;32mreturn\u001b[0m \u001b[0mself\u001b[0m\u001b[1;33m.\u001b[0m\u001b[0m_accessor\u001b[0m\u001b[1;33m\u001b[0m\u001b[1;33m\u001b[0m\u001b[0m\n\u001b[1;32m--> 187\u001b[1;33m         \u001b[0maccessor_obj\u001b[0m \u001b[1;33m=\u001b[0m \u001b[0mself\u001b[0m\u001b[1;33m.\u001b[0m\u001b[0m_accessor\u001b[0m\u001b[1;33m(\u001b[0m\u001b[0mobj\u001b[0m\u001b[1;33m)\u001b[0m\u001b[1;33m\u001b[0m\u001b[1;33m\u001b[0m\u001b[0m\n\u001b[0m\u001b[0;32m    188\u001b[0m         \u001b[1;31m# Replace the property with the accessor object. Inspired by:\u001b[0m\u001b[1;33m\u001b[0m\u001b[1;33m\u001b[0m\u001b[1;33m\u001b[0m\u001b[0m\n\u001b[0;32m    189\u001b[0m         \u001b[1;31m# http://www.pydanny.com/cached-property.html\u001b[0m\u001b[1;33m\u001b[0m\u001b[1;33m\u001b[0m\u001b[1;33m\u001b[0m\u001b[0m\n",
      "\u001b[1;32m~\\anaconda3\\lib\\site-packages\\pandas\\core\\indexes\\accessors.py\u001b[0m in \u001b[0;36m__new__\u001b[1;34m(cls, data)\u001b[0m\n\u001b[0;32m    336\u001b[0m             \u001b[1;32mreturn\u001b[0m \u001b[0mDatetimeProperties\u001b[0m\u001b[1;33m(\u001b[0m\u001b[0mdata\u001b[0m\u001b[1;33m,\u001b[0m \u001b[0morig\u001b[0m\u001b[1;33m)\u001b[0m\u001b[1;33m\u001b[0m\u001b[1;33m\u001b[0m\u001b[0m\n\u001b[0;32m    337\u001b[0m \u001b[1;33m\u001b[0m\u001b[0m\n\u001b[1;32m--> 338\u001b[1;33m         \u001b[1;32mraise\u001b[0m \u001b[0mAttributeError\u001b[0m\u001b[1;33m(\u001b[0m\u001b[1;34m\"Can only use .dt accessor with datetimelike values\"\u001b[0m\u001b[1;33m)\u001b[0m\u001b[1;33m\u001b[0m\u001b[1;33m\u001b[0m\u001b[0m\n\u001b[0m",
      "\u001b[1;31mAttributeError\u001b[0m: Can only use .dt accessor with datetimelike values"
     ]
    }
   ],
   "source": [
    "date_series.dt.year()"
   ]
  },
  {
   "cell_type": "code",
   "execution_count": 67,
   "metadata": {},
   "outputs": [
    {
     "name": "stdout",
     "output_type": "stream",
     "text": [
      "Red\n",
      "Green\n",
      "Orange\n",
      "Pink\n",
      "Yellow\n",
      "White\n"
     ]
    }
   ],
   "source": [
    "# write the only words which contains only vowel \n",
    "ser=pd.Series('Red Green Orange Pink Yellow White'.split())\n",
    "for i in ser:\n",
    "    i[0]==['a','i','o','u','e']\n",
    "    print(i)"
   ]
  },
  {
   "cell_type": "code",
   "execution_count": 68,
   "metadata": {
    "collapsed": true,
    "jupyter": {
     "outputs_hidden": true
    }
   },
   "outputs": [
    {
     "name": "stdout",
     "output_type": "stream",
     "text": [
      "Original series:\n",
      "0     1\n",
      "1     2\n",
      "2     3\n",
      "3     4\n",
      "4     5\n",
      "5     6\n",
      "6     7\n",
      "7     8\n",
      "8     9\n",
      "9    10\n",
      "dtype: int64\n",
      "0    11\n",
      "1     8\n",
      "2     7\n",
      "3     5\n",
      "4     6\n",
      "5     5\n",
      "6     3\n",
      "7     4\n",
      "8     7\n",
      "9     1\n",
      "dtype: int64\n",
      "\n",
      "Euclidean distance between two said series:\n",
      "16.492422502470642\n"
     ]
    }
   ],
   "source": [
    "# Write a Pandas program to compute the Euclidean distance between two given series.\n",
    "x = pd.Series([1, 2, 3, 4, 5, 6, 7, 8, 9, 10])\n",
    "y = pd.Series([11, 8, 7, 5, 6, 5, 3, 4, 7, 1])\n",
    "print(\"Original series:\")\n",
    "print(x)\n",
    "print(y)\n",
    "print(\"\\nEuclidean distance between two said series:\")\n",
    "print(np.linalg.norm(x-y))\n"
   ]
  },
  {
   "cell_type": "code",
   "execution_count": 69,
   "metadata": {
    "collapsed": true,
    "jupyter": {
     "outputs_hidden": true
    }
   },
   "outputs": [
    {
     "name": "stdout",
     "output_type": "stream",
     "text": [
      "Original series:\n",
      "0     22.633864\n",
      "1     -8.314059\n",
      "2     15.519782\n",
      "3      6.578013\n",
      "4      6.028980\n",
      "5     10.257397\n",
      "6     19.492288\n",
      "7     16.444087\n",
      "8     14.980747\n",
      "9      6.812145\n",
      "10    11.511563\n",
      "11    22.626961\n",
      "12    19.206713\n",
      "13    26.702648\n",
      "14     5.077366\n",
      "dtype: float64\n",
      "\n",
      "Autocorrelations of the said series:\n",
      "[-0.17, 0.16, -0.21, -0.03, 0.15, 0.24, -0.0, -0.01, -0.13, -0.36]\n"
     ]
    }
   ],
   "source": [
    "# Write a Pandas program to compute the autocorrelations of a given numeric series.\n",
    "num_series = pd.Series(np.arange(15) + np.random.normal(1, 10, 15))\n",
    "print(\"Original series:\")\n",
    "print(num_series)\n",
    "autocorrelations = [num_series.autocorr(i).round(2) for i in range(11)]\n",
    "print(\"\\nAutocorrelations of the said series:\")\n",
    "print(autocorrelations[1:])"
   ]
  },
  {
   "cell_type": "code",
   "execution_count": 70,
   "metadata": {
    "collapsed": true,
    "jupyter": {
     "outputs_hidden": true
    }
   },
   "outputs": [
    {
     "name": "stdout",
     "output_type": "stream",
     "text": [
      "All Sundays of 2019:\n",
      "0    2020-01-05\n",
      "1    2020-01-12\n",
      "2    2020-01-19\n",
      "3    2020-01-26\n",
      "4    2020-02-02\n",
      "5    2020-02-09\n",
      "6    2020-02-16\n",
      "7    2020-02-23\n",
      "8    2020-03-01\n",
      "9    2020-03-08\n",
      "10   2020-03-15\n",
      "11   2020-03-22\n",
      "12   2020-03-29\n",
      "13   2020-04-05\n",
      "14   2020-04-12\n",
      "15   2020-04-19\n",
      "16   2020-04-26\n",
      "17   2020-05-03\n",
      "18   2020-05-10\n",
      "19   2020-05-17\n",
      "20   2020-05-24\n",
      "21   2020-05-31\n",
      "22   2020-06-07\n",
      "23   2020-06-14\n",
      "24   2020-06-21\n",
      "25   2020-06-28\n",
      "26   2020-07-05\n",
      "27   2020-07-12\n",
      "28   2020-07-19\n",
      "29   2020-07-26\n",
      "30   2020-08-02\n",
      "31   2020-08-09\n",
      "32   2020-08-16\n",
      "33   2020-08-23\n",
      "34   2020-08-30\n",
      "35   2020-09-06\n",
      "36   2020-09-13\n",
      "37   2020-09-20\n",
      "38   2020-09-27\n",
      "39   2020-10-04\n",
      "40   2020-10-11\n",
      "41   2020-10-18\n",
      "42   2020-10-25\n",
      "43   2020-11-01\n",
      "44   2020-11-08\n",
      "45   2020-11-15\n",
      "46   2020-11-22\n",
      "47   2020-11-29\n",
      "48   2020-12-06\n",
      "49   2020-12-13\n",
      "50   2020-12-20\n",
      "51   2020-12-27\n",
      "dtype: datetime64[ns]\n"
     ]
    }
   ],
   "source": [
    "# Write a Pandas program to create a TimeSeries to display all the Sundays of given year.\n",
    "result = pd.Series(pd.date_range('2020-01-01', periods=52, freq='W-SUN'))\n",
    "print(\"All Sundays of 2019:\")\n",
    "print(result)"
   ]
  },
  {
   "cell_type": "code",
   "execution_count": 71,
   "metadata": {
    "collapsed": true,
    "jupyter": {
     "outputs_hidden": true
    }
   },
   "outputs": [
    {
     "name": "stdout",
     "output_type": "stream",
     "text": [
      "Original Series:\n",
      "0     1\n",
      "1     3\n",
      "2     7\n",
      "3    12\n",
      "4    88\n",
      "5    23\n",
      "6     3\n",
      "7     1\n",
      "8     9\n",
      "9     0\n",
      "dtype: int64\n",
      "Index of the first occurrence of the smallest and largest value of the said series:\n",
      "9\n",
      "4\n"
     ]
    }
   ],
   "source": [
    "# Write a Pandas program to find the index of the first occurrence of the smallest and largest value of a given series.\n",
    "nums = pd.Series([1, 3, 7, 12, 88, 23, 3, 1, 9, 0])\n",
    "print(\"Original Series:\")\n",
    "print(nums)\n",
    "print(\"Index of the first occurrence of the smallest and largest value of the said series:\")\n",
    "print(nums.idxmin())\n",
    "print(nums.idxmax())"
   ]
  },
  {
   "cell_type": "code",
   "execution_count": null,
   "metadata": {},
   "outputs": [],
   "source": [
    "# Write a Pandas program to check inequality over the index axis of a given dataframe and a given series.\n",
    "df_data = pd.DataFrame({'W':[68,75,86,80,None],'X':[78,75,None,80,86], 'Y':[84,94,89,86,86],'Z':[86,97,96,72,83]});\n",
    "sr_data = pd.Series([68, 75, 86, 80, None]) \n",
    "print(\"Original DataFrame:\")\n",
    "print(df_data)\n",
    "print(\"\\nOriginal Series:\")\n",
    "print(sr_data)\n",
    "print(\"\\nCheck for inequality of the said series & dataframe:\")\n"
   ]
  }
 ],
 "metadata": {
  "kernelspec": {
   "display_name": "Python 3",
   "language": "python",
   "name": "python3"
  },
  "language_info": {
   "codemirror_mode": {
    "name": "ipython",
    "version": 3
   },
   "file_extension": ".py",
   "mimetype": "text/x-python",
   "name": "python",
   "nbconvert_exporter": "python",
   "pygments_lexer": "ipython3",
   "version": "3.8.3"
  }
 },
 "nbformat": 4,
 "nbformat_minor": 4
}
